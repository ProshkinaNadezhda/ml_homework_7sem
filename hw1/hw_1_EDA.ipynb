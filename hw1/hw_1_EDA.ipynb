{
  "cells": [
    {
      "cell_type": "markdown",
      "metadata": {
        "id": "AGf_xvZiT0Ww"
      },
      "source": [
        "# Домашнее задание № 1\n",
        "\n",
        "Вам необходимо провести анализ и подготовить данные."
      ]
    },
    {
      "cell_type": "markdown",
      "metadata": {
        "_cell_guid": "d2034be1-8579-d4b9-9b18-b7bf2c6fc651",
        "id": "rWc3WRD0TtVq"
      },
      "source": [
        "# Исходные данные\n",
        "\n",
        "Ознакомьтесь с данными в [источнике](https://www.kaggle.com/uciml/student-alcohol-consumption?select=student-por.csv):\n",
        "\n",
        "Если вкратце, то у вас есть 29 параметров и одна целевая переменная G3."
      ]
    },
    {
      "cell_type": "code",
      "execution_count": 58,
      "metadata": {
        "_cell_guid": "87372d85-e9ac-b3b3-c25d-33dfb357ccd8",
        "id": "pQ5OrqpATtVl"
      },
      "outputs": [],
      "source": [
        "import pandas as pd\n",
        "import matplotlib.pyplot as plt\n",
        "from scipy.stats import spearmanr\n",
        "import seaborn as sns\n",
        "import numpy as np\n",
        "from sklearn.preprocessing import LabelEncoder, MinMaxScaler\n",
        "from sklearn.model_selection import StratifiedKFold, cross_val_score, GridSearchCV, train_test_split\n",
        "from sklearn.neighbors import KNeighborsRegressor, KNeighborsClassifier\n",
        "from sklearn.linear_model import LogisticRegression, LinearRegression\n",
        "from sklearn.svm import SVR\n",
        "from sklearn.naive_bayes import MultinomialNB\n",
        "from sklearn.metrics import mean_squared_error, accuracy_score, precision_score, recall_score, mean_absolute_error\n",
        "from sklearn.impute import KNNImputer\n",
        "import warnings"
      ]
    },
    {
      "cell_type": "code",
      "execution_count": 2,
      "metadata": {
        "id": "ld20XABUWqRQ"
      },
      "outputs": [],
      "source": [
        "warnings.filterwarnings(\"ignore\")"
      ]
    },
    {
      "cell_type": "code",
      "execution_count": 3,
      "metadata": {
        "id": "cE9FdACVcBHd"
      },
      "outputs": [],
      "source": [
        "# Читаем данные\n",
        "\n",
        "X_data = pd.read_csv('train_features_with_answers.csv')"
      ]
    },
    {
      "cell_type": "code",
      "execution_count": 4,
      "metadata": {
        "id": "i1j9Yn9Jhz-S",
        "colab": {
          "base_uri": "https://localhost:8080/",
          "height": 255
        },
        "outputId": "ef12b65c-6c3e-4cf9-8399-83844e9ecc63"
      },
      "outputs": [
        {
          "output_type": "execute_result",
          "data": {
            "text/plain": [
              "  school sex   age address famsize Pstatus  Medu  Fedu      Mjob      Fjob  \\\n",
              "0     MS   M   NaN       U     LE3       T     1     3   at_home  services   \n",
              "1     GP   M   NaN       R     LE3       T     3     3   teacher     other   \n",
              "2     GP   M  15.0     NaN     GT3       T     3     4     other     other   \n",
              "3     MS   M  17.0       R     GT3       T     4     3  services     other   \n",
              "4     GP   F  20.0       R     GT3       T     2     1     other     other   \n",
              "\n",
              "   ... internet romantic  famrel  freetime  goout Dalc Walc health absences  \\\n",
              "0  ...      yes      yes       4         3      3    2    3      3        0   \n",
              "1  ...      yes       no       3         3      4    3    5      3       16   \n",
              "2  ...      yes       no       5         5      1    1    1      5        0   \n",
              "3  ...      yes      yes       4         5      5    1    3      2        4   \n",
              "4  ...      yes      yes       1         2      3    1    2      2        8   \n",
              "\n",
              "   G3  \n",
              "0   9  \n",
              "1  12  \n",
              "2  13  \n",
              "3  11  \n",
              "4  12  \n",
              "\n",
              "[5 rows x 31 columns]"
            ],
            "text/html": [
              "\n",
              "  <div id=\"df-2b20fe06-3569-4a8f-900d-b7dcbd3ee4a4\" class=\"colab-df-container\">\n",
              "    <div>\n",
              "<style scoped>\n",
              "    .dataframe tbody tr th:only-of-type {\n",
              "        vertical-align: middle;\n",
              "    }\n",
              "\n",
              "    .dataframe tbody tr th {\n",
              "        vertical-align: top;\n",
              "    }\n",
              "\n",
              "    .dataframe thead th {\n",
              "        text-align: right;\n",
              "    }\n",
              "</style>\n",
              "<table border=\"1\" class=\"dataframe\">\n",
              "  <thead>\n",
              "    <tr style=\"text-align: right;\">\n",
              "      <th></th>\n",
              "      <th>school</th>\n",
              "      <th>sex</th>\n",
              "      <th>age</th>\n",
              "      <th>address</th>\n",
              "      <th>famsize</th>\n",
              "      <th>Pstatus</th>\n",
              "      <th>Medu</th>\n",
              "      <th>Fedu</th>\n",
              "      <th>Mjob</th>\n",
              "      <th>Fjob</th>\n",
              "      <th>...</th>\n",
              "      <th>internet</th>\n",
              "      <th>romantic</th>\n",
              "      <th>famrel</th>\n",
              "      <th>freetime</th>\n",
              "      <th>goout</th>\n",
              "      <th>Dalc</th>\n",
              "      <th>Walc</th>\n",
              "      <th>health</th>\n",
              "      <th>absences</th>\n",
              "      <th>G3</th>\n",
              "    </tr>\n",
              "  </thead>\n",
              "  <tbody>\n",
              "    <tr>\n",
              "      <th>0</th>\n",
              "      <td>MS</td>\n",
              "      <td>M</td>\n",
              "      <td>NaN</td>\n",
              "      <td>U</td>\n",
              "      <td>LE3</td>\n",
              "      <td>T</td>\n",
              "      <td>1</td>\n",
              "      <td>3</td>\n",
              "      <td>at_home</td>\n",
              "      <td>services</td>\n",
              "      <td>...</td>\n",
              "      <td>yes</td>\n",
              "      <td>yes</td>\n",
              "      <td>4</td>\n",
              "      <td>3</td>\n",
              "      <td>3</td>\n",
              "      <td>2</td>\n",
              "      <td>3</td>\n",
              "      <td>3</td>\n",
              "      <td>0</td>\n",
              "      <td>9</td>\n",
              "    </tr>\n",
              "    <tr>\n",
              "      <th>1</th>\n",
              "      <td>GP</td>\n",
              "      <td>M</td>\n",
              "      <td>NaN</td>\n",
              "      <td>R</td>\n",
              "      <td>LE3</td>\n",
              "      <td>T</td>\n",
              "      <td>3</td>\n",
              "      <td>3</td>\n",
              "      <td>teacher</td>\n",
              "      <td>other</td>\n",
              "      <td>...</td>\n",
              "      <td>yes</td>\n",
              "      <td>no</td>\n",
              "      <td>3</td>\n",
              "      <td>3</td>\n",
              "      <td>4</td>\n",
              "      <td>3</td>\n",
              "      <td>5</td>\n",
              "      <td>3</td>\n",
              "      <td>16</td>\n",
              "      <td>12</td>\n",
              "    </tr>\n",
              "    <tr>\n",
              "      <th>2</th>\n",
              "      <td>GP</td>\n",
              "      <td>M</td>\n",
              "      <td>15.0</td>\n",
              "      <td>NaN</td>\n",
              "      <td>GT3</td>\n",
              "      <td>T</td>\n",
              "      <td>3</td>\n",
              "      <td>4</td>\n",
              "      <td>other</td>\n",
              "      <td>other</td>\n",
              "      <td>...</td>\n",
              "      <td>yes</td>\n",
              "      <td>no</td>\n",
              "      <td>5</td>\n",
              "      <td>5</td>\n",
              "      <td>1</td>\n",
              "      <td>1</td>\n",
              "      <td>1</td>\n",
              "      <td>5</td>\n",
              "      <td>0</td>\n",
              "      <td>13</td>\n",
              "    </tr>\n",
              "    <tr>\n",
              "      <th>3</th>\n",
              "      <td>MS</td>\n",
              "      <td>M</td>\n",
              "      <td>17.0</td>\n",
              "      <td>R</td>\n",
              "      <td>GT3</td>\n",
              "      <td>T</td>\n",
              "      <td>4</td>\n",
              "      <td>3</td>\n",
              "      <td>services</td>\n",
              "      <td>other</td>\n",
              "      <td>...</td>\n",
              "      <td>yes</td>\n",
              "      <td>yes</td>\n",
              "      <td>4</td>\n",
              "      <td>5</td>\n",
              "      <td>5</td>\n",
              "      <td>1</td>\n",
              "      <td>3</td>\n",
              "      <td>2</td>\n",
              "      <td>4</td>\n",
              "      <td>11</td>\n",
              "    </tr>\n",
              "    <tr>\n",
              "      <th>4</th>\n",
              "      <td>GP</td>\n",
              "      <td>F</td>\n",
              "      <td>20.0</td>\n",
              "      <td>R</td>\n",
              "      <td>GT3</td>\n",
              "      <td>T</td>\n",
              "      <td>2</td>\n",
              "      <td>1</td>\n",
              "      <td>other</td>\n",
              "      <td>other</td>\n",
              "      <td>...</td>\n",
              "      <td>yes</td>\n",
              "      <td>yes</td>\n",
              "      <td>1</td>\n",
              "      <td>2</td>\n",
              "      <td>3</td>\n",
              "      <td>1</td>\n",
              "      <td>2</td>\n",
              "      <td>2</td>\n",
              "      <td>8</td>\n",
              "      <td>12</td>\n",
              "    </tr>\n",
              "  </tbody>\n",
              "</table>\n",
              "<p>5 rows × 31 columns</p>\n",
              "</div>\n",
              "    <div class=\"colab-df-buttons\">\n",
              "\n",
              "  <div class=\"colab-df-container\">\n",
              "    <button class=\"colab-df-convert\" onclick=\"convertToInteractive('df-2b20fe06-3569-4a8f-900d-b7dcbd3ee4a4')\"\n",
              "            title=\"Convert this dataframe to an interactive table.\"\n",
              "            style=\"display:none;\">\n",
              "\n",
              "  <svg xmlns=\"http://www.w3.org/2000/svg\" height=\"24px\" viewBox=\"0 -960 960 960\">\n",
              "    <path d=\"M120-120v-720h720v720H120Zm60-500h600v-160H180v160Zm220 220h160v-160H400v160Zm0 220h160v-160H400v160ZM180-400h160v-160H180v160Zm440 0h160v-160H620v160ZM180-180h160v-160H180v160Zm440 0h160v-160H620v160Z\"/>\n",
              "  </svg>\n",
              "    </button>\n",
              "\n",
              "  <style>\n",
              "    .colab-df-container {\n",
              "      display:flex;\n",
              "      gap: 12px;\n",
              "    }\n",
              "\n",
              "    .colab-df-convert {\n",
              "      background-color: #E8F0FE;\n",
              "      border: none;\n",
              "      border-radius: 50%;\n",
              "      cursor: pointer;\n",
              "      display: none;\n",
              "      fill: #1967D2;\n",
              "      height: 32px;\n",
              "      padding: 0 0 0 0;\n",
              "      width: 32px;\n",
              "    }\n",
              "\n",
              "    .colab-df-convert:hover {\n",
              "      background-color: #E2EBFA;\n",
              "      box-shadow: 0px 1px 2px rgba(60, 64, 67, 0.3), 0px 1px 3px 1px rgba(60, 64, 67, 0.15);\n",
              "      fill: #174EA6;\n",
              "    }\n",
              "\n",
              "    .colab-df-buttons div {\n",
              "      margin-bottom: 4px;\n",
              "    }\n",
              "\n",
              "    [theme=dark] .colab-df-convert {\n",
              "      background-color: #3B4455;\n",
              "      fill: #D2E3FC;\n",
              "    }\n",
              "\n",
              "    [theme=dark] .colab-df-convert:hover {\n",
              "      background-color: #434B5C;\n",
              "      box-shadow: 0px 1px 3px 1px rgba(0, 0, 0, 0.15);\n",
              "      filter: drop-shadow(0px 1px 2px rgba(0, 0, 0, 0.3));\n",
              "      fill: #FFFFFF;\n",
              "    }\n",
              "  </style>\n",
              "\n",
              "    <script>\n",
              "      const buttonEl =\n",
              "        document.querySelector('#df-2b20fe06-3569-4a8f-900d-b7dcbd3ee4a4 button.colab-df-convert');\n",
              "      buttonEl.style.display =\n",
              "        google.colab.kernel.accessAllowed ? 'block' : 'none';\n",
              "\n",
              "      async function convertToInteractive(key) {\n",
              "        const element = document.querySelector('#df-2b20fe06-3569-4a8f-900d-b7dcbd3ee4a4');\n",
              "        const dataTable =\n",
              "          await google.colab.kernel.invokeFunction('convertToInteractive',\n",
              "                                                    [key], {});\n",
              "        if (!dataTable) return;\n",
              "\n",
              "        const docLinkHtml = 'Like what you see? Visit the ' +\n",
              "          '<a target=\"_blank\" href=https://colab.research.google.com/notebooks/data_table.ipynb>data table notebook</a>'\n",
              "          + ' to learn more about interactive tables.';\n",
              "        element.innerHTML = '';\n",
              "        dataTable['output_type'] = 'display_data';\n",
              "        await google.colab.output.renderOutput(dataTable, element);\n",
              "        const docLink = document.createElement('div');\n",
              "        docLink.innerHTML = docLinkHtml;\n",
              "        element.appendChild(docLink);\n",
              "      }\n",
              "    </script>\n",
              "  </div>\n",
              "\n",
              "\n",
              "<div id=\"df-1822a81a-40aa-48ad-a622-e776516c61b2\">\n",
              "  <button class=\"colab-df-quickchart\" onclick=\"quickchart('df-1822a81a-40aa-48ad-a622-e776516c61b2')\"\n",
              "            title=\"Suggest charts\"\n",
              "            style=\"display:none;\">\n",
              "\n",
              "<svg xmlns=\"http://www.w3.org/2000/svg\" height=\"24px\"viewBox=\"0 0 24 24\"\n",
              "     width=\"24px\">\n",
              "    <g>\n",
              "        <path d=\"M19 3H5c-1.1 0-2 .9-2 2v14c0 1.1.9 2 2 2h14c1.1 0 2-.9 2-2V5c0-1.1-.9-2-2-2zM9 17H7v-7h2v7zm4 0h-2V7h2v10zm4 0h-2v-4h2v4z\"/>\n",
              "    </g>\n",
              "</svg>\n",
              "  </button>\n",
              "\n",
              "<style>\n",
              "  .colab-df-quickchart {\n",
              "      --bg-color: #E8F0FE;\n",
              "      --fill-color: #1967D2;\n",
              "      --hover-bg-color: #E2EBFA;\n",
              "      --hover-fill-color: #174EA6;\n",
              "      --disabled-fill-color: #AAA;\n",
              "      --disabled-bg-color: #DDD;\n",
              "  }\n",
              "\n",
              "  [theme=dark] .colab-df-quickchart {\n",
              "      --bg-color: #3B4455;\n",
              "      --fill-color: #D2E3FC;\n",
              "      --hover-bg-color: #434B5C;\n",
              "      --hover-fill-color: #FFFFFF;\n",
              "      --disabled-bg-color: #3B4455;\n",
              "      --disabled-fill-color: #666;\n",
              "  }\n",
              "\n",
              "  .colab-df-quickchart {\n",
              "    background-color: var(--bg-color);\n",
              "    border: none;\n",
              "    border-radius: 50%;\n",
              "    cursor: pointer;\n",
              "    display: none;\n",
              "    fill: var(--fill-color);\n",
              "    height: 32px;\n",
              "    padding: 0;\n",
              "    width: 32px;\n",
              "  }\n",
              "\n",
              "  .colab-df-quickchart:hover {\n",
              "    background-color: var(--hover-bg-color);\n",
              "    box-shadow: 0 1px 2px rgba(60, 64, 67, 0.3), 0 1px 3px 1px rgba(60, 64, 67, 0.15);\n",
              "    fill: var(--button-hover-fill-color);\n",
              "  }\n",
              "\n",
              "  .colab-df-quickchart-complete:disabled,\n",
              "  .colab-df-quickchart-complete:disabled:hover {\n",
              "    background-color: var(--disabled-bg-color);\n",
              "    fill: var(--disabled-fill-color);\n",
              "    box-shadow: none;\n",
              "  }\n",
              "\n",
              "  .colab-df-spinner {\n",
              "    border: 2px solid var(--fill-color);\n",
              "    border-color: transparent;\n",
              "    border-bottom-color: var(--fill-color);\n",
              "    animation:\n",
              "      spin 1s steps(1) infinite;\n",
              "  }\n",
              "\n",
              "  @keyframes spin {\n",
              "    0% {\n",
              "      border-color: transparent;\n",
              "      border-bottom-color: var(--fill-color);\n",
              "      border-left-color: var(--fill-color);\n",
              "    }\n",
              "    20% {\n",
              "      border-color: transparent;\n",
              "      border-left-color: var(--fill-color);\n",
              "      border-top-color: var(--fill-color);\n",
              "    }\n",
              "    30% {\n",
              "      border-color: transparent;\n",
              "      border-left-color: var(--fill-color);\n",
              "      border-top-color: var(--fill-color);\n",
              "      border-right-color: var(--fill-color);\n",
              "    }\n",
              "    40% {\n",
              "      border-color: transparent;\n",
              "      border-right-color: var(--fill-color);\n",
              "      border-top-color: var(--fill-color);\n",
              "    }\n",
              "    60% {\n",
              "      border-color: transparent;\n",
              "      border-right-color: var(--fill-color);\n",
              "    }\n",
              "    80% {\n",
              "      border-color: transparent;\n",
              "      border-right-color: var(--fill-color);\n",
              "      border-bottom-color: var(--fill-color);\n",
              "    }\n",
              "    90% {\n",
              "      border-color: transparent;\n",
              "      border-bottom-color: var(--fill-color);\n",
              "    }\n",
              "  }\n",
              "</style>\n",
              "\n",
              "  <script>\n",
              "    async function quickchart(key) {\n",
              "      const quickchartButtonEl =\n",
              "        document.querySelector('#' + key + ' button');\n",
              "      quickchartButtonEl.disabled = true;  // To prevent multiple clicks.\n",
              "      quickchartButtonEl.classList.add('colab-df-spinner');\n",
              "      try {\n",
              "        const charts = await google.colab.kernel.invokeFunction(\n",
              "            'suggestCharts', [key], {});\n",
              "      } catch (error) {\n",
              "        console.error('Error during call to suggestCharts:', error);\n",
              "      }\n",
              "      quickchartButtonEl.classList.remove('colab-df-spinner');\n",
              "      quickchartButtonEl.classList.add('colab-df-quickchart-complete');\n",
              "    }\n",
              "    (() => {\n",
              "      let quickchartButtonEl =\n",
              "        document.querySelector('#df-1822a81a-40aa-48ad-a622-e776516c61b2 button');\n",
              "      quickchartButtonEl.style.display =\n",
              "        google.colab.kernel.accessAllowed ? 'block' : 'none';\n",
              "    })();\n",
              "  </script>\n",
              "</div>\n",
              "    </div>\n",
              "  </div>\n"
            ],
            "application/vnd.google.colaboratory.intrinsic+json": {
              "type": "dataframe",
              "variable_name": "X_data"
            }
          },
          "metadata": {},
          "execution_count": 4
        }
      ],
      "source": [
        "# Про характеристики прочитайте в источнике\n",
        "\n",
        "X_data.head(5)"
      ]
    },
    {
      "cell_type": "markdown",
      "metadata": {
        "_cell_guid": "daf6f291-b7aa-d184-39f8-6278cc04f0ee",
        "id": "fxkflheLTtVv",
        "tags": []
      },
      "source": [
        "# Часть 1. Визуальный анализ данных (Exploratory Data Analysis)\n",
        "\n",
        "Перед тем, как приступать к построению алгоритмов, необходимо понять данные, с которыми требуется работать. Для этого в подходах к построению алгоритмов машинного обучения выделят специальный этап - Разведочный анализ данных или Exploratory Data Analysis (EDA). EDA в себя включает все те, что касается описания данных: визуализацию, интерпретацию и анализ.\n",
        "\n",
        "Прежде всего сделаем визуализацию данных для того, чтобы оценить диапазоны значений и виды их распределений.\n",
        "\n",
        "Постройте для приведенных ниже характеристик следующие виды графиков:\n",
        "- Гистограммы;\n",
        "- Круговые диаграмм;\n",
        "- Графики;\n",
        "- Таблицы;\n",
        "- 3D диаграммы.\n",
        "\n",
        "Выберите наиболее подходящий тип графика для каждой характеристки.\n",
        "\n",
        "__Основной критерий оценивания__ - читаемость и интерпретируемость данных."
      ]
    },
    {
      "cell_type": "markdown",
      "metadata": {
        "id": "FA0btFcmmpAG"
      },
      "source": [
        "## Характеристика: \"Sex\""
      ]
    },
    {
      "cell_type": "code",
      "execution_count": 5,
      "metadata": {
        "_cell_guid": "74f8d40e-415f-9e29-03ca-aa1e75714c11",
        "id": "QElGbkh1TtVw",
        "colab": {
          "base_uri": "https://localhost:8080/",
          "height": 449
        },
        "outputId": "69f4831a-9530-47e5-db95-73cde3d6061e"
      },
      "outputs": [
        {
          "output_type": "display_data",
          "data": {
            "text/plain": [
              "<Figure size 640x480 with 1 Axes>"
            ],
            "image/png": "[encoded data removed]"
          },
          "metadata": {}
        }
      ],
      "source": [
        "X_data['sex'].value_counts().plot(kind='bar', rot=0, xlabel='sex', ylabel='number',\n",
        "                                   color=['pink', 'skyblue'])\n",
        "plt.show()"
      ]
    },
    {
      "cell_type": "markdown",
      "metadata": {
        "_cell_guid": "fe453992-94f6-ae3b-b1fd-63027e71729f",
        "id": "eOkuFjVRTtVy"
      },
      "source": [
        "## Характеристика: \"Age\""
      ]
    },
    {
      "cell_type": "code",
      "execution_count": 6,
      "metadata": {
        "_cell_guid": "1051bfb6-f29e-0c40-1666-c97827578ad3",
        "id": "i9a_yujdTtVy",
        "colab": {
          "base_uri": "https://localhost:8080/",
          "height": 465
        },
        "outputId": "45e9df56-2367-4f9e-a3b4-934785438aa5"
      },
      "outputs": [
        {
          "output_type": "display_data",
          "data": {
            "text/plain": [
              "<Figure size 1000x500 with 1 Axes>"
            ],
            "image/png": "[encoded data removed]"
          },
          "metadata": {}
        }
      ],
      "source": [
        "plt.figure(figsize=(10,5))\n",
        "X_data['age'].value_counts().sort_index().plot(kind='bar', rot=0, xlabel='age', ylabel='number',color='c')\n",
        "plt.show()"
      ]
    },
    {
      "cell_type": "markdown",
      "metadata": {
        "_cell_guid": "7febeef3-e6b0-a18a-5705-7ee3876c1965",
        "id": "vgfL_e8lTtV0"
      },
      "source": [
        "## Характеристика: \"Weekly study time\""
      ]
    },
    {
      "cell_type": "code",
      "execution_count": 7,
      "metadata": {
        "_cell_guid": "12f1d266-9efa-4bd9-a3c1-48ea880080be",
        "id": "e3UTlpoMTtV1",
        "colab": {
          "base_uri": "https://localhost:8080/",
          "height": 406
        },
        "outputId": "48b9a842-db22-477a-f79a-2da0e81169c8"
      },
      "outputs": [
        {
          "output_type": "display_data",
          "data": {
            "text/plain": [
              "<Figure size 640x480 with 1 Axes>"
            ],
            "image/png": "[encoded data removed]"
          },
          "metadata": {}
        }
      ],
      "source": [
        "X_data['studytime'].value_counts().plot.pie(labels=['<2 hours', '2 to 5 hours', '5 to 10 hours', '>10 hours'],\n",
        "                                            autopct='%6.1f%%')\n",
        "plt.show()"
      ]
    },
    {
      "cell_type": "code",
      "execution_count": 8,
      "metadata": {
        "id": "HmKftOcqWqRV"
      },
      "outputs": [],
      "source": [
        "# labels=[1, 2, 3, 4]\n",
        "# h = [1, 3.5, 7.5, 25]\n",
        "# h_s = 0\n",
        "# for l in range(len(labels)):\n",
        "#     h_s += len(X_data[X_data['studytime'] == labels[l]]) * h[l]\n",
        "# h_s / len(X_data)"
      ]
    },
    {
      "cell_type": "markdown",
      "metadata": {
        "_cell_guid": "a0732dfe-165e-3c44-319c-bb7bf890fe9b",
        "id": "QmcAzPipTtV3"
      },
      "source": [
        "## Характеристика: \"Romantic Relationship\""
      ]
    },
    {
      "cell_type": "code",
      "execution_count": 9,
      "metadata": {
        "_cell_guid": "048c1de0-e55c-6e2f-09db-1263e9fbac76",
        "id": "yICND3ynTtV3",
        "colab": {
          "base_uri": "https://localhost:8080/",
          "height": 406
        },
        "outputId": "3150f2d4-f5ca-48dc-87a6-d22df4050911"
      },
      "outputs": [
        {
          "output_type": "display_data",
          "data": {
            "text/plain": [
              "<Figure size 640x480 with 1 Axes>"
            ],
            "image/png": "[encoded data removed]"
          },
          "metadata": {}
        }
      ],
      "source": [
        "X_data['romantic'].value_counts().plot.pie(autopct='%6.1f%%')\n",
        "plt.show()"
      ]
    },
    {
      "cell_type": "markdown",
      "metadata": {
        "_cell_guid": "21ae96ef-7925-4a81-1f1d-54d4ed018ec3",
        "id": "cJTillXMTtV5"
      },
      "source": [
        "## Характеристика: \"Alcohol Consumption\""
      ]
    },
    {
      "cell_type": "code",
      "execution_count": 10,
      "metadata": {
        "id": "e4KynL-GnIrc",
        "colab": {
          "base_uri": "https://localhost:8080/",
          "height": 206
        },
        "outputId": "b8cc05f8-ae88-4db6-83dd-aa41678ecb68"
      },
      "outputs": [
        {
          "output_type": "execute_result",
          "data": {
            "text/plain": [
              "           workday  weekend\n",
              "very high      318      175\n",
              "high            76       98\n",
              "moderate        33       85\n",
              "low             14       60\n",
              "very low        13       36"
            ],
            "text/html": [
              "\n",
              "  <div id=\"df-68082a4b-f466-4124-91fc-d868e7134e18\" class=\"colab-df-container\">\n",
              "    <div>\n",
              "<style scoped>\n",
              "    .dataframe tbody tr th:only-of-type {\n",
              "        vertical-align: middle;\n",
              "    }\n",
              "\n",
              "    .dataframe tbody tr th {\n",
              "        vertical-align: top;\n",
              "    }\n",
              "\n",
              "    .dataframe thead th {\n",
              "        text-align: right;\n",
              "    }\n",
              "</style>\n",
              "<table border=\"1\" class=\"dataframe\">\n",
              "  <thead>\n",
              "    <tr style=\"text-align: right;\">\n",
              "      <th></th>\n",
              "      <th>workday</th>\n",
              "      <th>weekend</th>\n",
              "    </tr>\n",
              "  </thead>\n",
              "  <tbody>\n",
              "    <tr>\n",
              "      <th>very high</th>\n",
              "      <td>318</td>\n",
              "      <td>175</td>\n",
              "    </tr>\n",
              "    <tr>\n",
              "      <th>high</th>\n",
              "      <td>76</td>\n",
              "      <td>98</td>\n",
              "    </tr>\n",
              "    <tr>\n",
              "      <th>moderate</th>\n",
              "      <td>33</td>\n",
              "      <td>85</td>\n",
              "    </tr>\n",
              "    <tr>\n",
              "      <th>low</th>\n",
              "      <td>14</td>\n",
              "      <td>60</td>\n",
              "    </tr>\n",
              "    <tr>\n",
              "      <th>very low</th>\n",
              "      <td>13</td>\n",
              "      <td>36</td>\n",
              "    </tr>\n",
              "  </tbody>\n",
              "</table>\n",
              "</div>\n",
              "    <div class=\"colab-df-buttons\">\n",
              "\n",
              "  <div class=\"colab-df-container\">\n",
              "    <button class=\"colab-df-convert\" onclick=\"convertToInteractive('df-68082a4b-f466-4124-91fc-d868e7134e18')\"\n",
              "            title=\"Convert this dataframe to an interactive table.\"\n",
              "            style=\"display:none;\">\n",
              "\n",
              "  <svg xmlns=\"http://www.w3.org/2000/svg\" height=\"24px\" viewBox=\"0 -960 960 960\">\n",
              "    <path d=\"M120-120v-720h720v720H120Zm60-500h600v-160H180v160Zm220 220h160v-160H400v160Zm0 220h160v-160H400v160ZM180-400h160v-160H180v160Zm440 0h160v-160H620v160ZM180-180h160v-160H180v160Zm440 0h160v-160H620v160Z\"/>\n",
              "  </svg>\n",
              "    </button>\n",
              "\n",
              "  <style>\n",
              "    .colab-df-container {\n",
              "      display:flex;\n",
              "      gap: 12px;\n",
              "    }\n",
              "\n",
              "    .colab-df-convert {\n",
              "      background-color: #E8F0FE;\n",
              "      border: none;\n",
              "      border-radius: 50%;\n",
              "      cursor: pointer;\n",
              "      display: none;\n",
              "      fill: #1967D2;\n",
              "      height: 32px;\n",
              "      padding: 0 0 0 0;\n",
              "      width: 32px;\n",
              "    }\n",
              "\n",
              "    .colab-df-convert:hover {\n",
              "      background-color: #E2EBFA;\n",
              "      box-shadow: 0px 1px 2px rgba(60, 64, 67, 0.3), 0px 1px 3px 1px rgba(60, 64, 67, 0.15);\n",
              "      fill: #174EA6;\n",
              "    }\n",
              "\n",
              "    .colab-df-buttons div {\n",
              "      margin-bottom: 4px;\n",
              "    }\n",
              "\n",
              "    [theme=dark] .colab-df-convert {\n",
              "      background-color: #3B4455;\n",
              "      fill: #D2E3FC;\n",
              "    }\n",
              "\n",
              "    [theme=dark] .colab-df-convert:hover {\n",
              "      background-color: #434B5C;\n",
              "      box-shadow: 0px 1px 3px 1px rgba(0, 0, 0, 0.15);\n",
              "      filter: drop-shadow(0px 1px 2px rgba(0, 0, 0, 0.3));\n",
              "      fill: #FFFFFF;\n",
              "    }\n",
              "  </style>\n",
              "\n",
              "    <script>\n",
              "      const buttonEl =\n",
              "        document.querySelector('#df-68082a4b-f466-4124-91fc-d868e7134e18 button.colab-df-convert');\n",
              "      buttonEl.style.display =\n",
              "        google.colab.kernel.accessAllowed ? 'block' : 'none';\n",
              "\n",
              "      async function convertToInteractive(key) {\n",
              "        const element = document.querySelector('#df-68082a4b-f466-4124-91fc-d868e7134e18');\n",
              "        const dataTable =\n",
              "          await google.colab.kernel.invokeFunction('convertToInteractive',\n",
              "                                                    [key], {});\n",
              "        if (!dataTable) return;\n",
              "\n",
              "        const docLinkHtml = 'Like what you see? Visit the ' +\n",
              "          '<a target=\"_blank\" href=https://colab.research.google.com/notebooks/data_table.ipynb>data table notebook</a>'\n",
              "          + ' to learn more about interactive tables.';\n",
              "        element.innerHTML = '';\n",
              "        dataTable['output_type'] = 'display_data';\n",
              "        await google.colab.output.renderOutput(dataTable, element);\n",
              "        const docLink = document.createElement('div');\n",
              "        docLink.innerHTML = docLinkHtml;\n",
              "        element.appendChild(docLink);\n",
              "      }\n",
              "    </script>\n",
              "  </div>\n",
              "\n",
              "\n",
              "<div id=\"df-811d0265-454a-4b51-bf03-2f320ed28fcc\">\n",
              "  <button class=\"colab-df-quickchart\" onclick=\"quickchart('df-811d0265-454a-4b51-bf03-2f320ed28fcc')\"\n",
              "            title=\"Suggest charts\"\n",
              "            style=\"display:none;\">\n",
              "\n",
              "<svg xmlns=\"http://www.w3.org/2000/svg\" height=\"24px\"viewBox=\"0 0 24 24\"\n",
              "     width=\"24px\">\n",
              "    <g>\n",
              "        <path d=\"M19 3H5c-1.1 0-2 .9-2 2v14c0 1.1.9 2 2 2h14c1.1 0 2-.9 2-2V5c0-1.1-.9-2-2-2zM9 17H7v-7h2v7zm4 0h-2V7h2v10zm4 0h-2v-4h2v4z\"/>\n",
              "    </g>\n",
              "</svg>\n",
              "  </button>\n",
              "\n",
              "<style>\n",
              "  .colab-df-quickchart {\n",
              "      --bg-color: #E8F0FE;\n",
              "      --fill-color: #1967D2;\n",
              "      --hover-bg-color: #E2EBFA;\n",
              "      --hover-fill-color: #174EA6;\n",
              "      --disabled-fill-color: #AAA;\n",
              "      --disabled-bg-color: #DDD;\n",
              "  }\n",
              "\n",
              "  [theme=dark] .colab-df-quickchart {\n",
              "      --bg-color: #3B4455;\n",
              "      --fill-color: #D2E3FC;\n",
              "      --hover-bg-color: #434B5C;\n",
              "      --hover-fill-color: #FFFFFF;\n",
              "      --disabled-bg-color: #3B4455;\n",
              "      --disabled-fill-color: #666;\n",
              "  }\n",
              "\n",
              "  .colab-df-quickchart {\n",
              "    background-color: var(--bg-color);\n",
              "    border: none;\n",
              "    border-radius: 50%;\n",
              "    cursor: pointer;\n",
              "    display: none;\n",
              "    fill: var(--fill-color);\n",
              "    height: 32px;\n",
              "    padding: 0;\n",
              "    width: 32px;\n",
              "  }\n",
              "\n",
              "  .colab-df-quickchart:hover {\n",
              "    background-color: var(--hover-bg-color);\n",
              "    box-shadow: 0 1px 2px rgba(60, 64, 67, 0.3), 0 1px 3px 1px rgba(60, 64, 67, 0.15);\n",
              "    fill: var(--button-hover-fill-color);\n",
              "  }\n",
              "\n",
              "  .colab-df-quickchart-complete:disabled,\n",
              "  .colab-df-quickchart-complete:disabled:hover {\n",
              "    background-color: var(--disabled-bg-color);\n",
              "    fill: var(--disabled-fill-color);\n",
              "    box-shadow: none;\n",
              "  }\n",
              "\n",
              "  .colab-df-spinner {\n",
              "    border: 2px solid var(--fill-color);\n",
              "    border-color: transparent;\n",
              "    border-bottom-color: var(--fill-color);\n",
              "    animation:\n",
              "      spin 1s steps(1) infinite;\n",
              "  }\n",
              "\n",
              "  @keyframes spin {\n",
              "    0% {\n",
              "      border-color: transparent;\n",
              "      border-bottom-color: var(--fill-color);\n",
              "      border-left-color: var(--fill-color);\n",
              "    }\n",
              "    20% {\n",
              "      border-color: transparent;\n",
              "      border-left-color: var(--fill-color);\n",
              "      border-top-color: var(--fill-color);\n",
              "    }\n",
              "    30% {\n",
              "      border-color: transparent;\n",
              "      border-left-color: var(--fill-color);\n",
              "      border-top-color: var(--fill-color);\n",
              "      border-right-color: var(--fill-color);\n",
              "    }\n",
              "    40% {\n",
              "      border-color: transparent;\n",
              "      border-right-color: var(--fill-color);\n",
              "      border-top-color: var(--fill-color);\n",
              "    }\n",
              "    60% {\n",
              "      border-color: transparent;\n",
              "      border-right-color: var(--fill-color);\n",
              "    }\n",
              "    80% {\n",
              "      border-color: transparent;\n",
              "      border-right-color: var(--fill-color);\n",
              "      border-bottom-color: var(--fill-color);\n",
              "    }\n",
              "    90% {\n",
              "      border-color: transparent;\n",
              "      border-bottom-color: var(--fill-color);\n",
              "    }\n",
              "  }\n",
              "</style>\n",
              "\n",
              "  <script>\n",
              "    async function quickchart(key) {\n",
              "      const quickchartButtonEl =\n",
              "        document.querySelector('#' + key + ' button');\n",
              "      quickchartButtonEl.disabled = true;  // To prevent multiple clicks.\n",
              "      quickchartButtonEl.classList.add('colab-df-spinner');\n",
              "      try {\n",
              "        const charts = await google.colab.kernel.invokeFunction(\n",
              "            'suggestCharts', [key], {});\n",
              "      } catch (error) {\n",
              "        console.error('Error during call to suggestCharts:', error);\n",
              "      }\n",
              "      quickchartButtonEl.classList.remove('colab-df-spinner');\n",
              "      quickchartButtonEl.classList.add('colab-df-quickchart-complete');\n",
              "    }\n",
              "    (() => {\n",
              "      let quickchartButtonEl =\n",
              "        document.querySelector('#df-811d0265-454a-4b51-bf03-2f320ed28fcc button');\n",
              "      quickchartButtonEl.style.display =\n",
              "        google.colab.kernel.accessAllowed ? 'block' : 'none';\n",
              "    })();\n",
              "  </script>\n",
              "</div>\n",
              "    </div>\n",
              "  </div>\n"
            ],
            "application/vnd.google.colaboratory.intrinsic+json": {
              "type": "dataframe",
              "variable_name": "alcohol",
              "summary": "{\n  \"name\": \"alcohol\",\n  \"rows\": 5,\n  \"fields\": [\n    {\n      \"column\": \"workday\",\n      \"properties\": {\n        \"dtype\": \"number\",\n        \"std\": 129,\n        \"min\": 13,\n        \"max\": 318,\n        \"num_unique_values\": 5,\n        \"samples\": [\n          76,\n          13,\n          33\n        ],\n        \"semantic_type\": \"\",\n        \"description\": \"\"\n      }\n    },\n    {\n      \"column\": \"weekend\",\n      \"properties\": {\n        \"dtype\": \"number\",\n        \"std\": 52,\n        \"min\": 36,\n        \"max\": 175,\n        \"num_unique_values\": 5,\n        \"samples\": [\n          98,\n          36,\n          85\n        ],\n        \"semantic_type\": \"\",\n        \"description\": \"\"\n      }\n    }\n  ]\n}"
            }
          },
          "metadata": {},
          "execution_count": 10
        }
      ],
      "source": [
        "index = ['very high', 'high', 'moderate', 'low', 'very low']\n",
        "workday = X_data['Dalc'].value_counts().to_list()\n",
        "weekend = X_data['Walc'].value_counts().to_list()\n",
        "alcohol = pd.DataFrame({'workday': workday, 'weekend': weekend}, index=index)\n",
        "alcohol"
      ]
    },
    {
      "cell_type": "markdown",
      "metadata": {
        "_cell_guid": "21ae96ef-7925-4a81-1f1d-54d4ed018ec3",
        "id": "JL7MDeVBnDBw"
      },
      "source": [
        "## Целевая зависимость: \"G3\" (Final Grade)"
      ]
    },
    {
      "cell_type": "code",
      "execution_count": 11,
      "metadata": {
        "id": "Fshy5JYdTgyr",
        "colab": {
          "base_uri": "https://localhost:8080/",
          "height": 465
        },
        "outputId": "6f1520c9-96d6-443f-b9d5-33a733fc3838"
      },
      "outputs": [
        {
          "output_type": "display_data",
          "data": {
            "text/plain": [
              "<Figure size 1000x500 with 1 Axes>"
            ],
            "image/png": "[encoded data removed]"
          },
          "metadata": {}
        }
      ],
      "source": [
        "plt.figure(figsize=(10,5))\n",
        "X_data['G3'].value_counts().sort_index().plot(kind='line', rot=0, xlabel='grade', ylabel='number of people')\n",
        "plt.show()"
      ]
    },
    {
      "cell_type": "markdown",
      "metadata": {
        "id": "HyR-ETD6Tgys"
      },
      "source": [
        "## Прочие характеристики\n",
        "\n",
        "Прочитайте описание данных на [сайте](https://www.kaggle.com/uciml/student-alcohol-consumption) и подумайте, какие еще характеристики было бы полезно проанализировать. Постройте соответсвующие графики для выбранных характеристик.\n",
        "\n",
        "Постройте графики еще для минимум 4 характеристик: числовая (2) и категориальная (2), применив хотя бы один раз:\n",
        "- pieplot\n",
        "- boxplot\n",
        "- violinplot"
      ]
    },
    {
      "cell_type": "markdown",
      "metadata": {
        "id": "fTzp5ghoWqRX"
      },
      "source": [
        "## Характеристика: \"traveltime\""
      ]
    },
    {
      "cell_type": "code",
      "execution_count": 12,
      "metadata": {
        "id": "zYBWdQKjnDB1",
        "colab": {
          "base_uri": "https://localhost:8080/",
          "height": 466
        },
        "outputId": "d151d3bf-f7bb-40ba-d882-f154673e3bdd"
      },
      "outputs": [
        {
          "output_type": "execute_result",
          "data": {
            "text/plain": [
              "<Axes: xlabel='address', ylabel='traveltime'>"
            ]
          },
          "metadata": {},
          "execution_count": 12
        },
        {
          "output_type": "display_data",
          "data": {
            "text/plain": [
              "<Figure size 640x480 with 1 Axes>"
            ],
            "image/png": "[encoded data removed]"
          },
          "metadata": {}
        }
      ],
      "source": [
        "sns.violinplot(data=X_data, x=\"address\", y=\"traveltime\")"
      ]
    },
    {
      "cell_type": "markdown",
      "metadata": {
        "id": "SAHKXzEMWqRX"
      },
      "source": [
        "## Характеристика: \"famrel\""
      ]
    },
    {
      "cell_type": "code",
      "execution_count": 13,
      "metadata": {
        "colab": {
          "base_uri": "https://localhost:8080/",
          "height": 430
        },
        "id": "uERbjfdXWqRX",
        "outputId": "4ea721d4-a08b-4e03-e56b-0519dcbf18b1"
      },
      "outputs": [
        {
          "output_type": "display_data",
          "data": {
            "text/plain": [
              "<Figure size 640x480 with 1 Axes>"
            ],
            "image/png": "[encoded data removed]"
          },
          "metadata": {}
        }
      ],
      "source": [
        "X_data['famrel'].plot(kind='box')\n",
        "plt.show()"
      ]
    },
    {
      "cell_type": "markdown",
      "metadata": {
        "id": "JJ-P6liNWqRY"
      },
      "source": [
        "## Характеристика: \"higher\""
      ]
    },
    {
      "cell_type": "code",
      "execution_count": 14,
      "metadata": {
        "colab": {
          "base_uri": "https://localhost:8080/",
          "height": 406
        },
        "id": "UZ7e_f7uWqRY",
        "outputId": "d59c0f36-7a46-4435-818a-158dcd1c191b"
      },
      "outputs": [
        {
          "output_type": "display_data",
          "data": {
            "text/plain": [
              "<Figure size 640x480 with 1 Axes>"
            ],
            "image/png": "[encoded data removed]"
          },
          "metadata": {}
        }
      ],
      "source": [
        "X_data['higher'].value_counts().plot.pie(autopct='%6.1f%%')\n",
        "plt.show()"
      ]
    },
    {
      "cell_type": "markdown",
      "metadata": {
        "id": "fwwk-aXDWqRY"
      },
      "source": [
        "## Характеристика: \"address\""
      ]
    },
    {
      "cell_type": "code",
      "execution_count": 15,
      "metadata": {
        "colab": {
          "base_uri": "https://localhost:8080/",
          "height": 406
        },
        "id": "Sykk0Lj7WqRY",
        "outputId": "100aa27d-ff3f-405f-f5a5-501023436b16"
      },
      "outputs": [
        {
          "output_type": "display_data",
          "data": {
            "text/plain": [
              "<Figure size 640x480 with 1 Axes>"
            ],
            "image/png": "[encoded data removed]"
          },
          "metadata": {}
        }
      ],
      "source": [
        "X_data['reason'].value_counts().plot.pie(autopct='%6.1f%%')\n",
        "plt.show()"
      ]
    },
    {
      "cell_type": "markdown",
      "metadata": {
        "_cell_guid": "21ae96ef-7925-4a81-1f1d-54d4ed018ec3",
        "id": "dDiTs21MnRYu"
      },
      "source": [
        "## Корреляция признаков\n",
        "\n",
        "Для того, чтобы быстро получить оценку о взаимосвязи признаков целесообразно построить матрицу их корреляции. Постройте матрицу корреляции."
      ]
    },
    {
      "cell_type": "markdown",
      "metadata": {
        "id": "m5nZCON_WqRY"
      },
      "source": [
        "Для большей информации запускать после кодирования категориальных признаков"
      ]
    },
    {
      "cell_type": "code",
      "execution_count": 29,
      "metadata": {
        "id": "KagTTs4mnRYv",
        "colab": {
          "base_uri": "https://localhost:8080/",
          "height": 1000
        },
        "outputId": "9ac4957a-1d3b-472f-9044-abb88e695d6e"
      },
      "outputs": [
        {
          "output_type": "execute_result",
          "data": {
            "text/plain": [
              "                   school    sex    age  address  famsize  Pstatus   Medu  \\\n",
              "school              1.000  0.100 -0.077   -0.381    0.002   -0.053  0.294   \n",
              "sex                 0.100  1.000 -0.039   -0.040    0.148    0.046  0.129   \n",
              "age                -0.077 -0.039  1.000    0.053   -0.020   -0.014 -0.126   \n",
              "address            -0.381 -0.040  0.053    1.000   -0.068    0.124 -0.216   \n",
              "famsize             0.002  0.148 -0.020   -0.068    1.000   -0.240  0.045   \n",
              "Pstatus            -0.053  0.046 -0.014    0.124   -0.240    1.000 -0.074   \n",
              "Medu                0.294  0.129 -0.126   -0.216    0.045   -0.074  1.000   \n",
              "Fedu                0.223  0.066 -0.139   -0.109    0.003   -0.018  0.650   \n",
              "traveltime         -0.280  0.020  0.012    0.362    0.017    0.059 -0.292   \n",
              "studytime           0.122 -0.198 -0.010   -0.089   -0.035   -0.057  0.089   \n",
              "failures           -0.130  0.086  0.362    0.063   -0.070   -0.015 -0.172   \n",
              "schoolsup           0.138 -0.106 -0.140   -0.031   -0.022   -0.039  0.005   \n",
              "famsup              0.035 -0.158 -0.112   -0.015    0.012   -0.021  0.091   \n",
              "paid                0.018  0.078  0.040    0.028   -0.069    0.010  0.128   \n",
              "activities          0.076  0.134 -0.023   -0.056    0.023    0.089  0.138   \n",
              "nursery            -0.004 -0.027 -0.027   -0.001    0.081   -0.044  0.157   \n",
              "higher              0.157 -0.084 -0.296   -0.026    0.019    0.009  0.218   \n",
              "internet            0.237  0.080  0.022   -0.157   -0.012    0.079  0.285   \n",
              "romantic           -0.063 -0.123  0.205   -0.002   -0.019   -0.108 -0.043   \n",
              "famrel              0.058  0.098 -0.006    0.002   -0.017    0.069  0.069   \n",
              "freetime           -0.020  0.163  0.038   -0.009   -0.012   -0.024  0.029   \n",
              "goout              -0.024  0.087  0.151   -0.084    0.030    0.002  0.055   \n",
              "Dalc               -0.041  0.299  0.203    0.039    0.076    0.047 -0.011   \n",
              "Walc               -0.012  0.330  0.123   -0.017    0.115    0.077 -0.021   \n",
              "health              0.063  0.144 -0.025   -0.053   -0.003   -0.007  0.046   \n",
              "absences            0.166  0.037  0.181   -0.109    0.027   -0.134  0.019   \n",
              "G3                  0.321 -0.086 -0.181   -0.156    0.053   -0.019  0.208   \n",
              "Mjob_health         0.060  0.051 -0.120   -0.106    0.062   -0.042  0.247   \n",
              "Mjob_other         -0.040 -0.073  0.052    0.010   -0.034   -0.012 -0.207   \n",
              "Mjob_services       0.128  0.118 -0.009   -0.105    0.052   -0.042  0.183   \n",
              "Mjob_teacher        0.148  0.127 -0.084   -0.034    0.018    0.041  0.416   \n",
              "Fjob_health         0.068  0.026 -0.113   -0.084    0.048   -0.072  0.124   \n",
              "Fjob_other          0.093 -0.054  0.102    0.032    0.038   -0.055 -0.077   \n",
              "Fjob_services      -0.077  0.060 -0.072   -0.016   -0.012    0.113 -0.007   \n",
              "Fjob_teacher        0.071  0.030 -0.068    0.049   -0.120   -0.008  0.204   \n",
              "reason_home         0.120  0.008 -0.042   -0.146    0.028   -0.072  0.013   \n",
              "reason_other       -0.231  0.058  0.059    0.112   -0.041    0.046 -0.065   \n",
              "reason_reputation   0.173 -0.001  0.009   -0.018    0.065   -0.036  0.169   \n",
              "guardian_mother     0.066 -0.042 -0.040   -0.056    0.057   -0.064  0.114   \n",
              "guardian_other      0.006 -0.002  0.380    0.040   -0.035   -0.097 -0.143   \n",
              "\n",
              "                    Fedu  traveltime  studytime  ...  Mjob_teacher  \\\n",
              "school             0.223      -0.280      0.122  ...         0.148   \n",
              "sex                0.066       0.020     -0.198  ...         0.127   \n",
              "age               -0.139       0.012     -0.010  ...        -0.084   \n",
              "address           -0.109       0.362     -0.089  ...        -0.034   \n",
              "famsize            0.003       0.017     -0.035  ...         0.018   \n",
              "Pstatus           -0.018       0.059     -0.057  ...         0.041   \n",
              "Medu               0.650      -0.292      0.089  ...         0.416   \n",
              "Fedu               1.000      -0.211      0.078  ...         0.286   \n",
              "traveltime        -0.211       1.000     -0.084  ...        -0.090   \n",
              "studytime          0.078      -0.084      1.000  ...         0.015   \n",
              "failures          -0.157       0.079     -0.125  ...        -0.110   \n",
              "schoolsup          0.027      -0.020      0.126  ...        -0.034   \n",
              "famsup             0.137      -0.031      0.156  ...         0.031   \n",
              "paid               0.116      -0.068      0.003  ...        -0.024   \n",
              "activities         0.109      -0.063      0.065  ...         0.105   \n",
              "nursery            0.091      -0.005      0.065  ...         0.107   \n",
              "higher             0.176      -0.055      0.160  ...         0.088   \n",
              "internet           0.209      -0.218     -0.005  ...         0.117   \n",
              "romantic          -0.039      -0.017      0.024  ...        -0.067   \n",
              "famrel             0.087      -0.025     -0.024  ...         0.014   \n",
              "freetime           0.033       0.003     -0.075  ...         0.087   \n",
              "goout              0.062       0.008     -0.099  ...        -0.041   \n",
              "Dalc              -0.003       0.079     -0.153  ...         0.025   \n",
              "Walc              -0.002       0.048     -0.244  ...         0.001   \n",
              "health             0.086      -0.048     -0.052  ...         0.075   \n",
              "absences           0.048      -0.042     -0.100  ...         0.002   \n",
              "G3                 0.197      -0.151      0.218  ...         0.096   \n",
              "Mjob_health        0.120      -0.085     -0.039  ...        -0.086   \n",
              "Mjob_other        -0.174      -0.015      0.037  ...        -0.268   \n",
              "Mjob_services      0.122      -0.051      0.016  ...        -0.163   \n",
              "Mjob_teacher       0.286      -0.090      0.015  ...         1.000   \n",
              "Fjob_health        0.197      -0.074      0.107  ...         0.042   \n",
              "Fjob_other        -0.178       0.060      0.008  ...        -0.090   \n",
              "Fjob_services      0.056      -0.020     -0.055  ...         0.004   \n",
              "Fjob_teacher       0.303       0.022      0.011  ...         0.228   \n",
              "reason_home       -0.034      -0.158      0.035  ...         0.007   \n",
              "reason_other      -0.063       0.121     -0.121  ...        -0.079   \n",
              "reason_reputation  0.136      -0.077      0.130  ...        -0.018   \n",
              "guardian_mother   -0.049      -0.075      0.019  ...         0.108   \n",
              "guardian_other    -0.107       0.072      0.048  ...        -0.056   \n",
              "\n",
              "                   Fjob_health  Fjob_other  Fjob_services  Fjob_teacher  \\\n",
              "school                   0.068       0.093         -0.077         0.071   \n",
              "sex                      0.026      -0.054          0.060         0.030   \n",
              "age                     -0.113       0.102         -0.072        -0.068   \n",
              "address                 -0.084       0.032         -0.016         0.049   \n",
              "famsize                  0.048       0.038         -0.012        -0.120   \n",
              "Pstatus                 -0.072      -0.055          0.113        -0.008   \n",
              "Medu                     0.124      -0.077         -0.007         0.204   \n",
              "Fedu                     0.197      -0.178          0.056         0.303   \n",
              "traveltime              -0.074       0.060         -0.020         0.022   \n",
              "studytime                0.107       0.008         -0.055         0.011   \n",
              "failures                -0.063      -0.003          0.024        -0.073   \n",
              "schoolsup                0.034      -0.040         -0.002         0.053   \n",
              "famsup                   0.073      -0.054         -0.016         0.027   \n",
              "paid                     0.011       0.041         -0.027        -0.051   \n",
              "activities              -0.020      -0.037          0.023         0.032   \n",
              "nursery                  0.084      -0.006         -0.045        -0.020   \n",
              "higher                   0.014       0.022         -0.016         0.029   \n",
              "internet                -0.029       0.046          0.039        -0.025   \n",
              "romantic                -0.010       0.015         -0.083         0.104   \n",
              "famrel                   0.059       0.025          0.008        -0.032   \n",
              "freetime                -0.015       0.021         -0.056         0.045   \n",
              "goout                   -0.008       0.024         -0.001        -0.016   \n",
              "Dalc                     0.025      -0.076          0.117        -0.016   \n",
              "Walc                    -0.038      -0.049          0.147        -0.072   \n",
              "health                   0.090       0.052         -0.081         0.069   \n",
              "absences                -0.006       0.038         -0.043        -0.002   \n",
              "G3                       0.031       0.084         -0.111         0.037   \n",
              "Mjob_health              0.173      -0.059          0.026        -0.004   \n",
              "Mjob_other              -0.083       0.218         -0.155        -0.039   \n",
              "Mjob_services           -0.016      -0.138          0.190        -0.068   \n",
              "Mjob_teacher             0.042      -0.090          0.004         0.228   \n",
              "Fjob_health              1.000      -0.198         -0.103        -0.031   \n",
              "Fjob_other              -0.198       1.000         -0.748        -0.229   \n",
              "Fjob_services           -0.103      -0.748          1.000        -0.119   \n",
              "Fjob_teacher            -0.031      -0.229         -0.119         1.000   \n",
              "reason_home             -0.057       0.113         -0.071        -0.076   \n",
              "reason_other             0.039      -0.121          0.144        -0.022   \n",
              "reason_reputation        0.115       0.019         -0.038         0.017   \n",
              "guardian_mother         -0.043       0.066         -0.056        -0.032   \n",
              "guardian_other          -0.045       0.101         -0.071        -0.052   \n",
              "\n",
              "                   reason_home  reason_other  reason_reputation  \\\n",
              "school                   0.120        -0.231              0.173   \n",
              "sex                      0.008         0.058             -0.001   \n",
              "age                     -0.042         0.059              0.009   \n",
              "address                 -0.146         0.112             -0.018   \n",
              "famsize                  0.028        -0.041              0.065   \n",
              "Pstatus                 -0.072         0.046             -0.036   \n",
              "Medu                     0.013        -0.065              0.169   \n",
              "Fedu                    -0.034        -0.063              0.136   \n",
              "traveltime              -0.158         0.121             -0.077   \n",
              "studytime                0.035        -0.121              0.130   \n",
              "failures                -0.112         0.049             -0.119   \n",
              "schoolsup                0.073        -0.038              0.052   \n",
              "famsup                   0.028        -0.065             -0.011   \n",
              "paid                     0.066         0.063             -0.095   \n",
              "activities              -0.049        -0.075              0.125   \n",
              "nursery                 -0.032        -0.016              0.054   \n",
              "higher                   0.058        -0.075              0.098   \n",
              "internet                 0.055        -0.081              0.121   \n",
              "romantic                 0.035         0.016             -0.092   \n",
              "famrel                  -0.009         0.023              0.021   \n",
              "freetime                -0.029        -0.049             -0.009   \n",
              "goout                   -0.023        -0.011             -0.012   \n",
              "Dalc                     0.043         0.117             -0.092   \n",
              "Walc                    -0.018         0.089             -0.010   \n",
              "health                  -0.038         0.063             -0.136   \n",
              "absences                 0.074        -0.018              0.053   \n",
              "G3                       0.055        -0.232              0.211   \n",
              "Mjob_health             -0.044         0.059              0.093   \n",
              "Mjob_other               0.095        -0.124              0.042   \n",
              "Mjob_services           -0.020         0.035              0.078   \n",
              "Mjob_teacher             0.007        -0.079             -0.018   \n",
              "Fjob_health             -0.057         0.039              0.115   \n",
              "Fjob_other               0.113        -0.121              0.019   \n",
              "Fjob_services           -0.071         0.144             -0.038   \n",
              "Fjob_teacher            -0.076        -0.022              0.017   \n",
              "reason_home              1.000        -0.179             -0.284   \n",
              "reason_other            -0.179         1.000             -0.171   \n",
              "reason_reputation       -0.284        -0.171              1.000   \n",
              "guardian_mother          0.022        -0.015             -0.002   \n",
              "guardian_other          -0.002        -0.059             -0.035   \n",
              "\n",
              "                   guardian_mother  guardian_other  \n",
              "school                       0.066           0.006  \n",
              "sex                         -0.042          -0.002  \n",
              "age                         -0.040           0.380  \n",
              "address                     -0.056           0.040  \n",
              "famsize                      0.057          -0.035  \n",
              "Pstatus                     -0.064          -0.097  \n",
              "Medu                         0.114          -0.143  \n",
              "Fedu                        -0.049          -0.107  \n",
              "traveltime                  -0.075           0.072  \n",
              "studytime                    0.019           0.048  \n",
              "failures                    -0.057           0.276  \n",
              "schoolsup                   -0.032          -0.006  \n",
              "famsup                      -0.024           0.015  \n",
              "paid                         0.057          -0.002  \n",
              "activities                   0.024          -0.032  \n",
              "nursery                      0.072          -0.077  \n",
              "higher                       0.110          -0.212  \n",
              "internet                     0.006           0.018  \n",
              "romantic                    -0.039           0.159  \n",
              "famrel                      -0.031          -0.075  \n",
              "freetime                    -0.015           0.059  \n",
              "goout                        0.029           0.016  \n",
              "Dalc                        -0.114           0.090  \n",
              "Walc                         0.000          -0.029  \n",
              "health                       0.000          -0.005  \n",
              "absences                     0.021           0.124  \n",
              "G3                           0.016          -0.068  \n",
              "Mjob_health                  0.004          -0.073  \n",
              "Mjob_other                  -0.109           0.074  \n",
              "Mjob_services                0.095          -0.095  \n",
              "Mjob_teacher                 0.108          -0.056  \n",
              "Fjob_health                 -0.043          -0.045  \n",
              "Fjob_other                   0.066           0.101  \n",
              "Fjob_services               -0.056          -0.071  \n",
              "Fjob_teacher                -0.032          -0.052  \n",
              "reason_home                  0.022          -0.002  \n",
              "reason_other                -0.015          -0.059  \n",
              "reason_reputation           -0.002          -0.035  \n",
              "guardian_mother              1.000          -0.416  \n",
              "guardian_other              -0.416           1.000  \n",
              "\n",
              "[40 rows x 40 columns]"
            ],
            "text/html": [
              "\n",
              "  <div id=\"df-878aea27-8209-442b-8dd2-dda87cea1013\" class=\"colab-df-container\">\n",
              "    <div>\n",
              "<style scoped>\n",
              "    .dataframe tbody tr th:only-of-type {\n",
              "        vertical-align: middle;\n",
              "    }\n",
              "\n",
              "    .dataframe tbody tr th {\n",
              "        vertical-align: top;\n",
              "    }\n",
              "\n",
              "    .dataframe thead th {\n",
              "        text-align: right;\n",
              "    }\n",
              "</style>\n",
              "<table border=\"1\" class=\"dataframe\">\n",
              "  <thead>\n",
              "    <tr style=\"text-align: right;\">\n",
              "      <th></th>\n",
              "      <th>school</th>\n",
              "      <th>sex</th>\n",
              "      <th>age</th>\n",
              "      <th>address</th>\n",
              "      <th>famsize</th>\n",
              "      <th>Pstatus</th>\n",
              "      <th>Medu</th>\n",
              "      <th>Fedu</th>\n",
              "      <th>traveltime</th>\n",
              "      <th>studytime</th>\n",
              "      <th>...</th>\n",
              "      <th>Mjob_teacher</th>\n",
              "      <th>Fjob_health</th>\n",
              "      <th>Fjob_other</th>\n",
              "      <th>Fjob_services</th>\n",
              "      <th>Fjob_teacher</th>\n",
              "      <th>reason_home</th>\n",
              "      <th>reason_other</th>\n",
              "      <th>reason_reputation</th>\n",
              "      <th>guardian_mother</th>\n",
              "      <th>guardian_other</th>\n",
              "    </tr>\n",
              "  </thead>\n",
              "  <tbody>\n",
              "    <tr>\n",
              "      <th>school</th>\n",
              "      <td>1.000</td>\n",
              "      <td>0.100</td>\n",
              "      <td>-0.077</td>\n",
              "      <td>-0.381</td>\n",
              "      <td>0.002</td>\n",
              "      <td>-0.053</td>\n",
              "      <td>0.294</td>\n",
              "      <td>0.223</td>\n",
              "      <td>-0.280</td>\n",
              "      <td>0.122</td>\n",
              "      <td>...</td>\n",
              "      <td>0.148</td>\n",
              "      <td>0.068</td>\n",
              "      <td>0.093</td>\n",
              "      <td>-0.077</td>\n",
              "      <td>0.071</td>\n",
              "      <td>0.120</td>\n",
              "      <td>-0.231</td>\n",
              "      <td>0.173</td>\n",
              "      <td>0.066</td>\n",
              "      <td>0.006</td>\n",
              "    </tr>\n",
              "    <tr>\n",
              "      <th>sex</th>\n",
              "      <td>0.100</td>\n",
              "      <td>1.000</td>\n",
              "      <td>-0.039</td>\n",
              "      <td>-0.040</td>\n",
              "      <td>0.148</td>\n",
              "      <td>0.046</td>\n",
              "      <td>0.129</td>\n",
              "      <td>0.066</td>\n",
              "      <td>0.020</td>\n",
              "      <td>-0.198</td>\n",
              "      <td>...</td>\n",
              "      <td>0.127</td>\n",
              "      <td>0.026</td>\n",
              "      <td>-0.054</td>\n",
              "      <td>0.060</td>\n",
              "      <td>0.030</td>\n",
              "      <td>0.008</td>\n",
              "      <td>0.058</td>\n",
              "      <td>-0.001</td>\n",
              "      <td>-0.042</td>\n",
              "      <td>-0.002</td>\n",
              "    </tr>\n",
              "    <tr>\n",
              "      <th>age</th>\n",
              "      <td>-0.077</td>\n",
              "      <td>-0.039</td>\n",
              "      <td>1.000</td>\n",
              "      <td>0.053</td>\n",
              "      <td>-0.020</td>\n",
              "      <td>-0.014</td>\n",
              "      <td>-0.126</td>\n",
              "      <td>-0.139</td>\n",
              "      <td>0.012</td>\n",
              "      <td>-0.010</td>\n",
              "      <td>...</td>\n",
              "      <td>-0.084</td>\n",
              "      <td>-0.113</td>\n",
              "      <td>0.102</td>\n",
              "      <td>-0.072</td>\n",
              "      <td>-0.068</td>\n",
              "      <td>-0.042</td>\n",
              "      <td>0.059</td>\n",
              "      <td>0.009</td>\n",
              "      <td>-0.040</td>\n",
              "      <td>0.380</td>\n",
              "    </tr>\n",
              "    <tr>\n",
              "      <th>address</th>\n",
              "      <td>-0.381</td>\n",
              "      <td>-0.040</td>\n",
              "      <td>0.053</td>\n",
              "      <td>1.000</td>\n",
              "      <td>-0.068</td>\n",
              "      <td>0.124</td>\n",
              "      <td>-0.216</td>\n",
              "      <td>-0.109</td>\n",
              "      <td>0.362</td>\n",
              "      <td>-0.089</td>\n",
              "      <td>...</td>\n",
              "      <td>-0.034</td>\n",
              "      <td>-0.084</td>\n",
              "      <td>0.032</td>\n",
              "      <td>-0.016</td>\n",
              "      <td>0.049</td>\n",
              "      <td>-0.146</td>\n",
              "      <td>0.112</td>\n",
              "      <td>-0.018</td>\n",
              "      <td>-0.056</td>\n",
              "      <td>0.040</td>\n",
              "    </tr>\n",
              "    <tr>\n",
              "      <th>famsize</th>\n",
              "      <td>0.002</td>\n",
              "      <td>0.148</td>\n",
              "      <td>-0.020</td>\n",
              "      <td>-0.068</td>\n",
              "      <td>1.000</td>\n",
              "      <td>-0.240</td>\n",
              "      <td>0.045</td>\n",
              "      <td>0.003</td>\n",
              "      <td>0.017</td>\n",
              "      <td>-0.035</td>\n",
              "      <td>...</td>\n",
              "      <td>0.018</td>\n",
              "      <td>0.048</td>\n",
              "      <td>0.038</td>\n",
              "      <td>-0.012</td>\n",
              "      <td>-0.120</td>\n",
              "      <td>0.028</td>\n",
              "      <td>-0.041</td>\n",
              "      <td>0.065</td>\n",
              "      <td>0.057</td>\n",
              "      <td>-0.035</td>\n",
              "    </tr>\n",
              "    <tr>\n",
              "      <th>Pstatus</th>\n",
              "      <td>-0.053</td>\n",
              "      <td>0.046</td>\n",
              "      <td>-0.014</td>\n",
              "      <td>0.124</td>\n",
              "      <td>-0.240</td>\n",
              "      <td>1.000</td>\n",
              "      <td>-0.074</td>\n",
              "      <td>-0.018</td>\n",
              "      <td>0.059</td>\n",
              "      <td>-0.057</td>\n",
              "      <td>...</td>\n",
              "      <td>0.041</td>\n",
              "      <td>-0.072</td>\n",
              "      <td>-0.055</td>\n",
              "      <td>0.113</td>\n",
              "      <td>-0.008</td>\n",
              "      <td>-0.072</td>\n",
              "      <td>0.046</td>\n",
              "      <td>-0.036</td>\n",
              "      <td>-0.064</td>\n",
              "      <td>-0.097</td>\n",
              "    </tr>\n",
              "    <tr>\n",
              "      <th>Medu</th>\n",
              "      <td>0.294</td>\n",
              "      <td>0.129</td>\n",
              "      <td>-0.126</td>\n",
              "      <td>-0.216</td>\n",
              "      <td>0.045</td>\n",
              "      <td>-0.074</td>\n",
              "      <td>1.000</td>\n",
              "      <td>0.650</td>\n",
              "      <td>-0.292</td>\n",
              "      <td>0.089</td>\n",
              "      <td>...</td>\n",
              "      <td>0.416</td>\n",
              "      <td>0.124</td>\n",
              "      <td>-0.077</td>\n",
              "      <td>-0.007</td>\n",
              "      <td>0.204</td>\n",
              "      <td>0.013</td>\n",
              "      <td>-0.065</td>\n",
              "      <td>0.169</td>\n",
              "      <td>0.114</td>\n",
              "      <td>-0.143</td>\n",
              "    </tr>\n",
              "    <tr>\n",
              "      <th>Fedu</th>\n",
              "      <td>0.223</td>\n",
              "      <td>0.066</td>\n",
              "      <td>-0.139</td>\n",
              "      <td>-0.109</td>\n",
              "      <td>0.003</td>\n",
              "      <td>-0.018</td>\n",
              "      <td>0.650</td>\n",
              "      <td>1.000</td>\n",
              "      <td>-0.211</td>\n",
              "      <td>0.078</td>\n",
              "      <td>...</td>\n",
              "      <td>0.286</td>\n",
              "      <td>0.197</td>\n",
              "      <td>-0.178</td>\n",
              "      <td>0.056</td>\n",
              "      <td>0.303</td>\n",
              "      <td>-0.034</td>\n",
              "      <td>-0.063</td>\n",
              "      <td>0.136</td>\n",
              "      <td>-0.049</td>\n",
              "      <td>-0.107</td>\n",
              "    </tr>\n",
              "    <tr>\n",
              "      <th>traveltime</th>\n",
              "      <td>-0.280</td>\n",
              "      <td>0.020</td>\n",
              "      <td>0.012</td>\n",
              "      <td>0.362</td>\n",
              "      <td>0.017</td>\n",
              "      <td>0.059</td>\n",
              "      <td>-0.292</td>\n",
              "      <td>-0.211</td>\n",
              "      <td>1.000</td>\n",
              "      <td>-0.084</td>\n",
              "      <td>...</td>\n",
              "      <td>-0.090</td>\n",
              "      <td>-0.074</td>\n",
              "      <td>0.060</td>\n",
              "      <td>-0.020</td>\n",
              "      <td>0.022</td>\n",
              "      <td>-0.158</td>\n",
              "      <td>0.121</td>\n",
              "      <td>-0.077</td>\n",
              "      <td>-0.075</td>\n",
              "      <td>0.072</td>\n",
              "    </tr>\n",
              "    <tr>\n",
              "      <th>studytime</th>\n",
              "      <td>0.122</td>\n",
              "      <td>-0.198</td>\n",
              "      <td>-0.010</td>\n",
              "      <td>-0.089</td>\n",
              "      <td>-0.035</td>\n",
              "      <td>-0.057</td>\n",
              "      <td>0.089</td>\n",
              "      <td>0.078</td>\n",
              "      <td>-0.084</td>\n",
              "      <td>1.000</td>\n",
              "      <td>...</td>\n",
              "      <td>0.015</td>\n",
              "      <td>0.107</td>\n",
              "      <td>0.008</td>\n",
              "      <td>-0.055</td>\n",
              "      <td>0.011</td>\n",
              "      <td>0.035</td>\n",
              "      <td>-0.121</td>\n",
              "      <td>0.130</td>\n",
              "      <td>0.019</td>\n",
              "      <td>0.048</td>\n",
              "    </tr>\n",
              "    <tr>\n",
              "      <th>failures</th>\n",
              "      <td>-0.130</td>\n",
              "      <td>0.086</td>\n",
              "      <td>0.362</td>\n",
              "      <td>0.063</td>\n",
              "      <td>-0.070</td>\n",
              "      <td>-0.015</td>\n",
              "      <td>-0.172</td>\n",
              "      <td>-0.157</td>\n",
              "      <td>0.079</td>\n",
              "      <td>-0.125</td>\n",
              "      <td>...</td>\n",
              "      <td>-0.110</td>\n",
              "      <td>-0.063</td>\n",
              "      <td>-0.003</td>\n",
              "      <td>0.024</td>\n",
              "      <td>-0.073</td>\n",
              "      <td>-0.112</td>\n",
              "      <td>0.049</td>\n",
              "      <td>-0.119</td>\n",
              "      <td>-0.057</td>\n",
              "      <td>0.276</td>\n",
              "    </tr>\n",
              "    <tr>\n",
              "      <th>schoolsup</th>\n",
              "      <td>0.138</td>\n",
              "      <td>-0.106</td>\n",
              "      <td>-0.140</td>\n",
              "      <td>-0.031</td>\n",
              "      <td>-0.022</td>\n",
              "      <td>-0.039</td>\n",
              "      <td>0.005</td>\n",
              "      <td>0.027</td>\n",
              "      <td>-0.020</td>\n",
              "      <td>0.126</td>\n",
              "      <td>...</td>\n",
              "      <td>-0.034</td>\n",
              "      <td>0.034</td>\n",
              "      <td>-0.040</td>\n",
              "      <td>-0.002</td>\n",
              "      <td>0.053</td>\n",
              "      <td>0.073</td>\n",
              "      <td>-0.038</td>\n",
              "      <td>0.052</td>\n",
              "      <td>-0.032</td>\n",
              "      <td>-0.006</td>\n",
              "    </tr>\n",
              "    <tr>\n",
              "      <th>famsup</th>\n",
              "      <td>0.035</td>\n",
              "      <td>-0.158</td>\n",
              "      <td>-0.112</td>\n",
              "      <td>-0.015</td>\n",
              "      <td>0.012</td>\n",
              "      <td>-0.021</td>\n",
              "      <td>0.091</td>\n",
              "      <td>0.137</td>\n",
              "      <td>-0.031</td>\n",
              "      <td>0.156</td>\n",
              "      <td>...</td>\n",
              "      <td>0.031</td>\n",
              "      <td>0.073</td>\n",
              "      <td>-0.054</td>\n",
              "      <td>-0.016</td>\n",
              "      <td>0.027</td>\n",
              "      <td>0.028</td>\n",
              "      <td>-0.065</td>\n",
              "      <td>-0.011</td>\n",
              "      <td>-0.024</td>\n",
              "      <td>0.015</td>\n",
              "    </tr>\n",
              "    <tr>\n",
              "      <th>paid</th>\n",
              "      <td>0.018</td>\n",
              "      <td>0.078</td>\n",
              "      <td>0.040</td>\n",
              "      <td>0.028</td>\n",
              "      <td>-0.069</td>\n",
              "      <td>0.010</td>\n",
              "      <td>0.128</td>\n",
              "      <td>0.116</td>\n",
              "      <td>-0.068</td>\n",
              "      <td>0.003</td>\n",
              "      <td>...</td>\n",
              "      <td>-0.024</td>\n",
              "      <td>0.011</td>\n",
              "      <td>0.041</td>\n",
              "      <td>-0.027</td>\n",
              "      <td>-0.051</td>\n",
              "      <td>0.066</td>\n",
              "      <td>0.063</td>\n",
              "      <td>-0.095</td>\n",
              "      <td>0.057</td>\n",
              "      <td>-0.002</td>\n",
              "    </tr>\n",
              "    <tr>\n",
              "      <th>activities</th>\n",
              "      <td>0.076</td>\n",
              "      <td>0.134</td>\n",
              "      <td>-0.023</td>\n",
              "      <td>-0.056</td>\n",
              "      <td>0.023</td>\n",
              "      <td>0.089</td>\n",
              "      <td>0.138</td>\n",
              "      <td>0.109</td>\n",
              "      <td>-0.063</td>\n",
              "      <td>0.065</td>\n",
              "      <td>...</td>\n",
              "      <td>0.105</td>\n",
              "      <td>-0.020</td>\n",
              "      <td>-0.037</td>\n",
              "      <td>0.023</td>\n",
              "      <td>0.032</td>\n",
              "      <td>-0.049</td>\n",
              "      <td>-0.075</td>\n",
              "      <td>0.125</td>\n",
              "      <td>0.024</td>\n",
              "      <td>-0.032</td>\n",
              "    </tr>\n",
              "    <tr>\n",
              "      <th>nursery</th>\n",
              "      <td>-0.004</td>\n",
              "      <td>-0.027</td>\n",
              "      <td>-0.027</td>\n",
              "      <td>-0.001</td>\n",
              "      <td>0.081</td>\n",
              "      <td>-0.044</td>\n",
              "      <td>0.157</td>\n",
              "      <td>0.091</td>\n",
              "      <td>-0.005</td>\n",
              "      <td>0.065</td>\n",
              "      <td>...</td>\n",
              "      <td>0.107</td>\n",
              "      <td>0.084</td>\n",
              "      <td>-0.006</td>\n",
              "      <td>-0.045</td>\n",
              "      <td>-0.020</td>\n",
              "      <td>-0.032</td>\n",
              "      <td>-0.016</td>\n",
              "      <td>0.054</td>\n",
              "      <td>0.072</td>\n",
              "      <td>-0.077</td>\n",
              "    </tr>\n",
              "    <tr>\n",
              "      <th>higher</th>\n",
              "      <td>0.157</td>\n",
              "      <td>-0.084</td>\n",
              "      <td>-0.296</td>\n",
              "      <td>-0.026</td>\n",
              "      <td>0.019</td>\n",
              "      <td>0.009</td>\n",
              "      <td>0.218</td>\n",
              "      <td>0.176</td>\n",
              "      <td>-0.055</td>\n",
              "      <td>0.160</td>\n",
              "      <td>...</td>\n",
              "      <td>0.088</td>\n",
              "      <td>0.014</td>\n",
              "      <td>0.022</td>\n",
              "      <td>-0.016</td>\n",
              "      <td>0.029</td>\n",
              "      <td>0.058</td>\n",
              "      <td>-0.075</td>\n",
              "      <td>0.098</td>\n",
              "      <td>0.110</td>\n",
              "      <td>-0.212</td>\n",
              "    </tr>\n",
              "    <tr>\n",
              "      <th>internet</th>\n",
              "      <td>0.237</td>\n",
              "      <td>0.080</td>\n",
              "      <td>0.022</td>\n",
              "      <td>-0.157</td>\n",
              "      <td>-0.012</td>\n",
              "      <td>0.079</td>\n",
              "      <td>0.285</td>\n",
              "      <td>0.209</td>\n",
              "      <td>-0.218</td>\n",
              "      <td>-0.005</td>\n",
              "      <td>...</td>\n",
              "      <td>0.117</td>\n",
              "      <td>-0.029</td>\n",
              "      <td>0.046</td>\n",
              "      <td>0.039</td>\n",
              "      <td>-0.025</td>\n",
              "      <td>0.055</td>\n",
              "      <td>-0.081</td>\n",
              "      <td>0.121</td>\n",
              "      <td>0.006</td>\n",
              "      <td>0.018</td>\n",
              "    </tr>\n",
              "    <tr>\n",
              "      <th>romantic</th>\n",
              "      <td>-0.063</td>\n",
              "      <td>-0.123</td>\n",
              "      <td>0.205</td>\n",
              "      <td>-0.002</td>\n",
              "      <td>-0.019</td>\n",
              "      <td>-0.108</td>\n",
              "      <td>-0.043</td>\n",
              "      <td>-0.039</td>\n",
              "      <td>-0.017</td>\n",
              "      <td>0.024</td>\n",
              "      <td>...</td>\n",
              "      <td>-0.067</td>\n",
              "      <td>-0.010</td>\n",
              "      <td>0.015</td>\n",
              "      <td>-0.083</td>\n",
              "      <td>0.104</td>\n",
              "      <td>0.035</td>\n",
              "      <td>0.016</td>\n",
              "      <td>-0.092</td>\n",
              "      <td>-0.039</td>\n",
              "      <td>0.159</td>\n",
              "    </tr>\n",
              "    <tr>\n",
              "      <th>famrel</th>\n",
              "      <td>0.058</td>\n",
              "      <td>0.098</td>\n",
              "      <td>-0.006</td>\n",
              "      <td>0.002</td>\n",
              "      <td>-0.017</td>\n",
              "      <td>0.069</td>\n",
              "      <td>0.069</td>\n",
              "      <td>0.087</td>\n",
              "      <td>-0.025</td>\n",
              "      <td>-0.024</td>\n",
              "      <td>...</td>\n",
              "      <td>0.014</td>\n",
              "      <td>0.059</td>\n",
              "      <td>0.025</td>\n",
              "      <td>0.008</td>\n",
              "      <td>-0.032</td>\n",
              "      <td>-0.009</td>\n",
              "      <td>0.023</td>\n",
              "      <td>0.021</td>\n",
              "      <td>-0.031</td>\n",
              "      <td>-0.075</td>\n",
              "    </tr>\n",
              "    <tr>\n",
              "      <th>freetime</th>\n",
              "      <td>-0.020</td>\n",
              "      <td>0.163</td>\n",
              "      <td>0.038</td>\n",
              "      <td>-0.009</td>\n",
              "      <td>-0.012</td>\n",
              "      <td>-0.024</td>\n",
              "      <td>0.029</td>\n",
              "      <td>0.033</td>\n",
              "      <td>0.003</td>\n",
              "      <td>-0.075</td>\n",
              "      <td>...</td>\n",
              "      <td>0.087</td>\n",
              "      <td>-0.015</td>\n",
              "      <td>0.021</td>\n",
              "      <td>-0.056</td>\n",
              "      <td>0.045</td>\n",
              "      <td>-0.029</td>\n",
              "      <td>-0.049</td>\n",
              "      <td>-0.009</td>\n",
              "      <td>-0.015</td>\n",
              "      <td>0.059</td>\n",
              "    </tr>\n",
              "    <tr>\n",
              "      <th>goout</th>\n",
              "      <td>-0.024</td>\n",
              "      <td>0.087</td>\n",
              "      <td>0.151</td>\n",
              "      <td>-0.084</td>\n",
              "      <td>0.030</td>\n",
              "      <td>0.002</td>\n",
              "      <td>0.055</td>\n",
              "      <td>0.062</td>\n",
              "      <td>0.008</td>\n",
              "      <td>-0.099</td>\n",
              "      <td>...</td>\n",
              "      <td>-0.041</td>\n",
              "      <td>-0.008</td>\n",
              "      <td>0.024</td>\n",
              "      <td>-0.001</td>\n",
              "      <td>-0.016</td>\n",
              "      <td>-0.023</td>\n",
              "      <td>-0.011</td>\n",
              "      <td>-0.012</td>\n",
              "      <td>0.029</td>\n",
              "      <td>0.016</td>\n",
              "    </tr>\n",
              "    <tr>\n",
              "      <th>Dalc</th>\n",
              "      <td>-0.041</td>\n",
              "      <td>0.299</td>\n",
              "      <td>0.203</td>\n",
              "      <td>0.039</td>\n",
              "      <td>0.076</td>\n",
              "      <td>0.047</td>\n",
              "      <td>-0.011</td>\n",
              "      <td>-0.003</td>\n",
              "      <td>0.079</td>\n",
              "      <td>-0.153</td>\n",
              "      <td>...</td>\n",
              "      <td>0.025</td>\n",
              "      <td>0.025</td>\n",
              "      <td>-0.076</td>\n",
              "      <td>0.117</td>\n",
              "      <td>-0.016</td>\n",
              "      <td>0.043</td>\n",
              "      <td>0.117</td>\n",
              "      <td>-0.092</td>\n",
              "      <td>-0.114</td>\n",
              "      <td>0.090</td>\n",
              "    </tr>\n",
              "    <tr>\n",
              "      <th>Walc</th>\n",
              "      <td>-0.012</td>\n",
              "      <td>0.330</td>\n",
              "      <td>0.123</td>\n",
              "      <td>-0.017</td>\n",
              "      <td>0.115</td>\n",
              "      <td>0.077</td>\n",
              "      <td>-0.021</td>\n",
              "      <td>-0.002</td>\n",
              "      <td>0.048</td>\n",
              "      <td>-0.244</td>\n",
              "      <td>...</td>\n",
              "      <td>0.001</td>\n",
              "      <td>-0.038</td>\n",
              "      <td>-0.049</td>\n",
              "      <td>0.147</td>\n",
              "      <td>-0.072</td>\n",
              "      <td>-0.018</td>\n",
              "      <td>0.089</td>\n",
              "      <td>-0.010</td>\n",
              "      <td>0.000</td>\n",
              "      <td>-0.029</td>\n",
              "    </tr>\n",
              "    <tr>\n",
              "      <th>health</th>\n",
              "      <td>0.063</td>\n",
              "      <td>0.144</td>\n",
              "      <td>-0.025</td>\n",
              "      <td>-0.053</td>\n",
              "      <td>-0.003</td>\n",
              "      <td>-0.007</td>\n",
              "      <td>0.046</td>\n",
              "      <td>0.086</td>\n",
              "      <td>-0.048</td>\n",
              "      <td>-0.052</td>\n",
              "      <td>...</td>\n",
              "      <td>0.075</td>\n",
              "      <td>0.090</td>\n",
              "      <td>0.052</td>\n",
              "      <td>-0.081</td>\n",
              "      <td>0.069</td>\n",
              "      <td>-0.038</td>\n",
              "      <td>0.063</td>\n",
              "      <td>-0.136</td>\n",
              "      <td>0.000</td>\n",
              "      <td>-0.005</td>\n",
              "    </tr>\n",
              "    <tr>\n",
              "      <th>absences</th>\n",
              "      <td>0.166</td>\n",
              "      <td>0.037</td>\n",
              "      <td>0.181</td>\n",
              "      <td>-0.109</td>\n",
              "      <td>0.027</td>\n",
              "      <td>-0.134</td>\n",
              "      <td>0.019</td>\n",
              "      <td>0.048</td>\n",
              "      <td>-0.042</td>\n",
              "      <td>-0.100</td>\n",
              "      <td>...</td>\n",
              "      <td>0.002</td>\n",
              "      <td>-0.006</td>\n",
              "      <td>0.038</td>\n",
              "      <td>-0.043</td>\n",
              "      <td>-0.002</td>\n",
              "      <td>0.074</td>\n",
              "      <td>-0.018</td>\n",
              "      <td>0.053</td>\n",
              "      <td>0.021</td>\n",
              "      <td>0.124</td>\n",
              "    </tr>\n",
              "    <tr>\n",
              "      <th>G3</th>\n",
              "      <td>0.321</td>\n",
              "      <td>-0.086</td>\n",
              "      <td>-0.181</td>\n",
              "      <td>-0.156</td>\n",
              "      <td>0.053</td>\n",
              "      <td>-0.019</td>\n",
              "      <td>0.208</td>\n",
              "      <td>0.197</td>\n",
              "      <td>-0.151</td>\n",
              "      <td>0.218</td>\n",
              "      <td>...</td>\n",
              "      <td>0.096</td>\n",
              "      <td>0.031</td>\n",
              "      <td>0.084</td>\n",
              "      <td>-0.111</td>\n",
              "      <td>0.037</td>\n",
              "      <td>0.055</td>\n",
              "      <td>-0.232</td>\n",
              "      <td>0.211</td>\n",
              "      <td>0.016</td>\n",
              "      <td>-0.068</td>\n",
              "    </tr>\n",
              "    <tr>\n",
              "      <th>Mjob_health</th>\n",
              "      <td>0.060</td>\n",
              "      <td>0.051</td>\n",
              "      <td>-0.120</td>\n",
              "      <td>-0.106</td>\n",
              "      <td>0.062</td>\n",
              "      <td>-0.042</td>\n",
              "      <td>0.247</td>\n",
              "      <td>0.120</td>\n",
              "      <td>-0.085</td>\n",
              "      <td>-0.039</td>\n",
              "      <td>...</td>\n",
              "      <td>-0.086</td>\n",
              "      <td>0.173</td>\n",
              "      <td>-0.059</td>\n",
              "      <td>0.026</td>\n",
              "      <td>-0.004</td>\n",
              "      <td>-0.044</td>\n",
              "      <td>0.059</td>\n",
              "      <td>0.093</td>\n",
              "      <td>0.004</td>\n",
              "      <td>-0.073</td>\n",
              "    </tr>\n",
              "    <tr>\n",
              "      <th>Mjob_other</th>\n",
              "      <td>-0.040</td>\n",
              "      <td>-0.073</td>\n",
              "      <td>0.052</td>\n",
              "      <td>0.010</td>\n",
              "      <td>-0.034</td>\n",
              "      <td>-0.012</td>\n",
              "      <td>-0.207</td>\n",
              "      <td>-0.174</td>\n",
              "      <td>-0.015</td>\n",
              "      <td>0.037</td>\n",
              "      <td>...</td>\n",
              "      <td>-0.268</td>\n",
              "      <td>-0.083</td>\n",
              "      <td>0.218</td>\n",
              "      <td>-0.155</td>\n",
              "      <td>-0.039</td>\n",
              "      <td>0.095</td>\n",
              "      <td>-0.124</td>\n",
              "      <td>0.042</td>\n",
              "      <td>-0.109</td>\n",
              "      <td>0.074</td>\n",
              "    </tr>\n",
              "    <tr>\n",
              "      <th>Mjob_services</th>\n",
              "      <td>0.128</td>\n",
              "      <td>0.118</td>\n",
              "      <td>-0.009</td>\n",
              "      <td>-0.105</td>\n",
              "      <td>0.052</td>\n",
              "      <td>-0.042</td>\n",
              "      <td>0.183</td>\n",
              "      <td>0.122</td>\n",
              "      <td>-0.051</td>\n",
              "      <td>0.016</td>\n",
              "      <td>...</td>\n",
              "      <td>-0.163</td>\n",
              "      <td>-0.016</td>\n",
              "      <td>-0.138</td>\n",
              "      <td>0.190</td>\n",
              "      <td>-0.068</td>\n",
              "      <td>-0.020</td>\n",
              "      <td>0.035</td>\n",
              "      <td>0.078</td>\n",
              "      <td>0.095</td>\n",
              "      <td>-0.095</td>\n",
              "    </tr>\n",
              "    <tr>\n",
              "      <th>Mjob_teacher</th>\n",
              "      <td>0.148</td>\n",
              "      <td>0.127</td>\n",
              "      <td>-0.084</td>\n",
              "      <td>-0.034</td>\n",
              "      <td>0.018</td>\n",
              "      <td>0.041</td>\n",
              "      <td>0.416</td>\n",
              "      <td>0.286</td>\n",
              "      <td>-0.090</td>\n",
              "      <td>0.015</td>\n",
              "      <td>...</td>\n",
              "      <td>1.000</td>\n",
              "      <td>0.042</td>\n",
              "      <td>-0.090</td>\n",
              "      <td>0.004</td>\n",
              "      <td>0.228</td>\n",
              "      <td>0.007</td>\n",
              "      <td>-0.079</td>\n",
              "      <td>-0.018</td>\n",
              "      <td>0.108</td>\n",
              "      <td>-0.056</td>\n",
              "    </tr>\n",
              "    <tr>\n",
              "      <th>Fjob_health</th>\n",
              "      <td>0.068</td>\n",
              "      <td>0.026</td>\n",
              "      <td>-0.113</td>\n",
              "      <td>-0.084</td>\n",
              "      <td>0.048</td>\n",
              "      <td>-0.072</td>\n",
              "      <td>0.124</td>\n",
              "      <td>0.197</td>\n",
              "      <td>-0.074</td>\n",
              "      <td>0.107</td>\n",
              "      <td>...</td>\n",
              "      <td>0.042</td>\n",
              "      <td>1.000</td>\n",
              "      <td>-0.198</td>\n",
              "      <td>-0.103</td>\n",
              "      <td>-0.031</td>\n",
              "      <td>-0.057</td>\n",
              "      <td>0.039</td>\n",
              "      <td>0.115</td>\n",
              "      <td>-0.043</td>\n",
              "      <td>-0.045</td>\n",
              "    </tr>\n",
              "    <tr>\n",
              "      <th>Fjob_other</th>\n",
              "      <td>0.093</td>\n",
              "      <td>-0.054</td>\n",
              "      <td>0.102</td>\n",
              "      <td>0.032</td>\n",
              "      <td>0.038</td>\n",
              "      <td>-0.055</td>\n",
              "      <td>-0.077</td>\n",
              "      <td>-0.178</td>\n",
              "      <td>0.060</td>\n",
              "      <td>0.008</td>\n",
              "      <td>...</td>\n",
              "      <td>-0.090</td>\n",
              "      <td>-0.198</td>\n",
              "      <td>1.000</td>\n",
              "      <td>-0.748</td>\n",
              "      <td>-0.229</td>\n",
              "      <td>0.113</td>\n",
              "      <td>-0.121</td>\n",
              "      <td>0.019</td>\n",
              "      <td>0.066</td>\n",
              "      <td>0.101</td>\n",
              "    </tr>\n",
              "    <tr>\n",
              "      <th>Fjob_services</th>\n",
              "      <td>-0.077</td>\n",
              "      <td>0.060</td>\n",
              "      <td>-0.072</td>\n",
              "      <td>-0.016</td>\n",
              "      <td>-0.012</td>\n",
              "      <td>0.113</td>\n",
              "      <td>-0.007</td>\n",
              "      <td>0.056</td>\n",
              "      <td>-0.020</td>\n",
              "      <td>-0.055</td>\n",
              "      <td>...</td>\n",
              "      <td>0.004</td>\n",
              "      <td>-0.103</td>\n",
              "      <td>-0.748</td>\n",
              "      <td>1.000</td>\n",
              "      <td>-0.119</td>\n",
              "      <td>-0.071</td>\n",
              "      <td>0.144</td>\n",
              "      <td>-0.038</td>\n",
              "      <td>-0.056</td>\n",
              "      <td>-0.071</td>\n",
              "    </tr>\n",
              "    <tr>\n",
              "      <th>Fjob_teacher</th>\n",
              "      <td>0.071</td>\n",
              "      <td>0.030</td>\n",
              "      <td>-0.068</td>\n",
              "      <td>0.049</td>\n",
              "      <td>-0.120</td>\n",
              "      <td>-0.008</td>\n",
              "      <td>0.204</td>\n",
              "      <td>0.303</td>\n",
              "      <td>0.022</td>\n",
              "      <td>0.011</td>\n",
              "      <td>...</td>\n",
              "      <td>0.228</td>\n",
              "      <td>-0.031</td>\n",
              "      <td>-0.229</td>\n",
              "      <td>-0.119</td>\n",
              "      <td>1.000</td>\n",
              "      <td>-0.076</td>\n",
              "      <td>-0.022</td>\n",
              "      <td>0.017</td>\n",
              "      <td>-0.032</td>\n",
              "      <td>-0.052</td>\n",
              "    </tr>\n",
              "    <tr>\n",
              "      <th>reason_home</th>\n",
              "      <td>0.120</td>\n",
              "      <td>0.008</td>\n",
              "      <td>-0.042</td>\n",
              "      <td>-0.146</td>\n",
              "      <td>0.028</td>\n",
              "      <td>-0.072</td>\n",
              "      <td>0.013</td>\n",
              "      <td>-0.034</td>\n",
              "      <td>-0.158</td>\n",
              "      <td>0.035</td>\n",
              "      <td>...</td>\n",
              "      <td>0.007</td>\n",
              "      <td>-0.057</td>\n",
              "      <td>0.113</td>\n",
              "      <td>-0.071</td>\n",
              "      <td>-0.076</td>\n",
              "      <td>1.000</td>\n",
              "      <td>-0.179</td>\n",
              "      <td>-0.284</td>\n",
              "      <td>0.022</td>\n",
              "      <td>-0.002</td>\n",
              "    </tr>\n",
              "    <tr>\n",
              "      <th>reason_other</th>\n",
              "      <td>-0.231</td>\n",
              "      <td>0.058</td>\n",
              "      <td>0.059</td>\n",
              "      <td>0.112</td>\n",
              "      <td>-0.041</td>\n",
              "      <td>0.046</td>\n",
              "      <td>-0.065</td>\n",
              "      <td>-0.063</td>\n",
              "      <td>0.121</td>\n",
              "      <td>-0.121</td>\n",
              "      <td>...</td>\n",
              "      <td>-0.079</td>\n",
              "      <td>0.039</td>\n",
              "      <td>-0.121</td>\n",
              "      <td>0.144</td>\n",
              "      <td>-0.022</td>\n",
              "      <td>-0.179</td>\n",
              "      <td>1.000</td>\n",
              "      <td>-0.171</td>\n",
              "      <td>-0.015</td>\n",
              "      <td>-0.059</td>\n",
              "    </tr>\n",
              "    <tr>\n",
              "      <th>reason_reputation</th>\n",
              "      <td>0.173</td>\n",
              "      <td>-0.001</td>\n",
              "      <td>0.009</td>\n",
              "      <td>-0.018</td>\n",
              "      <td>0.065</td>\n",
              "      <td>-0.036</td>\n",
              "      <td>0.169</td>\n",
              "      <td>0.136</td>\n",
              "      <td>-0.077</td>\n",
              "      <td>0.130</td>\n",
              "      <td>...</td>\n",
              "      <td>-0.018</td>\n",
              "      <td>0.115</td>\n",
              "      <td>0.019</td>\n",
              "      <td>-0.038</td>\n",
              "      <td>0.017</td>\n",
              "      <td>-0.284</td>\n",
              "      <td>-0.171</td>\n",
              "      <td>1.000</td>\n",
              "      <td>-0.002</td>\n",
              "      <td>-0.035</td>\n",
              "    </tr>\n",
              "    <tr>\n",
              "      <th>guardian_mother</th>\n",
              "      <td>0.066</td>\n",
              "      <td>-0.042</td>\n",
              "      <td>-0.040</td>\n",
              "      <td>-0.056</td>\n",
              "      <td>0.057</td>\n",
              "      <td>-0.064</td>\n",
              "      <td>0.114</td>\n",
              "      <td>-0.049</td>\n",
              "      <td>-0.075</td>\n",
              "      <td>0.019</td>\n",
              "      <td>...</td>\n",
              "      <td>0.108</td>\n",
              "      <td>-0.043</td>\n",
              "      <td>0.066</td>\n",
              "      <td>-0.056</td>\n",
              "      <td>-0.032</td>\n",
              "      <td>0.022</td>\n",
              "      <td>-0.015</td>\n",
              "      <td>-0.002</td>\n",
              "      <td>1.000</td>\n",
              "      <td>-0.416</td>\n",
              "    </tr>\n",
              "    <tr>\n",
              "      <th>guardian_other</th>\n",
              "      <td>0.006</td>\n",
              "      <td>-0.002</td>\n",
              "      <td>0.380</td>\n",
              "      <td>0.040</td>\n",
              "      <td>-0.035</td>\n",
              "      <td>-0.097</td>\n",
              "      <td>-0.143</td>\n",
              "      <td>-0.107</td>\n",
              "      <td>0.072</td>\n",
              "      <td>0.048</td>\n",
              "      <td>...</td>\n",
              "      <td>-0.056</td>\n",
              "      <td>-0.045</td>\n",
              "      <td>0.101</td>\n",
              "      <td>-0.071</td>\n",
              "      <td>-0.052</td>\n",
              "      <td>-0.002</td>\n",
              "      <td>-0.059</td>\n",
              "      <td>-0.035</td>\n",
              "      <td>-0.416</td>\n",
              "      <td>1.000</td>\n",
              "    </tr>\n",
              "  </tbody>\n",
              "</table>\n",
              "<p>40 rows × 40 columns</p>\n",
              "</div>\n",
              "    <div class=\"colab-df-buttons\">\n",
              "\n",
              "  <div class=\"colab-df-container\">\n",
              "    <button class=\"colab-df-convert\" onclick=\"convertToInteractive('df-878aea27-8209-442b-8dd2-dda87cea1013')\"\n",
              "            title=\"Convert this dataframe to an interactive table.\"\n",
              "            style=\"display:none;\">\n",
              "\n",
              "  <svg xmlns=\"http://www.w3.org/2000/svg\" height=\"24px\" viewBox=\"0 -960 960 960\">\n",
              "    <path d=\"M120-120v-720h720v720H120Zm60-500h600v-160H180v160Zm220 220h160v-160H400v160Zm0 220h160v-160H400v160ZM180-400h160v-160H180v160Zm440 0h160v-160H620v160ZM180-180h160v-160H180v160Zm440 0h160v-160H620v160Z\"/>\n",
              "  </svg>\n",
              "    </button>\n",
              "\n",
              "  <style>\n",
              "    .colab-df-container {\n",
              "      display:flex;\n",
              "      gap: 12px;\n",
              "    }\n",
              "\n",
              "    .colab-df-convert {\n",
              "      background-color: #E8F0FE;\n",
              "      border: none;\n",
              "      border-radius: 50%;\n",
              "      cursor: pointer;\n",
              "      display: none;\n",
              "      fill: #1967D2;\n",
              "      height: 32px;\n",
              "      padding: 0 0 0 0;\n",
              "      width: 32px;\n",
              "    }\n",
              "\n",
              "    .colab-df-convert:hover {\n",
              "      background-color: #E2EBFA;\n",
              "      box-shadow: 0px 1px 2px rgba(60, 64, 67, 0.3), 0px 1px 3px 1px rgba(60, 64, 67, 0.15);\n",
              "      fill: #174EA6;\n",
              "    }\n",
              "\n",
              "    .colab-df-buttons div {\n",
              "      margin-bottom: 4px;\n",
              "    }\n",
              "\n",
              "    [theme=dark] .colab-df-convert {\n",
              "      background-color: #3B4455;\n",
              "      fill: #D2E3FC;\n",
              "    }\n",
              "\n",
              "    [theme=dark] .colab-df-convert:hover {\n",
              "      background-color: #434B5C;\n",
              "      box-shadow: 0px 1px 3px 1px rgba(0, 0, 0, 0.15);\n",
              "      filter: drop-shadow(0px 1px 2px rgba(0, 0, 0, 0.3));\n",
              "      fill: #FFFFFF;\n",
              "    }\n",
              "  </style>\n",
              "\n",
              "    <script>\n",
              "      const buttonEl =\n",
              "        document.querySelector('#df-878aea27-8209-442b-8dd2-dda87cea1013 button.colab-df-convert');\n",
              "      buttonEl.style.display =\n",
              "        google.colab.kernel.accessAllowed ? 'block' : 'none';\n",
              "\n",
              "      async function convertToInteractive(key) {\n",
              "        const element = document.querySelector('#df-878aea27-8209-442b-8dd2-dda87cea1013');\n",
              "        const dataTable =\n",
              "          await google.colab.kernel.invokeFunction('convertToInteractive',\n",
              "                                                    [key], {});\n",
              "        if (!dataTable) return;\n",
              "\n",
              "        const docLinkHtml = 'Like what you see? Visit the ' +\n",
              "          '<a target=\"_blank\" href=https://colab.research.google.com/notebooks/data_table.ipynb>data table notebook</a>'\n",
              "          + ' to learn more about interactive tables.';\n",
              "        element.innerHTML = '';\n",
              "        dataTable['output_type'] = 'display_data';\n",
              "        await google.colab.output.renderOutput(dataTable, element);\n",
              "        const docLink = document.createElement('div');\n",
              "        docLink.innerHTML = docLinkHtml;\n",
              "        element.appendChild(docLink);\n",
              "      }\n",
              "    </script>\n",
              "  </div>\n",
              "\n",
              "\n",
              "<div id=\"df-f4726e14-5573-49bd-852f-69acf4587c7f\">\n",
              "  <button class=\"colab-df-quickchart\" onclick=\"quickchart('df-f4726e14-5573-49bd-852f-69acf4587c7f')\"\n",
              "            title=\"Suggest charts\"\n",
              "            style=\"display:none;\">\n",
              "\n",
              "<svg xmlns=\"http://www.w3.org/2000/svg\" height=\"24px\"viewBox=\"0 0 24 24\"\n",
              "     width=\"24px\">\n",
              "    <g>\n",
              "        <path d=\"M19 3H5c-1.1 0-2 .9-2 2v14c0 1.1.9 2 2 2h14c1.1 0 2-.9 2-2V5c0-1.1-.9-2-2-2zM9 17H7v-7h2v7zm4 0h-2V7h2v10zm4 0h-2v-4h2v4z\"/>\n",
              "    </g>\n",
              "</svg>\n",
              "  </button>\n",
              "\n",
              "<style>\n",
              "  .colab-df-quickchart {\n",
              "      --bg-color: #E8F0FE;\n",
              "      --fill-color: #1967D2;\n",
              "      --hover-bg-color: #E2EBFA;\n",
              "      --hover-fill-color: #174EA6;\n",
              "      --disabled-fill-color: #AAA;\n",
              "      --disabled-bg-color: #DDD;\n",
              "  }\n",
              "\n",
              "  [theme=dark] .colab-df-quickchart {\n",
              "      --bg-color: #3B4455;\n",
              "      --fill-color: #D2E3FC;\n",
              "      --hover-bg-color: #434B5C;\n",
              "      --hover-fill-color: #FFFFFF;\n",
              "      --disabled-bg-color: #3B4455;\n",
              "      --disabled-fill-color: #666;\n",
              "  }\n",
              "\n",
              "  .colab-df-quickchart {\n",
              "    background-color: var(--bg-color);\n",
              "    border: none;\n",
              "    border-radius: 50%;\n",
              "    cursor: pointer;\n",
              "    display: none;\n",
              "    fill: var(--fill-color);\n",
              "    height: 32px;\n",
              "    padding: 0;\n",
              "    width: 32px;\n",
              "  }\n",
              "\n",
              "  .colab-df-quickchart:hover {\n",
              "    background-color: var(--hover-bg-color);\n",
              "    box-shadow: 0 1px 2px rgba(60, 64, 67, 0.3), 0 1px 3px 1px rgba(60, 64, 67, 0.15);\n",
              "    fill: var(--button-hover-fill-color);\n",
              "  }\n",
              "\n",
              "  .colab-df-quickchart-complete:disabled,\n",
              "  .colab-df-quickchart-complete:disabled:hover {\n",
              "    background-color: var(--disabled-bg-color);\n",
              "    fill: var(--disabled-fill-color);\n",
              "    box-shadow: none;\n",
              "  }\n",
              "\n",
              "  .colab-df-spinner {\n",
              "    border: 2px solid var(--fill-color);\n",
              "    border-color: transparent;\n",
              "    border-bottom-color: var(--fill-color);\n",
              "    animation:\n",
              "      spin 1s steps(1) infinite;\n",
              "  }\n",
              "\n",
              "  @keyframes spin {\n",
              "    0% {\n",
              "      border-color: transparent;\n",
              "      border-bottom-color: var(--fill-color);\n",
              "      border-left-color: var(--fill-color);\n",
              "    }\n",
              "    20% {\n",
              "      border-color: transparent;\n",
              "      border-left-color: var(--fill-color);\n",
              "      border-top-color: var(--fill-color);\n",
              "    }\n",
              "    30% {\n",
              "      border-color: transparent;\n",
              "      border-left-color: var(--fill-color);\n",
              "      border-top-color: var(--fill-color);\n",
              "      border-right-color: var(--fill-color);\n",
              "    }\n",
              "    40% {\n",
              "      border-color: transparent;\n",
              "      border-right-color: var(--fill-color);\n",
              "      border-top-color: var(--fill-color);\n",
              "    }\n",
              "    60% {\n",
              "      border-color: transparent;\n",
              "      border-right-color: var(--fill-color);\n",
              "    }\n",
              "    80% {\n",
              "      border-color: transparent;\n",
              "      border-right-color: var(--fill-color);\n",
              "      border-bottom-color: var(--fill-color);\n",
              "    }\n",
              "    90% {\n",
              "      border-color: transparent;\n",
              "      border-bottom-color: var(--fill-color);\n",
              "    }\n",
              "  }\n",
              "</style>\n",
              "\n",
              "  <script>\n",
              "    async function quickchart(key) {\n",
              "      const quickchartButtonEl =\n",
              "        document.querySelector('#' + key + ' button');\n",
              "      quickchartButtonEl.disabled = true;  // To prevent multiple clicks.\n",
              "      quickchartButtonEl.classList.add('colab-df-spinner');\n",
              "      try {\n",
              "        const charts = await google.colab.kernel.invokeFunction(\n",
              "            'suggestCharts', [key], {});\n",
              "      } catch (error) {\n",
              "        console.error('Error during call to suggestCharts:', error);\n",
              "      }\n",
              "      quickchartButtonEl.classList.remove('colab-df-spinner');\n",
              "      quickchartButtonEl.classList.add('colab-df-quickchart-complete');\n",
              "    }\n",
              "    (() => {\n",
              "      let quickchartButtonEl =\n",
              "        document.querySelector('#df-f4726e14-5573-49bd-852f-69acf4587c7f button');\n",
              "      quickchartButtonEl.style.display =\n",
              "        google.colab.kernel.accessAllowed ? 'block' : 'none';\n",
              "    })();\n",
              "  </script>\n",
              "</div>\n",
              "    </div>\n",
              "  </div>\n"
            ],
            "application/vnd.google.colaboratory.intrinsic+json": {
              "type": "dataframe"
            }
          },
          "metadata": {},
          "execution_count": 29
        }
      ],
      "source": [
        "X_data.corr().round(3)"
      ]
    },
    {
      "cell_type": "markdown",
      "metadata": {
        "id": "Uamr3aOOSVo4"
      },
      "source": [
        "## Посчитайте корреляцию Спирмана и нарисуйте ее в виде тепловой карты"
      ]
    },
    {
      "cell_type": "markdown",
      "metadata": {
        "id": "XblaT0LpWqRZ"
      },
      "source": [
        "Для большей информации запускать после кодирования категориальных признаков"
      ]
    },
    {
      "cell_type": "code",
      "execution_count": 30,
      "metadata": {
        "id": "OA7BA80QSVo5",
        "colab": {
          "base_uri": "https://localhost:8080/",
          "height": 873
        },
        "outputId": "678b3a9d-8f39-48a2-adac-6737fc3a2bda"
      },
      "outputs": [
        {
          "output_type": "display_data",
          "data": {
            "text/plain": [
              "<Figure size 1000x1000 with 2 Axes>"
            ],
            "image/png": "[encoded data removed]"
          },
          "metadata": {}
        }
      ],
      "source": [
        "matr_spearman = X_data.corr(method='spearman').round(3)\n",
        "fig, ax = plt.subplots(figsize=(10, 10))\n",
        "sns.heatmap(matr_spearman, square=True, cmap=\"RdBu\", linewidths= .3)\n",
        "plt.show()"
      ]
    },
    {
      "cell_type": "markdown",
      "metadata": {
        "_cell_guid": "21ae96ef-7925-4a81-1f1d-54d4ed018ec3",
        "id": "HU8fL_6GtGWV"
      },
      "source": [
        "## Диапазон значений характеристик\n",
        "\n",
        "Посчитайте число уникальных значений для каждого признака и сравните их между собой."
      ]
    },
    {
      "cell_type": "code",
      "execution_count": 21,
      "metadata": {
        "id": "MnBcttm5tGWW",
        "colab": {
          "base_uri": "https://localhost:8080/",
          "height": 503
        },
        "outputId": "1a6a97dd-3693-4e09-8a9f-53a21287ef87"
      },
      "outputs": [
        {
          "output_type": "display_data",
          "data": {
            "text/plain": [
              "<Figure size 1000x500 with 1 Axes>"
            ],
            "image/png": "[encoded data removed]"
          },
          "metadata": {}
        }
      ],
      "source": [
        "plt.figure(figsize=(10,5))\n",
        "feature = X_data.columns\n",
        "unique = [len(X_data[f].unique()) for f in feature]\n",
        "plt.bar(feature, unique, color='r')\n",
        "plt.xticks(rotation=90)\n",
        "plt.ylabel(\"number of unique features\")\n",
        "plt.show()"
      ]
    },
    {
      "cell_type": "markdown",
      "metadata": {
        "id": "p_mf61fgSVo5"
      },
      "source": [
        "## Найдите соотношение мужского и женского пола для самых выскоих оценок (G3) из датасета, у которых время на дорогу больше, чем 30 минут. Нарисуйте это соотношение на круговой диаграмме"
      ]
    },
    {
      "cell_type": "markdown",
      "metadata": {
        "id": "Q_GM66scSVo5"
      },
      "source": [
        "#### Если взять за высокие оценки около 20 процентов от результатов учеников, то высокими считаются оценки начиня с 15 балов"
      ]
    },
    {
      "cell_type": "code",
      "execution_count": 22,
      "metadata": {
        "colab": {
          "base_uri": "https://localhost:8080/",
          "height": 406
        },
        "id": "cm1yO-eLWqRf",
        "outputId": "f41331c5-4b69-4b56-8e34-a2a6103422dd"
      },
      "outputs": [
        {
          "output_type": "display_data",
          "data": {
            "text/plain": [
              "<Figure size 640x480 with 1 Axes>"
            ],
            "image/png": "[encoded data removed]"
          },
          "metadata": {}
        }
      ],
      "source": [
        "male = len(X_data[(X_data['G3']>14) & (X_data['sex']=='M') & (X_data['traveltime']>2)])\n",
        "female = len(X_data[(X_data['G3']>14) & (X_data['sex']=='F') & (X_data['traveltime']>2)])\n",
        "plt.pie([male, female], labels=['male', 'female'], autopct='%6.1f%%')\n",
        "plt.show()"
      ]
    },
    {
      "cell_type": "markdown",
      "metadata": {
        "id": "hw0rZvP0SVo5"
      },
      "source": [
        "## Построить boxplot для оценок по возрасту.  "
      ]
    },
    {
      "cell_type": "code",
      "execution_count": 23,
      "metadata": {
        "id": "2auancXdSVo5",
        "colab": {
          "base_uri": "https://localhost:8080/",
          "height": 482
        },
        "outputId": "05308a6b-84c2-4240-9290-da51aa162102"
      },
      "outputs": [
        {
          "output_type": "execute_result",
          "data": {
            "text/plain": [
              "<Axes: xlabel='age', ylabel='G3'>"
            ]
          },
          "metadata": {},
          "execution_count": 23
        },
        {
          "output_type": "display_data",
          "data": {
            "text/plain": [
              "<Figure size 1000x500 with 1 Axes>"
            ],
            "image/png": "[encoded data removed]"
          },
          "metadata": {}
        }
      ],
      "source": [
        "plt.figure(figsize=(10,5))\n",
        "sns.boxplot(x='age', y='G3', data=X_data[['age', 'G3']])"
      ]
    },
    {
      "cell_type": "markdown",
      "metadata": {
        "id": "wCL9MGy8SVo5"
      },
      "source": [
        "## Найти id топ-5 самых юных отличников."
      ]
    },
    {
      "cell_type": "code",
      "execution_count": 24,
      "metadata": {
        "colab": {
          "base_uri": "https://localhost:8080/"
        },
        "id": "aDj9Is1XWqRg",
        "outputId": "c7565b67-0517-4dfe-95b2-311c29ab702d"
      },
      "outputs": [
        {
          "output_type": "execute_result",
          "data": {
            "text/plain": [
              "[284, 441, 197, 200, 112]"
            ]
          },
          "metadata": {},
          "execution_count": 24
        }
      ],
      "source": [
        "X_data[X_data['G3'] > 14].sort_values('age')[:5].index.tolist()"
      ]
    },
    {
      "cell_type": "markdown",
      "metadata": {
        "id": "9UPBcWBUSVo6"
      },
      "source": [
        "## Для каждого возраста найдите максимальную и минимальную оценку (G3)"
      ]
    },
    {
      "cell_type": "code",
      "execution_count": 25,
      "metadata": {
        "colab": {
          "base_uri": "https://localhost:8080/",
          "height": 331
        },
        "id": "H0kRO2UXWqRg",
        "outputId": "4baf49a0-a62a-4c5a-d20b-d5fcc63baed0"
      },
      "outputs": [
        {
          "output_type": "execute_result",
          "data": {
            "text/plain": [
              "      grade_max  grade_min\n",
              "age                       \n",
              "15.0         18          8\n",
              "16.0         18          1\n",
              "17.0         19          0\n",
              "18.0         17          0\n",
              "19.0         13          0\n",
              "20.0         15         10\n",
              "21.0         12         10\n",
              "22.0          5          5"
            ],
            "text/html": [
              "\n",
              "  <div id=\"df-a12fcdff-f8ae-43d3-af43-e8fc55789a9a\" class=\"colab-df-container\">\n",
              "    <div>\n",
              "<style scoped>\n",
              "    .dataframe tbody tr th:only-of-type {\n",
              "        vertical-align: middle;\n",
              "    }\n",
              "\n",
              "    .dataframe tbody tr th {\n",
              "        vertical-align: top;\n",
              "    }\n",
              "\n",
              "    .dataframe thead th {\n",
              "        text-align: right;\n",
              "    }\n",
              "</style>\n",
              "<table border=\"1\" class=\"dataframe\">\n",
              "  <thead>\n",
              "    <tr style=\"text-align: right;\">\n",
              "      <th></th>\n",
              "      <th>grade_max</th>\n",
              "      <th>grade_min</th>\n",
              "    </tr>\n",
              "    <tr>\n",
              "      <th>age</th>\n",
              "      <th></th>\n",
              "      <th></th>\n",
              "    </tr>\n",
              "  </thead>\n",
              "  <tbody>\n",
              "    <tr>\n",
              "      <th>15.0</th>\n",
              "      <td>18</td>\n",
              "      <td>8</td>\n",
              "    </tr>\n",
              "    <tr>\n",
              "      <th>16.0</th>\n",
              "      <td>18</td>\n",
              "      <td>1</td>\n",
              "    </tr>\n",
              "    <tr>\n",
              "      <th>17.0</th>\n",
              "      <td>19</td>\n",
              "      <td>0</td>\n",
              "    </tr>\n",
              "    <tr>\n",
              "      <th>18.0</th>\n",
              "      <td>17</td>\n",
              "      <td>0</td>\n",
              "    </tr>\n",
              "    <tr>\n",
              "      <th>19.0</th>\n",
              "      <td>13</td>\n",
              "      <td>0</td>\n",
              "    </tr>\n",
              "    <tr>\n",
              "      <th>20.0</th>\n",
              "      <td>15</td>\n",
              "      <td>10</td>\n",
              "    </tr>\n",
              "    <tr>\n",
              "      <th>21.0</th>\n",
              "      <td>12</td>\n",
              "      <td>10</td>\n",
              "    </tr>\n",
              "    <tr>\n",
              "      <th>22.0</th>\n",
              "      <td>5</td>\n",
              "      <td>5</td>\n",
              "    </tr>\n",
              "  </tbody>\n",
              "</table>\n",
              "</div>\n",
              "    <div class=\"colab-df-buttons\">\n",
              "\n",
              "  <div class=\"colab-df-container\">\n",
              "    <button class=\"colab-df-convert\" onclick=\"convertToInteractive('df-a12fcdff-f8ae-43d3-af43-e8fc55789a9a')\"\n",
              "            title=\"Convert this dataframe to an interactive table.\"\n",
              "            style=\"display:none;\">\n",
              "\n",
              "  <svg xmlns=\"http://www.w3.org/2000/svg\" height=\"24px\" viewBox=\"0 -960 960 960\">\n",
              "    <path d=\"M120-120v-720h720v720H120Zm60-500h600v-160H180v160Zm220 220h160v-160H400v160Zm0 220h160v-160H400v160ZM180-400h160v-160H180v160Zm440 0h160v-160H620v160ZM180-180h160v-160H180v160Zm440 0h160v-160H620v160Z\"/>\n",
              "  </svg>\n",
              "    </button>\n",
              "\n",
              "  <style>\n",
              "    .colab-df-container {\n",
              "      display:flex;\n",
              "      gap: 12px;\n",
              "    }\n",
              "\n",
              "    .colab-df-convert {\n",
              "      background-color: #E8F0FE;\n",
              "      border: none;\n",
              "      border-radius: 50%;\n",
              "      cursor: pointer;\n",
              "      display: none;\n",
              "      fill: #1967D2;\n",
              "      height: 32px;\n",
              "      padding: 0 0 0 0;\n",
              "      width: 32px;\n",
              "    }\n",
              "\n",
              "    .colab-df-convert:hover {\n",
              "      background-color: #E2EBFA;\n",
              "      box-shadow: 0px 1px 2px rgba(60, 64, 67, 0.3), 0px 1px 3px 1px rgba(60, 64, 67, 0.15);\n",
              "      fill: #174EA6;\n",
              "    }\n",
              "\n",
              "    .colab-df-buttons div {\n",
              "      margin-bottom: 4px;\n",
              "    }\n",
              "\n",
              "    [theme=dark] .colab-df-convert {\n",
              "      background-color: #3B4455;\n",
              "      fill: #D2E3FC;\n",
              "    }\n",
              "\n",
              "    [theme=dark] .colab-df-convert:hover {\n",
              "      background-color: #434B5C;\n",
              "      box-shadow: 0px 1px 3px 1px rgba(0, 0, 0, 0.15);\n",
              "      filter: drop-shadow(0px 1px 2px rgba(0, 0, 0, 0.3));\n",
              "      fill: #FFFFFF;\n",
              "    }\n",
              "  </style>\n",
              "\n",
              "    <script>\n",
              "      const buttonEl =\n",
              "        document.querySelector('#df-a12fcdff-f8ae-43d3-af43-e8fc55789a9a button.colab-df-convert');\n",
              "      buttonEl.style.display =\n",
              "        google.colab.kernel.accessAllowed ? 'block' : 'none';\n",
              "\n",
              "      async function convertToInteractive(key) {\n",
              "        const element = document.querySelector('#df-a12fcdff-f8ae-43d3-af43-e8fc55789a9a');\n",
              "        const dataTable =\n",
              "          await google.colab.kernel.invokeFunction('convertToInteractive',\n",
              "                                                    [key], {});\n",
              "        if (!dataTable) return;\n",
              "\n",
              "        const docLinkHtml = 'Like what you see? Visit the ' +\n",
              "          '<a target=\"_blank\" href=https://colab.research.google.com/notebooks/data_table.ipynb>data table notebook</a>'\n",
              "          + ' to learn more about interactive tables.';\n",
              "        element.innerHTML = '';\n",
              "        dataTable['output_type'] = 'display_data';\n",
              "        await google.colab.output.renderOutput(dataTable, element);\n",
              "        const docLink = document.createElement('div');\n",
              "        docLink.innerHTML = docLinkHtml;\n",
              "        element.appendChild(docLink);\n",
              "      }\n",
              "    </script>\n",
              "  </div>\n",
              "\n",
              "\n",
              "<div id=\"df-c8bdedf2-9d45-4bc6-ab10-2114ab000ae2\">\n",
              "  <button class=\"colab-df-quickchart\" onclick=\"quickchart('df-c8bdedf2-9d45-4bc6-ab10-2114ab000ae2')\"\n",
              "            title=\"Suggest charts\"\n",
              "            style=\"display:none;\">\n",
              "\n",
              "<svg xmlns=\"http://www.w3.org/2000/svg\" height=\"24px\"viewBox=\"0 0 24 24\"\n",
              "     width=\"24px\">\n",
              "    <g>\n",
              "        <path d=\"M19 3H5c-1.1 0-2 .9-2 2v14c0 1.1.9 2 2 2h14c1.1 0 2-.9 2-2V5c0-1.1-.9-2-2-2zM9 17H7v-7h2v7zm4 0h-2V7h2v10zm4 0h-2v-4h2v4z\"/>\n",
              "    </g>\n",
              "</svg>\n",
              "  </button>\n",
              "\n",
              "<style>\n",
              "  .colab-df-quickchart {\n",
              "      --bg-color: #E8F0FE;\n",
              "      --fill-color: #1967D2;\n",
              "      --hover-bg-color: #E2EBFA;\n",
              "      --hover-fill-color: #174EA6;\n",
              "      --disabled-fill-color: #AAA;\n",
              "      --disabled-bg-color: #DDD;\n",
              "  }\n",
              "\n",
              "  [theme=dark] .colab-df-quickchart {\n",
              "      --bg-color: #3B4455;\n",
              "      --fill-color: #D2E3FC;\n",
              "      --hover-bg-color: #434B5C;\n",
              "      --hover-fill-color: #FFFFFF;\n",
              "      --disabled-bg-color: #3B4455;\n",
              "      --disabled-fill-color: #666;\n",
              "  }\n",
              "\n",
              "  .colab-df-quickchart {\n",
              "    background-color: var(--bg-color);\n",
              "    border: none;\n",
              "    border-radius: 50%;\n",
              "    cursor: pointer;\n",
              "    display: none;\n",
              "    fill: var(--fill-color);\n",
              "    height: 32px;\n",
              "    padding: 0;\n",
              "    width: 32px;\n",
              "  }\n",
              "\n",
              "  .colab-df-quickchart:hover {\n",
              "    background-color: var(--hover-bg-color);\n",
              "    box-shadow: 0 1px 2px rgba(60, 64, 67, 0.3), 0 1px 3px 1px rgba(60, 64, 67, 0.15);\n",
              "    fill: var(--button-hover-fill-color);\n",
              "  }\n",
              "\n",
              "  .colab-df-quickchart-complete:disabled,\n",
              "  .colab-df-quickchart-complete:disabled:hover {\n",
              "    background-color: var(--disabled-bg-color);\n",
              "    fill: var(--disabled-fill-color);\n",
              "    box-shadow: none;\n",
              "  }\n",
              "\n",
              "  .colab-df-spinner {\n",
              "    border: 2px solid var(--fill-color);\n",
              "    border-color: transparent;\n",
              "    border-bottom-color: var(--fill-color);\n",
              "    animation:\n",
              "      spin 1s steps(1) infinite;\n",
              "  }\n",
              "\n",
              "  @keyframes spin {\n",
              "    0% {\n",
              "      border-color: transparent;\n",
              "      border-bottom-color: var(--fill-color);\n",
              "      border-left-color: var(--fill-color);\n",
              "    }\n",
              "    20% {\n",
              "      border-color: transparent;\n",
              "      border-left-color: var(--fill-color);\n",
              "      border-top-color: var(--fill-color);\n",
              "    }\n",
              "    30% {\n",
              "      border-color: transparent;\n",
              "      border-left-color: var(--fill-color);\n",
              "      border-top-color: var(--fill-color);\n",
              "      border-right-color: var(--fill-color);\n",
              "    }\n",
              "    40% {\n",
              "      border-color: transparent;\n",
              "      border-right-color: var(--fill-color);\n",
              "      border-top-color: var(--fill-color);\n",
              "    }\n",
              "    60% {\n",
              "      border-color: transparent;\n",
              "      border-right-color: var(--fill-color);\n",
              "    }\n",
              "    80% {\n",
              "      border-color: transparent;\n",
              "      border-right-color: var(--fill-color);\n",
              "      border-bottom-color: var(--fill-color);\n",
              "    }\n",
              "    90% {\n",
              "      border-color: transparent;\n",
              "      border-bottom-color: var(--fill-color);\n",
              "    }\n",
              "  }\n",
              "</style>\n",
              "\n",
              "  <script>\n",
              "    async function quickchart(key) {\n",
              "      const quickchartButtonEl =\n",
              "        document.querySelector('#' + key + ' button');\n",
              "      quickchartButtonEl.disabled = true;  // To prevent multiple clicks.\n",
              "      quickchartButtonEl.classList.add('colab-df-spinner');\n",
              "      try {\n",
              "        const charts = await google.colab.kernel.invokeFunction(\n",
              "            'suggestCharts', [key], {});\n",
              "      } catch (error) {\n",
              "        console.error('Error during call to suggestCharts:', error);\n",
              "      }\n",
              "      quickchartButtonEl.classList.remove('colab-df-spinner');\n",
              "      quickchartButtonEl.classList.add('colab-df-quickchart-complete');\n",
              "    }\n",
              "    (() => {\n",
              "      let quickchartButtonEl =\n",
              "        document.querySelector('#df-c8bdedf2-9d45-4bc6-ab10-2114ab000ae2 button');\n",
              "      quickchartButtonEl.style.display =\n",
              "        google.colab.kernel.accessAllowed ? 'block' : 'none';\n",
              "    })();\n",
              "  </script>\n",
              "</div>\n",
              "    </div>\n",
              "  </div>\n"
            ],
            "application/vnd.google.colaboratory.intrinsic+json": {
              "type": "dataframe",
              "variable_name": "distribution",
              "summary": "{\n  \"name\": \"distribution\",\n  \"rows\": 8,\n  \"fields\": [\n    {\n      \"column\": \"age\",\n      \"properties\": {\n        \"dtype\": \"number\",\n        \"std\": 2.449489742783178,\n        \"min\": 15.0,\n        \"max\": 22.0,\n        \"num_unique_values\": 8,\n        \"samples\": [\n          16.0,\n          20.0,\n          15.0\n        ],\n        \"semantic_type\": \"\",\n        \"description\": \"\"\n      }\n    },\n    {\n      \"column\": \"grade_max\",\n      \"properties\": {\n        \"dtype\": \"number\",\n        \"std\": 4,\n        \"min\": 5,\n        \"max\": 19,\n        \"num_unique_values\": 7,\n        \"samples\": [\n          18,\n          19,\n          12\n        ],\n        \"semantic_type\": \"\",\n        \"description\": \"\"\n      }\n    },\n    {\n      \"column\": \"grade_min\",\n      \"properties\": {\n        \"dtype\": \"number\",\n        \"std\": 4,\n        \"min\": 0,\n        \"max\": 10,\n        \"num_unique_values\": 5,\n        \"samples\": [\n          1,\n          5,\n          0\n        ],\n        \"semantic_type\": \"\",\n        \"description\": \"\"\n      }\n    }\n  ]\n}"
            }
          },
          "metadata": {},
          "execution_count": 25
        }
      ],
      "source": [
        "grade = X_data.groupby('age')['G3']\n",
        "distribution = pd.DataFrame({'grade_max': grade.max(), 'grade_min': grade.min()})\n",
        "distribution"
      ]
    },
    {
      "cell_type": "markdown",
      "metadata": {
        "_cell_guid": "0e9fb698-c819-074d-26ee-7a6afe00ad62",
        "id": "ZnrLrANOTtWC"
      },
      "source": [
        "# Часть 2. Предобработка данных\n",
        "\n",
        "Теперь перейдем к подготовке данных для моделей машинного обучения. Не все из описанного ниже нужно делать. Подумайте."
      ]
    },
    {
      "cell_type": "code",
      "execution_count": 27,
      "metadata": {
        "id": "q6-p0CoXeYeH",
        "colab": {
          "base_uri": "https://localhost:8080/"
        },
        "outputId": "2527467b-5dd8-4737-ddfa-ca12e0c447ef"
      },
      "outputs": [
        {
          "output_type": "stream",
          "name": "stdout",
          "text": [
            "<class 'pandas.core.frame.DataFrame'>\n",
            "RangeIndex: 454 entries, 0 to 453\n",
            "Data columns (total 31 columns):\n",
            " #   Column      Non-Null Count  Dtype  \n",
            "---  ------      --------------  -----  \n",
            " 0   school      454 non-null    object \n",
            " 1   sex         446 non-null    object \n",
            " 2   age         418 non-null    float64\n",
            " 3   address     449 non-null    object \n",
            " 4   famsize     454 non-null    object \n",
            " 5   Pstatus     454 non-null    object \n",
            " 6   Medu        454 non-null    int64  \n",
            " 7   Fedu        454 non-null    int64  \n",
            " 8   Mjob        454 non-null    object \n",
            " 9   Fjob        454 non-null    object \n",
            " 10  reason      454 non-null    object \n",
            " 11  guardian    454 non-null    object \n",
            " 12  traveltime  454 non-null    int64  \n",
            " 13  studytime   454 non-null    int64  \n",
            " 14  failures    454 non-null    int64  \n",
            " 15  schoolsup   454 non-null    object \n",
            " 16  famsup      454 non-null    object \n",
            " 17  paid        454 non-null    object \n",
            " 18  activities  454 non-null    object \n",
            " 19  nursery     454 non-null    object \n",
            " 20  higher      454 non-null    object \n",
            " 21  internet    454 non-null    object \n",
            " 22  romantic    454 non-null    object \n",
            " 23  famrel      454 non-null    int64  \n",
            " 24  freetime    454 non-null    int64  \n",
            " 25  goout       454 non-null    int64  \n",
            " 26  Dalc        454 non-null    int64  \n",
            " 27  Walc        454 non-null    int64  \n",
            " 28  health      454 non-null    int64  \n",
            " 29  absences    454 non-null    int64  \n",
            " 30  G3          454 non-null    int64  \n",
            "dtypes: float64(1), int64(13), object(17)\n",
            "memory usage: 110.1+ KB\n"
          ]
        },
        {
          "output_type": "execute_result",
          "data": {
            "text/plain": [
              "school         0\n",
              "sex            8\n",
              "age           36\n",
              "address        5\n",
              "famsize        0\n",
              "Pstatus        0\n",
              "Medu           0\n",
              "Fedu           0\n",
              "Mjob           0\n",
              "Fjob           0\n",
              "reason         0\n",
              "guardian       0\n",
              "traveltime     0\n",
              "studytime      0\n",
              "failures       0\n",
              "schoolsup      0\n",
              "famsup         0\n",
              "paid           0\n",
              "activities     0\n",
              "nursery        0\n",
              "higher         0\n",
              "internet       0\n",
              "romantic       0\n",
              "famrel         0\n",
              "freetime       0\n",
              "goout          0\n",
              "Dalc           0\n",
              "Walc           0\n",
              "health         0\n",
              "absences       0\n",
              "G3             0\n",
              "dtype: int64"
            ]
          },
          "metadata": {},
          "execution_count": 27
        }
      ],
      "source": [
        "X_data.info()\n",
        "X_data.isna().sum()"
      ]
    },
    {
      "cell_type": "markdown",
      "metadata": {
        "_cell_guid": "21ae96ef-7925-4a81-1f1d-54d4ed018ec3",
        "id": "lY0qoZnQ90NO"
      },
      "source": [
        "## Найдите и исправьте ошибки в данных"
      ]
    },
    {
      "cell_type": "code",
      "execution_count": 17,
      "metadata": {
        "id": "Xt4J1g5l90NP"
      },
      "outputs": [],
      "source": [
        "X_data.loc[(X_data['age'] > 22) | (X_data['age'] < 15), 'age'] = np.nan\n",
        "X_data.loc[(X_data['sex'] != 'F') & (X_data['sex'] != 'M'), 'sex'] = np.nan"
      ]
    },
    {
      "cell_type": "markdown",
      "metadata": {
        "_cell_guid": "21ae96ef-7925-4a81-1f1d-54d4ed018ec3",
        "id": "JCVXK7Wsnuf0"
      },
      "source": [
        "## Удалите скоррелированные данные"
      ]
    },
    {
      "cell_type": "code",
      "execution_count": null,
      "metadata": {
        "id": "KJAfBn9znuf1"
      },
      "outputs": [],
      "source": []
    },
    {
      "cell_type": "markdown",
      "metadata": {
        "id": "qF81qsInnuf4"
      },
      "source": [
        "## Заполните пропуски в данных\n",
        "\n",
        "Заполнить пропуски в данных можно одним из следующи способов или разными для разных признаков:\n",
        "- Заполнить нулями\n",
        "- Выбросить данные с нулями (не рекомендуется)\n",
        "- Заполнить средним для данного параметра\n",
        "- Заполнить наиболее соответствующим данному прецеденту (рекомендуется)"
      ]
    },
    {
      "cell_type": "code",
      "execution_count": null,
      "metadata": {
        "id": "yaCEkU9anuf4"
      },
      "outputs": [],
      "source": [
        "# X_train.loc[X_train['traveltime'] < 3, 'address'] = 'U'\n",
        "# X_train.loc[X_train['traveltime'] > 2, 'address'] = 'R'\n",
        "# X_train['age'].fillna(X_train['age'].median(), inplace=True)\n",
        "# X_train = X_train.dropna(subset=['sex'])"
      ]
    },
    {
      "cell_type": "markdown",
      "metadata": {
        "_cell_guid": "21ae96ef-7925-4a81-1f1d-54d4ed018ec3",
        "id": "_p3_0Is6nuf6"
      },
      "source": [
        "## Закодируйте категориальные признаки"
      ]
    },
    {
      "cell_type": "code",
      "execution_count": 28,
      "metadata": {
        "id": "MyGgo5xQWqRi"
      },
      "outputs": [],
      "source": [
        "X_data['sex'] = X_data['sex'].map({'F':0, 'M':1})\n",
        "X_data['school'] = X_data['school'].map({'MS':0, 'GP':1})\n",
        "X_data['address'] = X_data['address'].map({'U':0, 'R':1})\n",
        "X_data = pd.get_dummies(X_data, columns=['Mjob', 'Fjob', 'reason', 'guardian'], drop_first= True)\n",
        "index = X_data.dtypes[X_data.dtypes == 'O'].index.to_list()\n",
        "for ind in index: X_data[ind] = LabelEncoder().fit_transform(X_data[ind])"
      ]
    },
    {
      "cell_type": "markdown",
      "metadata": {
        "_cell_guid": "21ae96ef-7925-4a81-1f1d-54d4ed018ec3",
        "id": "TQGQtLdynuf8"
      },
      "source": [
        "## Придумайте сложные признаки\n",
        "\n",
        "Сложные признаки - это комбинации существующих (линейных или нелинейных).\n",
        "Это нужно для того, чтобы самостоятельно добавить нелинейность в алгоритм.\n",
        "\n",
        "Приведите не менее двух признаков."
      ]
    },
    {
      "cell_type": "code",
      "execution_count": 31,
      "metadata": {
        "id": "rUgJsJqjWqRj"
      },
      "outputs": [],
      "source": [
        "X_data['Weekalc'] = list(map(int, round((X_data['Dalc'] * 5 + X_data['Walc'] * 2) / 7)))\n",
        "X_data.drop(columns=['Dalc', 'Walc'], inplace=True)\n",
        "X_data['Pedu'] = X_data['Fedu'] * X_data['Medu']\n",
        "X_data.drop(columns=['Fedu', 'Medu'], inplace=True)"
      ]
    },
    {
      "cell_type": "markdown",
      "metadata": {
        "_cell_guid": "9d8e5350-8caa-ab7d-834c-bbaf3e30c2b1",
        "id": "621800ae-7aae-4802-b714-b727f39d5c11"
      },
      "source": [
        "# Часть 3. Стратегия валидации\n",
        "\n",
        "Итак, у вас есть данные для обучения и данные, на которых необходимо сделать предсказание. Для оценки точности необходимо проводить валидацию (так как мало данных, можно проводить кросс валидацию).\n",
        "Валидацию проще всего реализовать методами sklearn, например:\n",
        "- KFold\n",
        "- ShuffleSplit\n",
        "- StratifiedKFold\n",
        "- StratifiedShuffleSplit\n",
        "- GroupKFold\n",
        "- GroupShuffleSplit"
      ]
    },
    {
      "cell_type": "code",
      "execution_count": 32,
      "metadata": {
        "id": "fee2652c-2c50-4eae-ac00-d5cc84bea6d4"
      },
      "outputs": [],
      "source": [
        "X = X_data.drop(['G3'], axis=1)\n",
        "y = X_data['G3']"
      ]
    },
    {
      "cell_type": "markdown",
      "metadata": {
        "id": "1a479fa7-ee88-469d-9f14-7e513f1b3f98"
      },
      "source": [
        "## Разделите данные и объясните выбор стратегии"
      ]
    },
    {
      "cell_type": "markdown",
      "metadata": {
        "id": "UCSYx8aLWqRk"
      },
      "source": [
        "Разделили данные на обучающие(для обучения модели и выбора лучших гиперпараметров с помощью кросс-валидации) и тестовые(для проверки качества модели) в соотношении 80, 20 процентов."
      ]
    },
    {
      "cell_type": "code",
      "execution_count": 33,
      "metadata": {
        "_cell_guid": "35d7b6ae-6a83-d93d-0fa3-8502b8f9bee0",
        "id": "27828236-8b74-40db-ae41-fbbba4f0704f"
      },
      "outputs": [],
      "source": [
        "X_train, X_test, y_train, y_test = train_test_split(X, y, test_size=0.2, random_state=101)"
      ]
    },
    {
      "cell_type": "markdown",
      "metadata": {
        "id": "8cc67c68-03f3-4cfa-a7fb-b56d86ed6805"
      },
      "source": [
        "# Часть 4. Заполнение пропусков в данных"
      ]
    },
    {
      "cell_type": "markdown",
      "metadata": {
        "id": "1c34dd70-4252-4c1d-86ac-4fa063f41c0c"
      },
      "source": [
        "## Фильтрация по диапазону значений\n",
        "\n",
        "Проверьте, что все характеристики принадлежат тому диапазону значений, который приведен в описании к исходным данным. Например, если в графе \"Пол\" есть значение FF, P или -1, то это явная ошибка заполнения.\n",
        "\n",
        "Приведите данные в соответствии с описанием данных. Если значение указано неверно - укажите ```NaN```."
      ]
    },
    {
      "cell_type": "markdown",
      "metadata": {
        "id": "2ea9237e-f421-4994-a87a-4b8c17e5e550"
      },
      "source": [
        "Привели выше"
      ]
    },
    {
      "cell_type": "markdown",
      "metadata": {
        "id": "a31c8aea-226c-4378-a78b-e68842921ead"
      },
      "source": [
        "## Адаптивное заполнения пропусков\n",
        "\n",
        "Реализуйте стратегию заполнения пропусков данных на основе схожих примеров. Обучите один из известных вам алгоритмов (knn, Naive Bayes, linear regression) для предсказания той характеристики, пропуски которой присутсвуют в данных. В качестве характеристики для обучения алгоритмов __нельзя__ использовать ```G3```."
      ]
    },
    {
      "cell_type": "code",
      "execution_count": 34,
      "metadata": {
        "id": "c48d9077-392e-48ef-9a3f-3347ca38da4b"
      },
      "outputs": [],
      "source": [
        "scaler = MinMaxScaler()\n",
        "scaler.fit(X_train)\n",
        "X_train = scaler.transform(X_train)\n",
        "X_test = scaler.transform(X_test)"
      ]
    },
    {
      "cell_type": "code",
      "execution_count": 35,
      "metadata": {
        "id": "ef0e8f16-8ab8-497b-b8db-4884b29babd2"
      },
      "outputs": [],
      "source": [
        "imputer = KNNImputer(n_neighbors=7)\n",
        "imputer.fit(X_train)\n",
        "X_train = imputer.transform(X_train)\n",
        "X_test = imputer.transform(X_test)"
      ]
    },
    {
      "cell_type": "markdown",
      "metadata": {
        "_cell_guid": "3013b854-7aaa-4ad6-7952-1d188121ea25",
        "id": "22646374-f328-4412-8c59-5e157e779cf2"
      },
      "source": [
        "# Часть 5. Обучение алгоритма"
      ]
    },
    {
      "cell_type": "markdown",
      "metadata": {
        "id": "fc9c91d2-bfea-43e0-b6df-7f96664a7d66"
      },
      "source": [
        "Целевая переменная принимает дискретные значения [0; 20], поэтому вы можете поставить как задачу классификации, так и задачу регрессии.\n",
        "\n",
        "!Не забудьте про оптимизацию параметров алгоритмов, у вас же уже есть данные для валидации."
      ]
    },
    {
      "cell_type": "code",
      "execution_count": 36,
      "metadata": {
        "id": "ckJQ4c6vWqRm"
      },
      "outputs": [],
      "source": [
        "y_pred = {}\n",
        "mse = {}"
      ]
    },
    {
      "cell_type": "markdown",
      "metadata": {
        "id": "fcb899db-1e1f-428c-a035-1d2b690714e5",
        "tags": []
      },
      "source": [
        "## KNN"
      ]
    },
    {
      "cell_type": "code",
      "execution_count": 37,
      "metadata": {
        "colab": {
          "base_uri": "https://localhost:8080/"
        },
        "id": "mPLSQ0xSWqRn",
        "outputId": "70356290-03c4-4a60-c956-212049d05d46"
      },
      "outputs": [
        {
          "output_type": "stream",
          "name": "stdout",
          "text": [
            "{'n_neighbors': 28, 'p': 1}\n",
            "best score  -8.124888868148885\n",
            "MSE 10.196\n"
          ]
        }
      ],
      "source": [
        "knn = KNeighborsRegressor()\n",
        "hyperparams = {\n",
        "    'n_neighbors': range(1, 100),\n",
        "    'p': [1, 2]\n",
        "}\n",
        "cross_val = GridSearchCV(knn, hyperparams, cv=9, scoring='neg_mean_squared_error')\n",
        "cross_val.fit(X_train, y_train)\n",
        "print(cross_val.best_params_)\n",
        "print('best score ', cross_val.best_score_)\n",
        "y_pred['knn'] = cross_val.predict(X_test)\n",
        "mse['knn'] = round(mean_squared_error(y_test, y_pred['knn']), 3)\n",
        "print('MSE', mse['knn'])"
      ]
    },
    {
      "cell_type": "markdown",
      "metadata": {
        "id": "c0b47e9a-3c22-415c-98db-8be4aabbf021"
      },
      "source": [
        "## Bayes"
      ]
    },
    {
      "cell_type": "code",
      "execution_count": 38,
      "metadata": {
        "id": "e7976a0b-0a53-4a9d-b7b6-e5fd5dbf83a6",
        "colab": {
          "base_uri": "https://localhost:8080/"
        },
        "outputId": "141e41bd-799f-4d61-b7d4-fedfb26a3a6c"
      },
      "outputs": [
        {
          "output_type": "stream",
          "name": "stdout",
          "text": [
            "{'alpha': 1.2, 'fit_prior': True}\n",
            "best score  -8.70289193302892\n",
            "MSE 9.747\n"
          ]
        }
      ],
      "source": [
        "nb = MultinomialNB()\n",
        "hyperparams = {\n",
        "    'alpha': [1.0e-10, 0.4, 0.8, 1, 1.2],\n",
        "    'fit_prior': [True, False]\n",
        "}\n",
        "cross_val = GridSearchCV(nb, hyperparams, cv=5, scoring='neg_mean_squared_error')\n",
        "cross_val.fit(X_train, y_train)\n",
        "print(cross_val.best_params_)\n",
        "print('best score ', cross_val.best_score_)\n",
        "y_pred['nb'] = cross_val.predict(X_test)\n",
        "mse['nb'] = round(mean_squared_error(y_test, y_pred['nb']), 3)\n",
        "print('MSE', mse['nb'])"
      ]
    },
    {
      "cell_type": "markdown",
      "metadata": {
        "_cell_guid": "7febeef3-e6b0-a18a-5705-7ee3876c1965",
        "id": "dbe6c3e0-11c0-4f15-8cab-9250255625fc"
      },
      "source": [
        "## Регрессия"
      ]
    },
    {
      "cell_type": "code",
      "execution_count": 39,
      "metadata": {
        "colab": {
          "base_uri": "https://localhost:8080/"
        },
        "id": "yJxCzyj9WqRp",
        "outputId": "30958029-7141-49fa-f67a-02d8b68539a1"
      },
      "outputs": [
        {
          "output_type": "stream",
          "name": "stdout",
          "text": [
            "best score  -7.0586582377436695\n",
            "MSE 9.89\n"
          ]
        }
      ],
      "source": [
        "lr = LinearRegression()\n",
        "cross_val = GridSearchCV(lr, {}, cv=9, scoring='neg_mean_squared_error')\n",
        "cross_val.fit(X_train, y_train)\n",
        "print('best score ', cross_val.best_score_)\n",
        "y_pred['lr'] = cross_val.predict(X_test).astype('int')\n",
        "mse['lr'] = round(mean_squared_error(y_test, y_pred['lr']), 3)\n",
        "print('MSE', mse['lr'])"
      ]
    },
    {
      "cell_type": "markdown",
      "metadata": {
        "id": "7975eaae-4b07-43b8-a4c7-c573f8593957"
      },
      "source": [
        "## SVM"
      ]
    },
    {
      "cell_type": "code",
      "execution_count": 41,
      "metadata": {
        "id": "3d9d4146-15e4-44df-a882-b794ce252ec5",
        "colab": {
          "base_uri": "https://localhost:8080/"
        },
        "outputId": "1c8d88bb-6a89-4b90-f6f9-42ab4c45276e"
      },
      "outputs": [
        {
          "output_type": "stream",
          "name": "stdout",
          "text": [
            "{'C': 0.6, 'gamma': 'scale', 'kernel': 'linear'}\n",
            "MSE 8.73\n"
          ]
        }
      ],
      "source": [
        "svm = SVR()\n",
        "hyperparams = {\n",
        "    'kernel': ['linear', 'poly', 'rbf', 'sigmoid'],\n",
        "    'C': np.arange(0.5, 2, 0.1),\n",
        "    'gamma': ['scale', 'auto'],\n",
        "}\n",
        "cross_val = GridSearchCV(svm, hyperparams, cv=5, scoring='neg_mean_squared_error')\n",
        "cross_val.fit(X_train, y_train)\n",
        "print(cross_val.best_params_)\n",
        "y_pred['svm'] = cross_val.predict(X_test)\n",
        "mse['svm'] = round(mean_squared_error(y_test, y_pred['svm']), 3)\n",
        "print('MSE', mse['svm'])"
      ]
    },
    {
      "cell_type": "markdown",
      "metadata": {
        "id": "8a1ce346-4ac2-4950-b2c8-ffc6cdb0cca5"
      },
      "source": [
        "## Постройте сложную модель на основе предыдущих четырех простых и оцените ее точность"
      ]
    },
    {
      "cell_type": "markdown",
      "metadata": {
        "id": "dfad6385-0e3b-47c2-aecf-0e894089f013"
      },
      "source": [
        "Вариант 1. Нужно взвесить предсказания простых моделей. Предложите метод взвешивания."
      ]
    },
    {
      "cell_type": "code",
      "execution_count": 42,
      "metadata": {
        "id": "2a791883-273f-4b2d-a300-8a6d287b44f7",
        "colab": {
          "base_uri": "https://localhost:8080/"
        },
        "outputId": "fa15bcbc-b0c4-4647-96e3-b5ce6783428b"
      },
      "outputs": [
        {
          "output_type": "execute_result",
          "data": {
            "text/plain": [
              "{'knn': 10.196, 'nb': 9.747, 'lr': 9.89, 'svm': 8.73}"
            ]
          },
          "metadata": {},
          "execution_count": 42
        }
      ],
      "source": [
        "mse"
      ]
    },
    {
      "cell_type": "code",
      "execution_count": 43,
      "metadata": {
        "id": "Tcolin2jWqRq"
      },
      "outputs": [],
      "source": [
        "pr = (y_pred['knn'] + y_pred['nb'] * 2 + y_pred['lr'] * 2 + y_pred['svm']*3) // 8"
      ]
    },
    {
      "cell_type": "code",
      "execution_count": 45,
      "metadata": {
        "colab": {
          "base_uri": "https://localhost:8080/"
        },
        "id": "lwBqgHFQWqRr",
        "outputId": "46af2e78-9830-450f-a0cf-7525859668fd"
      },
      "outputs": [
        {
          "output_type": "stream",
          "name": "stdout",
          "text": [
            "mse  8.934\n"
          ]
        }
      ],
      "source": [
        "print('mse ', round(mean_squared_error(y_test, pr), 3))"
      ]
    },
    {
      "cell_type": "markdown",
      "metadata": {
        "id": "2e550dac-82ba-41bc-835e-61a4661e2452"
      },
      "source": [
        "Вариант 2. Нужно оценить корреляцию предсказаний простых моделей."
      ]
    },
    {
      "cell_type": "code",
      "execution_count": 46,
      "metadata": {
        "colab": {
          "base_uri": "https://localhost:8080/",
          "height": 812
        },
        "id": "_ZjTEa0hWqRr",
        "outputId": "b0734a02-5eb5-4886-82a1-83b9606540a5"
      },
      "outputs": [
        {
          "output_type": "display_data",
          "data": {
            "text/plain": [
              "<Figure size 1000x1000 with 2 Axes>"
            ],
            "image/png": "[encoded data removed]"
          },
          "metadata": {}
        }
      ],
      "source": [
        "matr_spearman = pd.DataFrame(y_pred).corr(method='spearman').round(3)\n",
        "fig, ax = plt.subplots(figsize=(10, 10))\n",
        "sns.heatmap(matr_spearman, square=True, cmap=\"RdBu\", linewidths= .3, annot=True)\n",
        "plt.show()"
      ]
    },
    {
      "cell_type": "markdown",
      "metadata": {
        "_cell_guid": "3013b854-7aaa-4ad6-7952-1d188121ea25",
        "id": "208a2eca-34e3-4339-830e-e5b26eee33bb"
      },
      "source": [
        "## Сделайте итоговое предсказание"
      ]
    },
    {
      "cell_type": "markdown",
      "metadata": {
        "id": "788d78fb-ee0f-40c9-9831-97b7cffe44ed"
      },
      "source": [
        "Решением домашнего задания является данный ноутбук + .csv файл с предсказанием. Пример формата файла, который должен у вас получится приведен в ```data/sample_submission.csv```. Данные для предсказания - ```X_test.csv```.\n",
        "\n",
        "За лучшее предсказание 5 человек получат +10% к домашке.\n",
        "\n",
        "Значения предсказаний должны быть целочисленными. Проверка будет точности решения будет по MSE."
      ]
    },
    {
      "cell_type": "code",
      "execution_count": 48,
      "metadata": {
        "id": "f6e88673-34c1-4df8-aa6a-327b2e590661"
      },
      "outputs": [],
      "source": [
        "X_test = pd.read_csv('X_test.csv')\n",
        "\n",
        "X_test['sex'] = X_test['sex'].map({'F':0, 'M':1})\n",
        "X_test['school'] = X_test['school'].map({'MS':0, 'GP':1})\n",
        "X_test['address'] = X_test['address'].map({'U':0, 'R':1})\n",
        "X_test = pd.get_dummies(X_test, columns=['Mjob', 'Fjob', 'reason', 'guardian'], drop_first= True)\n",
        "index = X_test.dtypes[X_test.dtypes == 'O'].index.to_list()\n",
        "for ind in index: X_test[ind] = LabelEncoder().fit_transform(X_test[ind])\n",
        "\n",
        "X_test['Weekalc'] = list(map(int, round((X_test['Dalc'] * 5 + X_test['Walc'] * 2) / 7)))\n",
        "X_test.drop(columns=['Dalc', 'Walc'], inplace=True)\n",
        "X_test['Pedu'] = X_test['Fedu'] * X_test['Medu']\n",
        "X_test.drop(columns=['Fedu', 'Medu'], inplace=True)"
      ]
    },
    {
      "cell_type": "code",
      "execution_count": 49,
      "metadata": {
        "id": "rX3BFgAFWqRw"
      },
      "outputs": [],
      "source": [
        "X_data.dropna(inplace=True)\n",
        "X = X_data.drop(['G3'], axis=1)\n",
        "y = X_data['G3']"
      ]
    },
    {
      "cell_type": "code",
      "execution_count": 50,
      "metadata": {
        "id": "clmkO0onWqRw"
      },
      "outputs": [],
      "source": [
        "scaler = MinMaxScaler()\n",
        "scaler.fit(X)\n",
        "X_data = pd.DataFrame(scaler.transform(X), columns=X.columns)\n",
        "X_test = pd.DataFrame(scaler.transform(X_test), columns=X_test.columns)"
      ]
    },
    {
      "cell_type": "code",
      "execution_count": 51,
      "metadata": {
        "id": "14NWE0eeWqRw"
      },
      "outputs": [],
      "source": [
        "models = [KNeighborsRegressor(n_neighbors=28, p=1),\n",
        "          MultinomialNB(alpha=1.2, fit_prior=True),\n",
        "          LinearRegression(),\n",
        "          SVR(C=0.6, gamma='scale', kernel='linear')]\n",
        "pred = []\n",
        "for m in models:\n",
        "    m.fit(X_data, y)\n",
        "    pred.append(m.predict(X_test))"
      ]
    },
    {
      "cell_type": "code",
      "execution_count": 52,
      "metadata": {
        "id": "xUK6CHGpWqRw"
      },
      "outputs": [],
      "source": [
        "G3_pred = (np.array([0.2, 0.25, 0.25, 0.3]) @ np.array(pred)).round().astype('int')"
      ]
    },
    {
      "cell_type": "code",
      "execution_count": null,
      "metadata": {
        "_cell_guid": "74f8d40e-415f-9e29-03ca-aa1e75714c11",
        "id": "f3bc9980-1330-439f-8d1f-f980620c4a14"
      },
      "outputs": [],
      "source": [
        "submission = pd.read_csv('sample_submission.csv', index_col='id')\n",
        "submission['G3'] = G3_pred # ваше предсказание\n",
        "submission.to_csv('submission.csv', index=False)"
      ]
    },
    {
      "cell_type": "markdown",
      "metadata": {
        "id": "7582f216-5e7c-4189-ad8d-1a5f1714a6a0"
      },
      "source": [
        "# Часть 6. Состязательная валидация (Adversarial Validation)"
      ]
    },
    {
      "cell_type": "markdown",
      "metadata": {
        "id": "26b24cd0-771b-440d-9fad-f792a9a00d81"
      },
      "source": [
        "Данная стратегия часто применяется в соревнованиях по машинному обучению. Так как проверить свой алгоритм возможно только на заданном тренировочном наборе данных, а результат требуется к набору, для которого нет ответов, то выбирают следующий подход:\n",
        "- оценить степень схожести тренировочных и тестовых данных;\n",
        "- составить валидацию из тех тренировочных данных, которые больше похожи на тестовые.\n",
        "\n",
        "Алгоритм реализации AV:\n",
        "1. Удаляем ответы из тренировочных данных.\n",
        "2. Добавляем специальные метки (```is_test```) для классов: тренировочные данные и тестовые.\n",
        "То есть у тестовых данных будет значение ```is_test = 1```, а у тренировочных ```is_test = 0```.\n",
        "4. Учим алгоритм классификации предсказывать заданную метку ```is_test```.\n",
        "5. Делим тренировочные данные на N частей и проводим кросс-валидацию.\n",
        "\n",
        "Обучаем N алгоритмов классификации: каждый обучается на всех тестовых данных и на N-1 наборах тренировочных. Предсказываем на 1 тренировочном наборе.\n",
        "\n",
        "6. Для каждого элемента в выборке предсказываем вероятность принадлежности класса и сортируем тренировочные данные по вероятности принадлежности тестовой выборке.\n",
        "7. Выделяем заданное число данных в валидацию.\n",
        "8. Обучаемся для итогового предсказания на всех данных."
      ]
    },
    {
      "cell_type": "code",
      "execution_count": 53,
      "metadata": {
        "id": "arcoUa56WqRy"
      },
      "outputs": [],
      "source": [
        "X_data['is_test'] = 0\n",
        "X_test['is_test'] = 1"
      ]
    },
    {
      "cell_type": "code",
      "execution_count": 54,
      "metadata": {
        "id": "0HaV3cHxWqRy"
      },
      "outputs": [],
      "source": [
        "y_train = X_data['is_test']\n",
        "X_train = X_data.drop(['is_test'], axis=1)\n",
        "y_test = X_test['is_test']\n",
        "X_test = X_test.drop(['is_test'], axis=1)"
      ]
    },
    {
      "cell_type": "code",
      "execution_count": 55,
      "metadata": {
        "id": "xE9jrESZWqRy"
      },
      "outputs": [],
      "source": [
        "N = 20"
      ]
    },
    {
      "cell_type": "code",
      "execution_count": 59,
      "metadata": {
        "id": "6acpXWD_WqRy"
      },
      "outputs": [],
      "source": [
        "acc = []\n",
        "cv = StratifiedKFold(n_splits = N, shuffle=True)\n",
        "df, tar = pd.concat([X_train, X_test], ignore_index=True), pd.concat([y_train, y_test], ignore_index=True)\n",
        "for neighbors in range(1, N+1):\n",
        "    acc_sum = 0\n",
        "    knn = KNeighborsClassifier(neighbors)\n",
        "    for train_index, test_index in cv.split(df, tar):\n",
        "        knn.fit(df.iloc[train_index], tar.iloc[train_index])\n",
        "        predict = knn.predict(df.iloc[test_index])\n",
        "        acc_sum += accuracy_score(predict, tar.iloc[test_index])\n",
        "    acc.append([acc_sum / N, neighbors])"
      ]
    },
    {
      "cell_type": "code",
      "execution_count": 60,
      "metadata": {
        "colab": {
          "base_uri": "https://localhost:8080/"
        },
        "id": "VhCSRBXCWqRy",
        "outputId": "528c47c4-be93-4a75-e913-efa3ec5632bf"
      },
      "outputs": [
        {
          "output_type": "execute_result",
          "data": {
            "text/plain": [
              "[0.6716666666666665, 10]"
            ]
          },
          "metadata": {},
          "execution_count": 60
        }
      ],
      "source": [
        "sorted(acc, reverse=True)[0]"
      ]
    },
    {
      "cell_type": "code",
      "execution_count": null,
      "metadata": {
        "id": "jUT2FeXbWqRz"
      },
      "outputs": [],
      "source": []
    },
    {
      "cell_type": "code",
      "execution_count": 61,
      "metadata": {
        "id": "9_OFSaaHWqRz"
      },
      "outputs": [],
      "source": [
        "pred = {}\n",
        "cv = StratifiedKFold(n_splits = N)\n",
        "knn = KNeighborsClassifier(10)\n",
        "for train_index, test_index in cv.split(X_train, y_train):\n",
        "    knn.fit(pd.concat([X_train.loc[train_index].reset_index(drop=True), X_test], ignore_index=True),\n",
        "            pd.concat([y_train.loc[train_index].reset_index(drop=True), y_test], ignore_index=True))\n",
        "    predict = knn.predict_proba(X_train.loc[test_index])[:,1]\n",
        "    pred.update(zip(test_index, predict))"
      ]
    },
    {
      "cell_type": "code",
      "execution_count": 62,
      "metadata": {
        "id": "zDSB4upbWqRz"
      },
      "outputs": [],
      "source": [
        "val_ind = list(map(lambda v: v[0], sorted(pred.items(), key=lambda item: item[1], reverse=True)[:81]))"
      ]
    },
    {
      "cell_type": "code",
      "execution_count": 63,
      "metadata": {
        "id": "uPlnDfaWWqRz"
      },
      "outputs": [],
      "source": [
        "X_val = X_train.loc[sorted(val_ind)]\n",
        "y_train = y.reset_index(drop=True)\n",
        "y_val = y_train[X_val.index]"
      ]
    },
    {
      "cell_type": "code",
      "execution_count": 64,
      "metadata": {
        "id": "HEuxaQlyWqRz"
      },
      "outputs": [],
      "source": [
        "y_train = y_train.drop(labels = sorted(val_ind),axis = 0)"
      ]
    },
    {
      "cell_type": "code",
      "execution_count": 65,
      "metadata": {
        "id": "eazsbs-TWqR0"
      },
      "outputs": [],
      "source": [
        "X_train = X_train.drop(labels = sorted(val_ind),axis = 0)"
      ]
    },
    {
      "cell_type": "code",
      "execution_count": null,
      "metadata": {
        "id": "4pym7qVGWqR3"
      },
      "outputs": [],
      "source": []
    },
    {
      "cell_type": "code",
      "execution_count": 66,
      "metadata": {
        "id": "NbbdRgo2WqR3"
      },
      "outputs": [],
      "source": [
        "y_pred = {}\n",
        "mse = {}"
      ]
    },
    {
      "cell_type": "markdown",
      "metadata": {
        "tags": [],
        "id": "kLDJVONGWqR4"
      },
      "source": [
        "## KNN"
      ]
    },
    {
      "cell_type": "code",
      "execution_count": 68,
      "metadata": {
        "colab": {
          "base_uri": "https://localhost:8080/"
        },
        "id": "pfaPa7YrWqR4",
        "outputId": "22036b44-e4f9-465e-bd02-925497f358cc"
      },
      "outputs": [
        {
          "output_type": "stream",
          "name": "stdout",
          "text": [
            "{'n_neighbors': 27, 'p': 1}\n",
            "best score  -8.103291334315568\n",
            "MSE 8.981\n"
          ]
        }
      ],
      "source": [
        "knn = KNeighborsRegressor()\n",
        "hyperparams = {\n",
        "    'n_neighbors': range(1, 100),\n",
        "    'p': [1, 2]\n",
        "}\n",
        "cross_val = GridSearchCV(knn, hyperparams, cv=9, scoring='neg_mean_squared_error')\n",
        "cross_val.fit(X_train, y_train)\n",
        "print(cross_val.best_params_)\n",
        "print('best score ', cross_val.best_score_)\n",
        "y_pred['knn'] = cross_val.predict(X_val)\n",
        "mse['knn'] = round(mean_squared_error(y_val, y_pred['knn']), 3)\n",
        "print('MSE', mse['knn'])"
      ]
    },
    {
      "cell_type": "markdown",
      "metadata": {
        "id": "Uuz7pg_XWqR4"
      },
      "source": [
        "## Bayes"
      ]
    },
    {
      "cell_type": "code",
      "execution_count": 69,
      "metadata": {
        "colab": {
          "base_uri": "https://localhost:8080/"
        },
        "id": "OK5CX1lDWqR4",
        "outputId": "6d52052f-8002-42fd-f8a6-7c90c0798f22"
      },
      "outputs": [
        {
          "output_type": "stream",
          "name": "stdout",
          "text": [
            "{'alpha': 1, 'fit_prior': True}\n",
            "best score  -8.612019230769231\n",
            "MSE 11.309\n"
          ]
        }
      ],
      "source": [
        "nb = MultinomialNB()\n",
        "hyperparams = {\n",
        "    'alpha': [1.0e-10, 0.4, 0.8, 1, 1.2],\n",
        "    'fit_prior': [True, False]\n",
        "}\n",
        "cross_val = GridSearchCV(nb, hyperparams, cv=5, scoring='neg_mean_squared_error')\n",
        "cross_val.fit(X_train, y_train)\n",
        "print(cross_val.best_params_)\n",
        "print('best score ', cross_val.best_score_)\n",
        "y_pred['nb'] = cross_val.predict(X_val)\n",
        "mse['nb'] = round(mean_squared_error(y_val, y_pred['nb']), 3)\n",
        "print('MSE', mse['nb'])"
      ]
    },
    {
      "cell_type": "markdown",
      "metadata": {
        "_cell_guid": "7febeef3-e6b0-a18a-5705-7ee3876c1965",
        "id": "uAQPGimDWqR5"
      },
      "source": [
        "## Регрессия"
      ]
    },
    {
      "cell_type": "code",
      "execution_count": 70,
      "metadata": {
        "colab": {
          "base_uri": "https://localhost:8080/"
        },
        "id": "qxIvZvtYWqR5",
        "outputId": "4bed489b-e8ff-4051-cf5e-cc567bc9e1d6"
      },
      "outputs": [
        {
          "output_type": "stream",
          "name": "stdout",
          "text": [
            "best score  -7.2466727905822905\n",
            "MSE 10.309\n"
          ]
        }
      ],
      "source": [
        "lr = LinearRegression()\n",
        "cross_val = GridSearchCV(lr, {}, cv=9, scoring='neg_mean_squared_error')\n",
        "cross_val.fit(X_train, y_train)\n",
        "print('best score ', cross_val.best_score_)\n",
        "y_pred['lr'] = cross_val.predict(X_val).astype('int')\n",
        "mse['lr'] = round(mean_squared_error(y_val, y_pred['lr']), 3)\n",
        "print('MSE', mse['lr'])"
      ]
    },
    {
      "cell_type": "markdown",
      "metadata": {
        "id": "-nDRVM8iWqR5"
      },
      "source": [
        "## SVM"
      ]
    },
    {
      "cell_type": "code",
      "execution_count": 71,
      "metadata": {
        "colab": {
          "base_uri": "https://localhost:8080/"
        },
        "id": "btxAcku8WqR6",
        "outputId": "bb4ee1a5-af98-415c-b0ba-5be5ccd58c38"
      },
      "outputs": [
        {
          "output_type": "stream",
          "name": "stdout",
          "text": [
            "{'C': 0.6, 'gamma': 'scale', 'kernel': 'linear'}\n",
            "MSE 9.033\n"
          ]
        }
      ],
      "source": [
        "svm = SVR()\n",
        "hyperparams = {\n",
        "    'kernel': ['linear', 'poly', 'rbf', 'sigmoid'],\n",
        "    'C': np.arange(0.5, 2, 0.1),\n",
        "    'gamma': ['scale', 'auto'],\n",
        "}\n",
        "cross_val = GridSearchCV(svm, hyperparams, cv=5, scoring='neg_mean_squared_error')\n",
        "cross_val.fit(X_train, y_train)\n",
        "print(cross_val.best_params_)\n",
        "y_pred['svm'] = cross_val.predict(X_val)\n",
        "mse['svm'] = round(mean_squared_error(y_val, y_pred['svm']), 3)\n",
        "print('MSE', mse['svm'])"
      ]
    },
    {
      "cell_type": "code",
      "execution_count": 72,
      "metadata": {
        "colab": {
          "base_uri": "https://localhost:8080/"
        },
        "id": "Yzbx9CfzWqR6",
        "outputId": "10b8efeb-f23e-4797-8898-1431639977fa"
      },
      "outputs": [
        {
          "output_type": "execute_result",
          "data": {
            "text/plain": [
              "{'knn': 8.981, 'nb': 11.309, 'lr': 10.309, 'svm': 9.033}"
            ]
          },
          "metadata": {},
          "execution_count": 72
        }
      ],
      "source": [
        "mse"
      ]
    },
    {
      "cell_type": "code",
      "execution_count": null,
      "metadata": {
        "id": "oqwyjMT8WqR7"
      },
      "outputs": [],
      "source": []
    },
    {
      "cell_type": "code",
      "execution_count": null,
      "metadata": {
        "id": "rf72HxnZWqR7"
      },
      "outputs": [],
      "source": []
    }
  ],
  "metadata": {
    "_change_revision": 0,
    "_is_fork": false,
    "colab": {
      "provenance": []
    },
    "kernelspec": {
      "display_name": "Python 3 (ipykernel)",
      "language": "python",
      "name": "python3"
    },
    "language_info": {
      "codemirror_mode": {
        "name": "ipython",
        "version": 3
      },
      "file_extension": ".py",
      "mimetype": "text/x-python",
      "name": "python",
      "nbconvert_exporter": "python",
      "pygments_lexer": "ipython3",
      "version": "3.9.7"
    }
  },
  "nbformat": 4,
  "nbformat_minor": 0
}