{
 "cells": [
  {
   "cell_type": "markdown",
   "metadata": {
    "id": "mNQ-I1PUU-PH"
   },
   "source": [
    "# hw4 - NN pyTorch"
   ]
  },
  {
   "cell_type": "markdown",
   "metadata": {
    "id": "YcnUBhqMUdio"
   },
   "source": [
    "Во всем задании вы должны работать со входом из строк размером (длиной) 1024"
   ]
  },
  {
   "cell_type": "code",
   "execution_count": 1,
   "metadata": {},
   "outputs": [],
   "source": [
    "import numpy as np\n",
    "import torch\n",
    "from torch import nn\n",
    "import matplotlib.pyplot as plt\n",
    "import torch.optim as optim\n",
    "from scipy.signal import periodogram"
   ]
  },
  {
   "cell_type": "markdown",
   "metadata": {
    "id": "O4_UACT-T_dY"
   },
   "source": [
    "## Часть 1 Фурье"
   ]
  },
  {
   "cell_type": "markdown",
   "metadata": {
    "id": "0ENj9WzCU-SK"
   },
   "source": [
    "### Подготовка данных"
   ]
  },
  {
   "cell_type": "markdown",
   "metadata": {
    "id": "_MDgqWu9U-U-"
   },
   "source": [
    "Сгенерите данные (сигнал) любым пакетом для численного преобразования Фурье, [например](https://numpy.org/doc/stable/reference/generated/numpy.fft.fft.html#numpy.fft.fft)"
   ]
  },
  {
   "cell_type": "code",
   "execution_count": 2,
   "metadata": {},
   "outputs": [],
   "source": [
    "size = 1024\n",
    "N = 10000"
   ]
  },
  {
   "cell_type": "code",
   "execution_count": 3,
   "metadata": {
    "id": "IbSGi7csVlYZ"
   },
   "outputs": [],
   "source": [
    "X, Y_real, Y_imag = [], [], []\n",
    "for _ in range(N):\n",
    "    X.append(np.array(2 * np.random.rand(size) - 1))\n",
    "    num = np.fft.fft(X[-1])\n",
    "    Y_real.append(num.real)\n",
    "    Y_imag.append(num.imag)\n",
    "X = torch.tensor(np.array(X), dtype=torch.float)\n",
    "Y = torch.tensor(np.array([Y_real, Y_imag]), dtype=torch.float)"
   ]
  },
  {
   "cell_type": "markdown",
   "metadata": {
    "id": "Em0erMH6WyEV"
   },
   "source": [
    "### Соберите и обучите нейросетку на pyTroch для преобразования Фурье"
   ]
  },
  {
   "cell_type": "code",
   "execution_count": 4,
   "metadata": {
    "id": "KqC_5cbgWyML"
   },
   "outputs": [],
   "source": [
    "class NeuralNetwork(nn.Module):\n",
    "    def __init__(self):\n",
    "        super(NeuralNetwork, self).__init__()\n",
    "        self.fc1 = nn.Linear(1024, 1024)\n",
    "        self.fc2 = nn.Linear(1024, 1024)\n",
    "\n",
    "    def forward(self, x):\n",
    "        real = self.fc1(x)\n",
    "        image = self.fc2(x)\n",
    "        return real, image"
   ]
  },
  {
   "cell_type": "code",
   "execution_count": 5,
   "metadata": {},
   "outputs": [],
   "source": [
    "model = NeuralNetwork()\n",
    "criterion = nn.MSELoss()\n",
    "optimizer = optim.Adam(model.parameters(), lr=0.1)\n",
    "epochs = 70"
   ]
  },
  {
   "cell_type": "code",
   "execution_count": 6,
   "metadata": {},
   "outputs": [
    {
     "name": "stdout",
     "output_type": "stream",
     "text": [
      "Epoch [1/70], Loss: 170.8060\n",
      "Epoch [2/70], Loss: 129.9322\n",
      "Epoch [3/70], Loss: 96.0911\n",
      "Epoch [4/70], Loss: 68.8388\n",
      "Epoch [5/70], Loss: 47.5278\n",
      "Epoch [6/70], Loss: 31.4792\n",
      "Epoch [7/70], Loss: 20.0005\n",
      "Epoch [8/70], Loss: 12.3782\n",
      "Epoch [9/70], Loss: 7.8856\n",
      "Epoch [10/70], Loss: 5.8086\n",
      "Epoch [11/70], Loss: 5.4724\n",
      "Epoch [12/70], Loss: 6.2650\n",
      "Epoch [13/70], Loss: 7.6552\n",
      "Epoch [14/70], Loss: 9.2084\n",
      "Epoch [15/70], Loss: 10.5971\n",
      "Epoch [16/70], Loss: 11.6037\n",
      "Epoch [17/70], Loss: 12.1137\n",
      "Epoch [18/70], Loss: 12.1009\n",
      "Epoch [19/70], Loss: 11.6071\n",
      "Epoch [20/70], Loss: 10.7207\n",
      "Epoch [21/70], Loss: 9.5554\n",
      "Epoch [22/70], Loss: 8.2331\n",
      "Epoch [23/70], Loss: 6.8692\n",
      "Epoch [24/70], Loss: 5.5625\n",
      "Epoch [25/70], Loss: 4.3890\n",
      "Epoch [26/70], Loss: 3.3994\n",
      "Epoch [27/70], Loss: 2.6193\n",
      "Epoch [28/70], Loss: 2.0516\n",
      "Epoch [29/70], Loss: 1.6805\n",
      "Epoch [30/70], Loss: 1.4759\n",
      "Epoch [31/70], Loss: 1.3994\n",
      "Epoch [32/70], Loss: 1.4090\n",
      "Epoch [33/70], Loss: 1.4642\n",
      "Epoch [34/70], Loss: 1.5296\n",
      "Epoch [35/70], Loss: 1.5777\n",
      "Epoch [36/70], Loss: 1.5899\n",
      "Epoch [37/70], Loss: 1.5574\n",
      "Epoch [38/70], Loss: 1.4795\n",
      "Epoch [39/70], Loss: 1.3624\n",
      "Epoch [40/70], Loss: 1.2167\n",
      "Epoch [41/70], Loss: 1.0556\n",
      "Epoch [42/70], Loss: 0.8921\n",
      "Epoch [43/70], Loss: 0.7381\n",
      "Epoch [44/70], Loss: 0.6025\n",
      "Epoch [45/70], Loss: 0.4911\n",
      "Epoch [46/70], Loss: 0.4060\n",
      "Epoch [47/70], Loss: 0.3464\n",
      "Epoch [48/70], Loss: 0.3088\n",
      "Epoch [49/70], Loss: 0.2882\n",
      "Epoch [50/70], Loss: 0.2790\n",
      "Epoch [51/70], Loss: 0.2756\n",
      "Epoch [52/70], Loss: 0.2732\n",
      "Epoch [53/70], Loss: 0.2684\n",
      "Epoch [54/70], Loss: 0.2589\n",
      "Epoch [55/70], Loss: 0.2441\n",
      "Epoch [56/70], Loss: 0.2243\n",
      "Epoch [57/70], Loss: 0.2010\n",
      "Epoch [58/70], Loss: 0.1758\n",
      "Epoch [59/70], Loss: 0.1507\n",
      "Epoch [60/70], Loss: 0.1274\n",
      "Epoch [61/70], Loss: 0.1071\n",
      "Epoch [62/70], Loss: 0.0904\n",
      "Epoch [63/70], Loss: 0.0778\n",
      "Epoch [64/70], Loss: 0.0687\n",
      "Epoch [65/70], Loss: 0.0627\n",
      "Epoch [66/70], Loss: 0.0588\n",
      "Epoch [67/70], Loss: 0.0561\n",
      "Epoch [68/70], Loss: 0.0540\n",
      "Epoch [69/70], Loss: 0.0517\n",
      "Epoch [70/70], Loss: 0.0490\n"
     ]
    }
   ],
   "source": [
    "for epoch in range(epochs):\n",
    "    outputs = model(X)\n",
    "    loss = (criterion(outputs[0], Y[0]) + criterion(outputs[1], Y[1])) / 2\n",
    "    optimizer.zero_grad()\n",
    "    loss.backward()\n",
    "    optimizer.step()\n",
    "    print('Epoch [{}/{}], Loss: {:.4f}'.format(epoch+1, epochs, loss.item()))"
   ]
  },
  {
   "cell_type": "markdown",
   "metadata": {
    "id": "R08QEdnPU-X5"
   },
   "source": [
    "### Сравните свое решение с пакетным методом"
   ]
  },
  {
   "cell_type": "code",
   "execution_count": 7,
   "metadata": {
    "id": "I-Kw6bNqPUoj"
   },
   "outputs": [
    {
     "name": "stdout",
     "output_type": "stream",
     "text": [
      "mse =  0.05566599726864621\n"
     ]
    }
   ],
   "source": [
    "X_test = torch.tensor(np.array(2 * np.random.rand(size) - 1), dtype=torch.float)\n",
    "Y_test = np.fft.fft(X_test)\n",
    "out = model(X_test)\n",
    "mse = (criterion(torch.tensor(Y_test.real), out[0]).item() + criterion(torch.tensor(Y_test.imag), out[1]).item()) / 2\n",
    "print('mse = ', mse)"
   ]
  },
  {
   "cell_type": "code",
   "execution_count": 26,
   "metadata": {},
   "outputs": [
    {
     "data": {
      "text/plain": [
       "[<matplotlib.lines.Line2D at 0x21225af8ac0>]"
      ]
     },
     "execution_count": 26,
     "metadata": {},
     "output_type": "execute_result"
    },
    {
     "data": {
      "image/png": "[encoded data removed]",
      "text/plain": [
       "<Figure size 432x288 with 1 Axes>"
      ]
     },
     "metadata": {
      "needs_background": "light"
     },
     "output_type": "display_data"
    }
   ],
   "source": [
    "plt.plot((out[0].detach()**2 + out[1].detach()**2)**0.5) \n"
   ]
  },
  {
   "cell_type": "code",
   "execution_count": 344,
   "metadata": {},
   "outputs": [
    {
     "name": "stdout",
     "output_type": "stream",
     "text": [
      "mse =  0.06789506563778716\n"
     ]
    }
   ],
   "source": [
    "X_test = torch.tensor(np.array(np.random.rand(size)), dtype=torch.float)\n",
    "Y_test = np.fft.fft(X_test)\n",
    "out = model(X_test)\n",
    "mse = (criterion(torch.tensor(Y_test.real), out[0]).item() + criterion(torch.tensor(Y_test.imag), out[1]).item()) / 2\n",
    "print('mse = ', mse)"
   ]
  },
  {
   "cell_type": "code",
   "execution_count": 346,
   "metadata": {},
   "outputs": [
    {
     "name": "stdout",
     "output_type": "stream",
     "text": [
      "mse =  0.5007125597214928\n"
     ]
    }
   ],
   "source": [
    "X_test = torch.tensor(np.array(np.random.rand(size)-2), dtype=torch.float)\n",
    "Y_test = np.fft.fft(X_test)\n",
    "out = model(X_test)\n",
    "mse = (criterion(torch.tensor(Y_test.real), out[0]).item() + criterion(torch.tensor(Y_test.imag), out[1]).item()) / 2\n",
    "print('mse = ', mse)"
   ]
  },
  {
   "cell_type": "code",
   "execution_count": 347,
   "metadata": {},
   "outputs": [
    {
     "name": "stdout",
     "output_type": "stream",
     "text": [
      "mse =  6.393297490436334\n"
     ]
    }
   ],
   "source": [
    "X_test = torch.tensor(np.array(np.random.rand(size) * 10), dtype=torch.float)\n",
    "Y_test = np.fft.fft(X_test)\n",
    "out = model(X_test)\n",
    "mse = (criterion(torch.tensor(Y_test.real), out[0]).item() + criterion(torch.tensor(Y_test.imag), out[1]).item()) / 2\n",
    "print('mse = ', mse)"
   ]
  },
  {
   "cell_type": "code",
   "execution_count": null,
   "metadata": {},
   "outputs": [],
   "source": []
  },
  {
   "cell_type": "markdown",
   "metadata": {
    "id": "ELvl6uKPVRkQ"
   },
   "source": [
    "## Часть 2 Power spectral density (dB)"
   ]
  },
  {
   "cell_type": "markdown",
   "metadata": {
    "id": "iRmBr8VRWolP"
   },
   "source": [
    "### Подготовка данных"
   ]
  },
  {
   "cell_type": "markdown",
   "metadata": {
    "id": "5oYYsgNRasfs"
   },
   "source": [
    "Используя пакетное решение, [например](https://docs.scipy.org/doc/scipy/reference/generated/scipy.signal.periodogram.html), подготовьте обучающую выборку."
   ]
  },
  {
   "cell_type": "code",
   "execution_count": 48,
   "metadata": {
    "id": "Bc74w6f_WotV"
   },
   "outputs": [],
   "source": [
    "X, Y = [], []\n",
    "for _ in range(N):\n",
    "    w1, w2 = np.random.rand(), np.random.rand()\n",
    "    X.append(np.array([(np.sin(w1 * t) + np.cos(w2 * t)) / 2 for t in range(1024)]))\n",
    "    _, Pxx_den = periodogram(X[-1])\n",
    "    Y.append(np.array(Pxx_den[1:]))\n",
    "X = torch.tensor(np.array(X), dtype=torch.float)\n",
    "Y = torch.tensor(np.array(Y), dtype=torch.float)"
   ]
  },
  {
   "cell_type": "code",
   "execution_count": 39,
   "metadata": {},
   "outputs": [
    {
     "data": {
      "text/plain": [
       "[<matplotlib.lines.Line2D at 0x212262c7b50>]"
      ]
     },
     "execution_count": 39,
     "metadata": {},
     "output_type": "execute_result"
    },
    {
     "data": {
      "image/png": "[encoded data removed]",
      "text/plain": [
       "<Figure size 432x288 with 1 Axes>"
      ]
     },
     "metadata": {
      "needs_background": "light"
     },
     "output_type": "display_data"
    }
   ],
   "source": [
    "w1, w2 = np.random.rand(), np.random.rand()\n",
    "x = np.array([(np.sin(w1 * t) + np.cos(w2 * t)) / 2 for t in range(1024)])\n",
    "plt.plot(x)"
   ]
  },
  {
   "cell_type": "markdown",
   "metadata": {
    "id": "gOSFp3Y9cO4r"
   },
   "source": [
    "### Соберите и обучите нейросеть для предсказания спектральной плотности мощности"
   ]
  },
  {
   "cell_type": "markdown",
   "metadata": {
    "id": "biFb-0hPcqk6"
   },
   "source": [
    "*Подсказка: для входа 1024 выход будет 512*"
   ]
  },
  {
   "cell_type": "code",
   "execution_count": 49,
   "metadata": {
    "id": "yD-jrz7CcPAo"
   },
   "outputs": [],
   "source": [
    "class NeuralNetwork(nn.Module):\n",
    "    def __init__(self):\n",
    "        super(NeuralNetwork, self).__init__()\n",
    "        self.fc1 = nn.Linear(1024, 512)\n",
    "\n",
    "    def forward(self, x):\n",
    "        x = torch.relu(self.fc1(x))\n",
    "        return x"
   ]
  },
  {
   "cell_type": "code",
   "execution_count": 50,
   "metadata": {},
   "outputs": [],
   "source": [
    "model = NeuralNetwork()\n",
    "criterion = nn.MSELoss()\n",
    "optimizer = optim.Adam(model.parameters(), lr=0.1)\n",
    "epochs = 150"
   ]
  },
  {
   "cell_type": "code",
   "execution_count": 51,
   "metadata": {},
   "outputs": [
    {
     "name": "stdout",
     "output_type": "stream",
     "text": [
      "Epoch [1/150], Loss: 43.4309\n",
      "Epoch [2/150], Loss: 34.1172\n",
      "Epoch [3/150], Loss: 25.0757\n",
      "Epoch [4/150], Loss: 19.6429\n",
      "Epoch [5/150], Loss: 16.8514\n",
      "Epoch [6/150], Loss: 15.7991\n",
      "Epoch [7/150], Loss: 15.7859\n",
      "Epoch [8/150], Loss: 16.2867\n",
      "Epoch [9/150], Loss: 16.7378\n",
      "Epoch [10/150], Loss: 16.8049\n",
      "Epoch [11/150], Loss: 16.4310\n",
      "Epoch [12/150], Loss: 15.7337\n",
      "Epoch [13/150], Loss: 14.9053\n",
      "Epoch [14/150], Loss: 14.1356\n",
      "Epoch [15/150], Loss: 13.5579\n",
      "Epoch [16/150], Loss: 13.2313\n",
      "Epoch [17/150], Loss: 13.1389\n",
      "Epoch [18/150], Loss: 13.2094\n",
      "Epoch [19/150], Loss: 13.3428\n",
      "Epoch [20/150], Loss: 13.4442\n",
      "Epoch [21/150], Loss: 13.4502\n",
      "Epoch [22/150], Loss: 13.3409\n",
      "Epoch [23/150], Loss: 13.1357\n",
      "Epoch [24/150], Loss: 12.8828\n",
      "Epoch [25/150], Loss: 12.6364\n",
      "Epoch [26/150], Loss: 12.4393\n",
      "Epoch [27/150], Loss: 12.3142\n",
      "Epoch [28/150], Loss: 12.2588\n",
      "Epoch [29/150], Loss: 12.2528\n",
      "Epoch [30/150], Loss: 12.2643\n",
      "Epoch [31/150], Loss: 12.2645\n",
      "Epoch [32/150], Loss: 12.2354\n",
      "Epoch [33/150], Loss: 12.1729\n",
      "Epoch [34/150], Loss: 12.0862\n",
      "Epoch [35/150], Loss: 11.9923\n",
      "Epoch [36/150], Loss: 11.9079\n",
      "Epoch [37/150], Loss: 11.8454\n",
      "Epoch [38/150], Loss: 11.8078\n",
      "Epoch [39/150], Loss: 11.7896\n",
      "Epoch [40/150], Loss: 11.7799\n",
      "Epoch [41/150], Loss: 11.7679\n",
      "Epoch [42/150], Loss: 11.7468\n",
      "Epoch [43/150], Loss: 11.7147\n",
      "Epoch [44/150], Loss: 11.6749\n",
      "Epoch [45/150], Loss: 11.6341\n",
      "Epoch [46/150], Loss: 11.5975\n",
      "Epoch [47/150], Loss: 11.5683\n",
      "Epoch [48/150], Loss: 11.5469\n",
      "Epoch [49/150], Loss: 11.5306\n",
      "Epoch [50/150], Loss: 11.5158\n",
      "Epoch [51/150], Loss: 11.4996\n",
      "Epoch [52/150], Loss: 11.4804\n",
      "Epoch [53/150], Loss: 11.4588\n",
      "Epoch [54/150], Loss: 11.4364\n",
      "Epoch [55/150], Loss: 11.4151\n",
      "Epoch [56/150], Loss: 11.3960\n",
      "Epoch [57/150], Loss: 11.3797\n",
      "Epoch [58/150], Loss: 11.3654\n",
      "Epoch [59/150], Loss: 11.3518\n",
      "Epoch [60/150], Loss: 11.3378\n",
      "Epoch [61/150], Loss: 11.3231\n",
      "Epoch [62/150], Loss: 11.3075\n",
      "Epoch [63/150], Loss: 11.2917\n",
      "Epoch [64/150], Loss: 11.2764\n",
      "Epoch [65/150], Loss: 11.2622\n",
      "Epoch [66/150], Loss: 11.2489\n",
      "Epoch [67/150], Loss: 11.2364\n",
      "Epoch [68/150], Loss: 11.2241\n",
      "Epoch [69/150], Loss: 11.2117\n",
      "Epoch [70/150], Loss: 11.1992\n",
      "Epoch [71/150], Loss: 11.1866\n",
      "Epoch [72/150], Loss: 11.1740\n",
      "Epoch [73/150], Loss: 11.1618\n",
      "Epoch [74/150], Loss: 11.1498\n",
      "Epoch [75/150], Loss: 11.1382\n",
      "Epoch [76/150], Loss: 11.1267\n",
      "Epoch [77/150], Loss: 11.1154\n",
      "Epoch [78/150], Loss: 11.1040\n",
      "Epoch [79/150], Loss: 11.0927\n",
      "Epoch [80/150], Loss: 11.0814\n",
      "Epoch [81/150], Loss: 11.0701\n",
      "Epoch [82/150], Loss: 11.0591\n",
      "Epoch [83/150], Loss: 11.0482\n",
      "Epoch [84/150], Loss: 11.0374\n",
      "Epoch [85/150], Loss: 11.0267\n",
      "Epoch [86/150], Loss: 11.0161\n",
      "Epoch [87/150], Loss: 11.0055\n",
      "Epoch [88/150], Loss: 10.9950\n",
      "Epoch [89/150], Loss: 10.9845\n",
      "Epoch [90/150], Loss: 10.9741\n",
      "Epoch [91/150], Loss: 10.9637\n",
      "Epoch [92/150], Loss: 10.9535\n",
      "Epoch [93/150], Loss: 10.9433\n",
      "Epoch [94/150], Loss: 10.9331\n",
      "Epoch [95/150], Loss: 10.9230\n",
      "Epoch [96/150], Loss: 10.9130\n",
      "Epoch [97/150], Loss: 10.9030\n",
      "Epoch [98/150], Loss: 10.8930\n",
      "Epoch [99/150], Loss: 10.8831\n",
      "Epoch [100/150], Loss: 10.8733\n",
      "Epoch [101/150], Loss: 10.8634\n",
      "Epoch [102/150], Loss: 10.8536\n",
      "Epoch [103/150], Loss: 10.8438\n",
      "Epoch [104/150], Loss: 10.8342\n",
      "Epoch [105/150], Loss: 10.8246\n",
      "Epoch [106/150], Loss: 10.8151\n",
      "Epoch [107/150], Loss: 10.8056\n",
      "Epoch [108/150], Loss: 10.7962\n",
      "Epoch [109/150], Loss: 10.7868\n",
      "Epoch [110/150], Loss: 10.7775\n",
      "Epoch [111/150], Loss: 10.7682\n",
      "Epoch [112/150], Loss: 10.7589\n",
      "Epoch [113/150], Loss: 10.7497\n",
      "Epoch [114/150], Loss: 10.7405\n",
      "Epoch [115/150], Loss: 10.7315\n",
      "Epoch [116/150], Loss: 10.7224\n",
      "Epoch [117/150], Loss: 10.7133\n",
      "Epoch [118/150], Loss: 10.7043\n",
      "Epoch [119/150], Loss: 10.6952\n",
      "Epoch [120/150], Loss: 10.6864\n",
      "Epoch [121/150], Loss: 10.6776\n",
      "Epoch [122/150], Loss: 10.6688\n",
      "Epoch [123/150], Loss: 10.6600\n",
      "Epoch [124/150], Loss: 10.6511\n",
      "Epoch [125/150], Loss: 10.6423\n",
      "Epoch [126/150], Loss: 10.6334\n",
      "Epoch [127/150], Loss: 10.6247\n",
      "Epoch [128/150], Loss: 10.6161\n",
      "Epoch [129/150], Loss: 10.6075\n",
      "Epoch [130/150], Loss: 10.5990\n",
      "Epoch [131/150], Loss: 10.5906\n",
      "Epoch [132/150], Loss: 10.5822\n",
      "Epoch [133/150], Loss: 10.5738\n",
      "Epoch [134/150], Loss: 10.5653\n",
      "Epoch [135/150], Loss: 10.5569\n",
      "Epoch [136/150], Loss: 10.5484\n",
      "Epoch [137/150], Loss: 10.5399\n",
      "Epoch [138/150], Loss: 10.5315\n",
      "Epoch [139/150], Loss: 10.5232\n",
      "Epoch [140/150], Loss: 10.5149\n",
      "Epoch [141/150], Loss: 10.5067\n",
      "Epoch [142/150], Loss: 10.4985\n",
      "Epoch [143/150], Loss: 10.4904\n",
      "Epoch [144/150], Loss: 10.4822\n",
      "Epoch [145/150], Loss: 10.4741\n",
      "Epoch [146/150], Loss: 10.4660\n",
      "Epoch [147/150], Loss: 10.4579\n",
      "Epoch [148/150], Loss: 10.4499\n",
      "Epoch [149/150], Loss: 10.4420\n",
      "Epoch [150/150], Loss: 10.4341\n"
     ]
    }
   ],
   "source": [
    "for epoch in range(epochs):\n",
    "    outputs = model(X)\n",
    "    loss = criterion(outputs, Y)\n",
    "    optimizer.zero_grad()\n",
    "    loss.backward()\n",
    "    optimizer.step()\n",
    "    print('Epoch [{}/{}], Loss: {:.4f}'.format(epoch+1, epochs, loss.item()))"
   ]
  },
  {
   "cell_type": "markdown",
   "metadata": {
    "id": "eZUr_fy6WxEI"
   },
   "source": [
    "### Провалидируйте свое решение"
   ]
  },
  {
   "cell_type": "markdown",
   "metadata": {
    "id": "brMFI4kTXLL_"
   },
   "source": [
    "*Примечание: Для сдачи достаточно качественного соответствия по форме спектра с пакетным решением*"
   ]
  },
  {
   "cell_type": "code",
   "execution_count": 52,
   "metadata": {
    "id": "e_vb2_cxVyWP"
   },
   "outputs": [],
   "source": [
    "w1, w2 = np.random.rand(), np.random.rand()\n",
    "X = np.array([(np.sin(w1 * t) + np.cos(w2 * t)) / 2 for t in range(1024)])"
   ]
  },
  {
   "cell_type": "code",
   "execution_count": 53,
   "metadata": {},
   "outputs": [
    {
     "data": {
      "text/plain": [
       "[<matplotlib.lines.Line2D at 0x212265ed4f0>]"
      ]
     },
     "execution_count": 53,
     "metadata": {},
     "output_type": "execute_result"
    },
    {
     "data": {
      "image/png": "[encoded data removed]",
      "text/plain": [
       "<Figure size 432x288 with 1 Axes>"
      ]
     },
     "metadata": {
      "needs_background": "light"
     },
     "output_type": "display_data"
    }
   ],
   "source": [
    "_, Pxx_den = periodogram(X)\n",
    "plt.plot(range(len(Pxx_den[1:])), Pxx_den[1:])"
   ]
  },
  {
   "cell_type": "code",
   "execution_count": 460,
   "metadata": {},
   "outputs": [
    {
     "data": {
      "text/plain": [
       "[<matplotlib.lines.Line2D at 0x2278d36d580>]"
      ]
     },
     "execution_count": 460,
     "metadata": {},
     "output_type": "execute_result"
    },
    {
     "data": {
      "image/png": "[encoded data removed]",
      "text/plain": [
       "<Figure size 432x288 with 1 Axes>"
      ]
     },
     "metadata": {
      "needs_background": "light"
     },
     "output_type": "display_data"
    }
   ],
   "source": [
    "plt.plot(range(len(Pxx_den[1:])), model(torch.tensor(X, dtype=torch.float)).detach().numpy())"
   ]
  },
  {
   "cell_type": "code",
   "execution_count": null,
   "metadata": {},
   "outputs": [],
   "source": []
  },
  {
   "cell_type": "code",
   "execution_count": null,
   "metadata": {},
   "outputs": [],
   "source": []
  }
 ],
 "metadata": {
  "colab": {
   "collapsed_sections": [],
   "provenance": [],
   "toc_visible": true
  },
  "kernelspec": {
   "display_name": "Python 3 (ipykernel)",
   "language": "python",
   "name": "python3"
  },
  "language_info": {
   "codemirror_mode": {
    "name": "ipython",
    "version": 3
   },
   "file_extension": ".py",
   "mimetype": "text/x-python",
   "name": "python",
   "nbconvert_exporter": "python",
   "pygments_lexer": "ipython3",
   "version": "3.9.7"
  }
 },
 "nbformat": 4,
 "nbformat_minor": 4
}
