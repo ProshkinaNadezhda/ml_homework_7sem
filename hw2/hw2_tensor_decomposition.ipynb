{
 "cells": [
  {
   "cell_type": "markdown",
   "metadata": {
    "id": "Qjl6x6og3uXH"
   },
   "source": [
    "# HW 2 - Разложение матриц градиентным методом"
   ]
  },
  {
   "cell_type": "markdown",
   "metadata": {
    "id": "Sv79QFb_-oNZ"
   },
   "source": [
    "Цель задания: В ходе реализации [разложения Таккера](https://proceedings.neurips.cc/paper/2018/file/45a766fa266ea2ebeb6680fa139d2a3d-Paper.pdf) градиентным методом освоить pyTorch и реализовать подходы оптимизации параметров модели (в отсутствии готовых решений)."
   ]
  },
  {
   "cell_type": "markdown",
   "metadata": {
    "id": "1HUSrylpBwYn"
   },
   "source": [
    "[Более-менее внятное описание алгоритма канонического разложения](https://www.alexejgossmann.com/tensor_decomposition_tucker/) - само аналитическое разложение вам реализовывать НЕ НУЖНО"
   ]
  },
  {
   "cell_type": "code",
   "execution_count": 216,
   "metadata": {
    "id": "P1PuoBtG7iw7"
   },
   "outputs": [
    {
     "data": {
      "text/plain": [
       "<torch._C.Generator at 0x1f5910da390>"
      ]
     },
     "execution_count": 216,
     "metadata": {},
     "output_type": "execute_result"
    }
   ],
   "source": [
    "import random\n",
    "import time\n",
    "import torch\n",
    "import pandas as pd\n",
    "import numpy as np\n",
    "\n",
    "import scipy.sparse as sparse\n",
    "from scipy.sparse.linalg import spsolve\n",
    "from sklearn.preprocessing import MinMaxScaler\n",
    "from matplotlib import pyplot as plt\n",
    "from numpy.linalg import svd, matrix_rank, pinv, inv\n",
    "from scipy.linalg import eigh, eig\n",
    "from sklearn.metrics import mean_squared_error\n",
    "from tqdm.notebook import tqdm\n",
    "from torch import nn\n",
    "import tensorly\n",
    "from torch.nn.functional import mse_loss\n",
    "from torch.optim import Adam\n",
    "\n",
    "torch.manual_seed(0)"
   ]
  },
  {
   "cell_type": "markdown",
   "metadata": {
    "id": "6LfhKpuX7htE"
   },
   "source": [
    "## 1 Создайте 3х мерный тензор\n",
    "Размер тензора не меньше 100 по каждой из размерностей.\n",
    "\n",
    "Заполните случайными целыми числами в диапазоне от 0 до 9."
   ]
  },
  {
   "cell_type": "markdown",
   "metadata": {
    "id": "ap1Ozn7P8-Yj"
   },
   "source": [
    "Примечание: разложение будет корректно работать со случайным тензором, только если изначально создавать случайные ядро и матрицы, а потом по ним формировать тензор. Работайте с типом *torch.Tensor.double*."
   ]
  },
  {
   "cell_type": "code",
   "execution_count": 217,
   "metadata": {
    "id": "5SzHzteOROQQ"
   },
   "outputs": [],
   "source": [
    "# Создадим тензор: размер тензора и r задаётся\n",
    "def get_tensor(size=(100,200,150), r=10):\n",
    "    # data - тензор с заданной размерностью\n",
    "    # U - список матриц\n",
    "    # G - ядро разложения\n",
    "    \n",
    "    U = [np.random.randint(0,10,(n, r)) for n in size]\n",
    "    G = np.random.randint(0,10,(r, r, r))\n",
    "    data = torch.tensor(tensorly.tenalg.multi_mode_dot(G, U))\n",
    "    \n",
    "    return data, U, G"
   ]
  },
  {
   "cell_type": "markdown",
   "metadata": {
    "id": "EFuFlp2n78Tz"
   },
   "source": [
    "Сгенерируйте тензор и добавьте к нему случайный шум с размерностью *1e-2*"
   ]
  },
  {
   "cell_type": "code",
   "execution_count": 218,
   "metadata": {
    "id": "FnUbbsYSdrsw"
   },
   "outputs": [
    {
     "data": {
      "text/plain": [
       "(torch.Size([100, 200, 150]), [(100, 10), (200, 10), (150, 10)], (10, 10, 10))"
      ]
     },
     "execution_count": 218,
     "metadata": {},
     "output_type": "execute_result"
    }
   ],
   "source": [
    "data, U, G = get_tensor()\n",
    "data.shape, [u.shape for u in U], G.shape"
   ]
  },
  {
   "cell_type": "code",
   "execution_count": 219,
   "metadata": {
    "id": "N70Xy_6u9RFa"
   },
   "outputs": [],
   "source": [
    "data_noise = data.add(torch.rand(data.shape) / 10)"
   ]
  },
  {
   "cell_type": "markdown",
   "metadata": {
    "id": "kp75_Ad29RL5"
   },
   "source": [
    "Вопрос:\n",
    "Почему задание не имеет смысла для полностью случайного тензора и зачем добавлять шум? *не отвечать нельзя*"
   ]
  },
  {
   "cell_type": "markdown",
   "metadata": {
    "id": "5VLMaT5wyE11"
   },
   "source": [
    "Ответ:"
   ]
  },
  {
   "cell_type": "markdown",
   "metadata": {
    "id": "TzninpMYD_hd"
   },
   "source": [
    "## 2 Реализуйте метод для восстановления тензора по разложению"
   ]
  },
  {
   "cell_type": "code",
   "execution_count": 220,
   "metadata": {
    "id": "YDTx9ZbYD-_S"
   },
   "outputs": [],
   "source": [
    "# Функция, восстанавливающая тензор по ядру и матрицам\n",
    "def repair_tensor(G_, U):    \n",
    "    data = G_.clone()\n",
    "    for i in range(len(U)):  \n",
    "        modes = [U[i].shape[0]] + [list(data.shape)[s] for s in range(len(list(data.shape))) if s != i]\n",
    "        data_i = torch.reshape(torch.moveaxis(data, i, 0), (data.shape[i], -1))\n",
    "        data = torch.moveaxis(torch.reshape(U[i] @ data_i, modes), 0, i)\n",
    "    return data"
   ]
  },
  {
   "cell_type": "code",
   "execution_count": 221,
   "metadata": {
    "id": "KvEKNuTvIIfp"
   },
   "outputs": [],
   "source": [
    "size, r = (100,200,150), 10\n",
    "U = [torch.randint(0,10,(n, r)).float() for n in size]\n",
    "G = torch.randint(0,10,(r, r, r)).float()"
   ]
  },
  {
   "cell_type": "code",
   "execution_count": 222,
   "metadata": {},
   "outputs": [],
   "source": [
    "my_data = repair_tensor(G, U)\n",
    "my_data_noise = my_data.add(torch.rand(my_data.shape) / 10)"
   ]
  },
  {
   "cell_type": "code",
   "execution_count": null,
   "metadata": {},
   "outputs": [],
   "source": []
  },
  {
   "cell_type": "code",
   "execution_count": 223,
   "metadata": {},
   "outputs": [
    {
     "data": {
      "text/plain": [
       "tensor(1383021.)"
      ]
     },
     "execution_count": 223,
     "metadata": {},
     "output_type": "execute_result"
    }
   ],
   "source": [
    "my_data.max()"
   ]
  },
  {
   "cell_type": "code",
   "execution_count": 224,
   "metadata": {},
   "outputs": [],
   "source": [
    "def create_tensor(size=(100,200,150), r=10):\n",
    "    U = [torch.randint(0,10,(n, r)).float() for n in size]\n",
    "    G = torch.randint(0,10,(r, r, r)).float()\n",
    "    data = repair_tensor(G, U)\n",
    "    \n",
    "    return data, U, G"
   ]
  },
  {
   "cell_type": "markdown",
   "metadata": {
    "id": "MKqzxtaE-F16"
   },
   "source": [
    "## 3 Сделайте разложение библиотечным методом\n",
    "Пакет можете брать любой"
   ]
  },
  {
   "cell_type": "code",
   "execution_count": 225,
   "metadata": {},
   "outputs": [],
   "source": [
    "G_lib, U_lib = tensorly.decomposition.tucker(tensorly.tensor(my_data_noise), G.shape)"
   ]
  },
  {
   "cell_type": "code",
   "execution_count": 226,
   "metadata": {
    "id": "Hlp4Jh3--fKh"
   },
   "outputs": [],
   "source": [
    "data_lib = torch.tensor(tensorly.tenalg.multi_mode_dot(G_lib, U_lib))"
   ]
  },
  {
   "cell_type": "markdown",
   "metadata": {
    "id": "wMw1x8w8-lsh"
   },
   "source": [
    "Не забудьте померить ошибку разложения по метрике MSE"
   ]
  },
  {
   "cell_type": "code",
   "execution_count": 227,
   "metadata": {
    "id": "HWkdb7Ip-mL3"
   },
   "outputs": [
    {
     "data": {
      "text/plain": [
       "tensor(0.0266)"
      ]
     },
     "execution_count": 227,
     "metadata": {},
     "output_type": "execute_result"
    }
   ],
   "source": [
    "mse_loss(my_data_noise, data_lib)"
   ]
  },
  {
   "cell_type": "markdown",
   "metadata": {
    "id": "ibOgeEgfD1wm"
   },
   "source": [
    "## 4 Реализуйте разложение градиентным методом"
   ]
  },
  {
   "cell_type": "markdown",
   "metadata": {
    "id": "GstBYmiBF7A6"
   },
   "source": [
    "### 4.1 Реализуйте *optimizer*\n",
    "Можно взять из исходников *PyTorch* и отнаследоваться от *torch.optim.optimizer*.\n",
    "Используйте квадратичный *Loss*."
   ]
  },
  {
   "cell_type": "code",
   "execution_count": 229,
   "metadata": {},
   "outputs": [],
   "source": [
    "class AdamOpt(Optimizer):\n",
    "    def __init__(self, params, lr=0.001, betas=(0.9, 0.999), eps=1e-1):\n",
    "        defaults = dict(lr=lr, betas=betas, eps=eps)\n",
    "        super(AdamOpt, self).__init__(params, defaults)\n",
    "\n",
    "    def step(self):\n",
    "        for group in self.param_groups:\n",
    "            for p in group['params']:\n",
    "                grad = p.grad.data\n",
    "                state = self.state[p]\n",
    "\n",
    "                if len(state) == 0:\n",
    "                    state['step'] = 0\n",
    "                    state['m'] = torch.zeros_like(p)\n",
    "                    state['v'] = torch.zeros_like(p)\n",
    "\n",
    "                beta1, beta2 = group['betas']\n",
    "                state['step'] += 1\n",
    "\n",
    "                m = beta1 * state['m'] + (1 - beta1) * grad\n",
    "                v = beta2 * state['v'] + (1 - beta2) * grad**2\n",
    "                m_hat = m / (1 - beta1**state['step'])\n",
    "                v_hat = v / (1 - beta2**state['step'])\n",
    "\n",
    "                p.data -= group['lr'] * m_hat / (torch.sqrt(v_hat) + group['eps'])\n",
    "\n",
    "                state['m'], state['v'] = m, v"
   ]
  },
  {
   "cell_type": "markdown",
   "metadata": {
    "id": "8GSolH5dEJba"
   },
   "source": [
    "### 4.2 Реализуйте цикл оптимизации параметров"
   ]
  },
  {
   "cell_type": "markdown",
   "metadata": {
    "id": "P6UWpuERFTn8"
   },
   "source": [
    "Стоит параметры оптимизировать сразу на GPU"
   ]
  },
  {
   "cell_type": "code",
   "execution_count": 230,
   "metadata": {},
   "outputs": [],
   "source": [
    "def optimization(G, U, data, opt, it, err):\n",
    "    optim = opt\n",
    "    f = True\n",
    "    for i in range(it):    \n",
    "        optim.zero_grad()\n",
    "        loss = mse_loss(repair_tensor(G, U), data)\n",
    "        loss.backward()\n",
    "        torch.nn.utils.clip_grad_norm_(opt.param_groups[0]['params'], 10**5)\n",
    "        optim.step()\n",
    "\n",
    "        if i % 100 == 0:\n",
    "            print(f'itr {i} mse is {loss}')\n",
    "\n",
    "        if loss.data < err:\n",
    "            break "
   ]
  },
  {
   "cell_type": "markdown",
   "metadata": {
    "id": "Za8JKgR-Falk"
   },
   "source": [
    "## 5 Приведите сравнение скорости работы и ошибки восстановления методом из пакета и реализованного градиентного\n",
    "Сравнение может считаться ± объективным с размером выборки от 10."
   ]
  },
  {
   "cell_type": "code",
   "execution_count": 231,
   "metadata": {
    "id": "mOGKW9RHFa5D"
   },
   "outputs": [],
   "source": [
    "size = (100, 120, 110)\n",
    "r = 10\n",
    "itr = 50000\n",
    "eps = 0.5\n",
    "\n",
    "data, U, G = create_tensor(size, r)\n",
    "noise = torch.rand(data.shape) / 10\n",
    "data = noise.add(data)\n",
    "\n",
    "G_opt = torch.randint(0, 10, (r, r, r)).float().requires_grad_()\n",
    "U_opt = [torch.randint(0, 10, (s, r)).float().requires_grad_() for s in size]\n",
    "\n",
    "my_optimizer = AdamOpt([G_opt, *U_opt])"
   ]
  },
  {
   "cell_type": "code",
   "execution_count": null,
   "metadata": {},
   "outputs": [],
   "source": []
  },
  {
   "cell_type": "code",
   "execution_count": 232,
   "metadata": {},
   "outputs": [
    {
     "name": "stdout",
     "output_type": "stream",
     "text": [
      "itr 0 mse is 47669108736.0\n",
      "itr 100 mse is 41341739008.0\n",
      "itr 200 mse is 36216958976.0\n",
      "itr 300 mse is 31865890816.0\n",
      "itr 400 mse is 28056180736.0\n",
      "itr 500 mse is 24660692992.0\n",
      "itr 600 mse is 21605920768.0\n",
      "itr 700 mse is 18845620224.0\n",
      "itr 800 mse is 16348451840.0\n",
      "itr 900 mse is 14091745280.0\n",
      "itr 1000 mse is 12058083328.0\n",
      "itr 1100 mse is 10233184256.0\n",
      "itr 1200 mse is 8604620800.0\n",
      "itr 1300 mse is 7161026048.0\n",
      "itr 1400 mse is 5891616768.0\n",
      "itr 1500 mse is 4785875968.0\n",
      "itr 1600 mse is 3833253376.0\n",
      "itr 1700 mse is 3022899712.0\n",
      "itr 1800 mse is 2343432704.0\n",
      "itr 1900 mse is 1782855168.0\n",
      "itr 2000 mse is 1328659328.0\n",
      "itr 2100 mse is 968092736.0\n",
      "itr 2200 mse is 688443008.0\n",
      "itr 2300 mse is 477242752.0\n",
      "itr 2400 mse is 322492192.0\n",
      "itr 2500 mse is 213046848.0\n",
      "itr 2600 mse is 139047424.0\n",
      "itr 2700 mse is 91977704.0\n",
      "itr 2800 mse is 64236076.0\n",
      "itr 2900 mse is 49047632.0\n",
      "itr 3000 mse is 40817656.0\n",
      "itr 3100 mse is 35797516.0\n",
      "itr 3200 mse is 34303984.0\n",
      "itr 3300 mse is 33559428.0\n",
      "itr 3400 mse is 32985942.0\n",
      "itr 3500 mse is 32367400.0\n",
      "itr 3600 mse is 31567324.0\n",
      "itr 3700 mse is 30512036.0\n",
      "itr 3800 mse is 29337756.0\n",
      "itr 3900 mse is 28142426.0\n",
      "itr 4000 mse is 26962660.0\n",
      "itr 4100 mse is 25824016.0\n",
      "itr 4200 mse is 24736144.0\n",
      "itr 4300 mse is 23691036.0\n",
      "itr 4400 mse is 22665354.0\n",
      "itr 4500 mse is 21629512.0\n",
      "itr 4600 mse is 20563166.0\n",
      "itr 4700 mse is 19467202.0\n",
      "itr 4800 mse is 18361836.0\n",
      "itr 4900 mse is 17275134.0\n",
      "itr 5000 mse is 16232462.0\n",
      "itr 5100 mse is 15267379.0\n",
      "itr 5200 mse is 14405730.0\n",
      "itr 5300 mse is 13635606.0\n",
      "itr 5400 mse is 12948205.0\n",
      "itr 5500 mse is 12332853.0\n",
      "itr 5600 mse is 11777544.0\n",
      "itr 5700 mse is 11269974.0\n",
      "itr 5800 mse is 10798677.0\n",
      "itr 5900 mse is 10354049.0\n",
      "itr 6000 mse is 9929222.0\n",
      "itr 6100 mse is 9520706.0\n",
      "itr 6200 mse is 9128403.0\n",
      "itr 6300 mse is 8754779.0\n",
      "itr 6400 mse is 8403336.0\n",
      "itr 6500 mse is 8076961.5\n",
      "itr 6600 mse is 7776805.0\n",
      "itr 6700 mse is 7501947.0\n",
      "itr 6800 mse is 7249751.0\n",
      "itr 6900 mse is 7016618.0\n",
      "itr 7000 mse is 6798765.0\n",
      "itr 7100 mse is 6592882.5\n",
      "itr 7200 mse is 6396511.0\n",
      "itr 7300 mse is 6208158.5\n",
      "itr 7400 mse is 6027194.0\n",
      "itr 7500 mse is 5853578.5\n",
      "itr 7600 mse is 5687580.0\n",
      "itr 7700 mse is 5529498.5\n",
      "itr 7800 mse is 5379475.5\n",
      "itr 7900 mse is 5237398.5\n",
      "itr 8000 mse is 5102874.5\n",
      "itr 8100 mse is 4975245.5\n",
      "itr 8200 mse is 4853645.5\n",
      "itr 8300 mse is 4737059.0\n",
      "itr 8400 mse is 4624385.0\n",
      "itr 8500 mse is 4514481.5\n",
      "itr 8600 mse is 4406223.5\n",
      "itr 8700 mse is 4298552.5\n",
      "itr 8800 mse is 4190523.25\n",
      "itr 8900 mse is 4081370.0\n",
      "itr 9000 mse is 3970561.0\n",
      "itr 9100 mse is 3857856.5\n",
      "itr 9200 mse is 3743333.0\n",
      "itr 9300 mse is 3627385.0\n",
      "itr 9400 mse is 3510675.25\n",
      "itr 9500 mse is 3394046.75\n",
      "itr 9600 mse is 3278418.25\n",
      "itr 9700 mse is 3164668.5\n",
      "itr 9800 mse is 3053571.5\n",
      "itr 9900 mse is 2945744.0\n",
      "itr 10000 mse is 2841641.25\n",
      "itr 10100 mse is 2741579.5\n",
      "itr 10200 mse is 2645758.5\n",
      "itr 10300 mse is 2554288.25\n",
      "itr 10400 mse is 2467212.25\n",
      "itr 10500 mse is 2384517.75\n",
      "itr 10600 mse is 2306142.25\n",
      "itr 10700 mse is 2231980.25\n",
      "itr 10800 mse is 2161885.0\n",
      "itr 10900 mse is 2095669.125\n",
      "itr 11000 mse is 2033116.375\n",
      "itr 11100 mse is 1973981.625\n",
      "itr 11200 mse is 1917998.375\n",
      "itr 11300 mse is 1864887.5\n",
      "itr 11400 mse is 1814361.625\n",
      "itr 11500 mse is 1766136.25\n",
      "itr 11600 mse is 1719931.125\n",
      "itr 11700 mse is 1675475.875\n",
      "itr 11800 mse is 1632515.25\n",
      "itr 11900 mse is 1590811.625\n",
      "itr 12000 mse is 1550146.5\n",
      "itr 12100 mse is 1510322.25\n",
      "itr 12200 mse is 1471165.375\n",
      "itr 12300 mse is 1432522.875\n",
      "itr 12400 mse is 1394266.125\n",
      "itr 12500 mse is 1356288.0\n",
      "itr 12600 mse is 1318501.0\n",
      "itr 12700 mse is 1280838.625\n",
      "itr 12800 mse is 1243248.375\n",
      "itr 12900 mse is 1205695.375\n",
      "itr 13000 mse is 1168153.5\n",
      "itr 13100 mse is 1130609.25\n",
      "itr 13200 mse is 1093058.5\n",
      "itr 13300 mse is 1055506.5\n",
      "itr 13400 mse is 1017968.3125\n",
      "itr 13500 mse is 980470.3125\n",
      "itr 13600 mse is 943052.3125\n",
      "itr 13700 mse is 905769.0\n",
      "itr 13800 mse is 868688.625\n",
      "itr 13900 mse is 831896.0625\n",
      "itr 14000 mse is 795488.3125\n",
      "itr 14100 mse is 759572.0\n",
      "itr 14200 mse is 724259.1875\n",
      "itr 14300 mse is 689663.125\n",
      "itr 14400 mse is 655890.5625\n",
      "itr 14500 mse is 623041.1875\n",
      "itr 14600 mse is 591199.5625\n",
      "itr 14700 mse is 560436.5625\n",
      "itr 14800 mse is 530805.375\n",
      "itr 14900 mse is 502342.28125\n",
      "itr 15000 mse is 475068.53125\n",
      "itr 15100 mse is 448990.21875\n",
      "itr 15200 mse is 424101.8125\n",
      "itr 15300 mse is 400387.1875\n",
      "itr 15400 mse is 377822.34375\n",
      "itr 15500 mse is 356377.0\n",
      "itr 15600 mse is 336017.15625\n",
      "itr 15700 mse is 316704.90625\n",
      "itr 15800 mse is 298401.28125\n",
      "itr 15900 mse is 281066.4375\n",
      "itr 16000 mse is 264660.34375\n",
      "itr 16100 mse is 249143.515625\n",
      "itr 16200 mse is 234476.859375\n",
      "itr 16300 mse is 220622.25\n",
      "itr 16400 mse is 207542.828125\n",
      "itr 16500 mse is 195202.71875\n",
      "itr 16600 mse is 183566.625\n",
      "itr 16700 mse is 172601.671875\n",
      "itr 16800 mse is 162274.9375\n",
      "itr 16900 mse is 152554.796875\n",
      "itr 17000 mse is 143410.796875\n",
      "itr 17100 mse is 134813.640625\n",
      "itr 17200 mse is 126734.8046875\n",
      "itr 17300 mse is 119146.765625\n",
      "itr 17400 mse is 112023.1015625\n",
      "itr 17500 mse is 105338.1328125\n",
      "itr 17600 mse is 99067.1875\n",
      "itr 17700 mse is 93186.703125\n",
      "itr 17800 mse is 87673.6484375\n",
      "itr 17900 mse is 82506.6328125\n",
      "itr 18000 mse is 77664.7265625\n",
      "itr 18100 mse is 73128.046875\n",
      "itr 18200 mse is 68877.9296875\n",
      "itr 18300 mse is 64896.16015625\n",
      "itr 18400 mse is 61165.75390625\n",
      "itr 18500 mse is 57670.6484375\n",
      "itr 18600 mse is 54395.53125\n",
      "itr 18700 mse is 51326.2890625\n",
      "itr 18800 mse is 48449.2890625\n",
      "itr 18900 mse is 45751.7734375\n",
      "itr 19000 mse is 43221.765625\n",
      "itr 19100 mse is 40848.39453125\n",
      "itr 19200 mse is 38620.7109375\n",
      "itr 19300 mse is 36529.3984375\n",
      "itr 19400 mse is 34565.328125\n",
      "itr 19500 mse is 32719.865234375\n",
      "itr 19600 mse is 30984.859375\n",
      "itr 19700 mse is 29353.7734375\n",
      "itr 19800 mse is 27818.83984375\n",
      "itr 19900 mse is 26373.935546875\n",
      "itr 20000 mse is 25013.267578125\n",
      "itr 20100 mse is 23731.34375\n",
      "itr 20200 mse is 22522.955078125\n",
      "itr 20300 mse is 21383.158203125\n",
      "itr 20400 mse is 20307.984375\n",
      "itr 20500 mse is 19293.09765625\n",
      "itr 20600 mse is 18334.416015625\n",
      "itr 20700 mse is 17428.568359375\n",
      "itr 20800 mse is 16572.48828125\n",
      "itr 20900 mse is 15763.0732421875\n",
      "itr 21000 mse is 14997.203125\n",
      "itr 21100 mse is 14272.076171875\n",
      "itr 21200 mse is 13585.8623046875\n",
      "itr 21300 mse is 12935.5263671875\n",
      "itr 21400 mse is 12319.826171875\n",
      "itr 21500 mse is 11736.0\n",
      "itr 21600 mse is 11181.87890625\n",
      "itr 21700 mse is 10656.71875\n",
      "itr 21800 mse is 10158.548828125\n",
      "itr 21900 mse is 9685.5126953125\n",
      "itr 22000 mse is 9236.0146484375\n",
      "itr 22100 mse is 8809.37890625\n",
      "itr 22200 mse is 8404.3681640625\n",
      "itr 22300 mse is 8019.78662109375\n",
      "itr 22400 mse is 7654.046875\n",
      "itr 22500 mse is 7306.24560546875\n",
      "itr 22600 mse is 6975.02783203125\n",
      "itr 22700 mse is 6660.24560546875\n",
      "itr 22800 mse is 6360.63671875\n",
      "itr 22900 mse is 6076.2998046875\n",
      "itr 23000 mse is 5805.1904296875\n",
      "itr 23100 mse is 5547.42431640625\n",
      "itr 23200 mse is 5302.02392578125\n",
      "itr 23300 mse is 5068.35546875\n",
      "itr 23400 mse is 4844.26416015625\n",
      "itr 23500 mse is 4632.59375\n",
      "itr 23600 mse is 4430.61865234375\n",
      "itr 23700 mse is 4237.83251953125\n",
      "itr 23800 mse is 4054.34521484375\n",
      "itr 23900 mse is 3879.202880859375\n",
      "itr 24000 mse is 3712.434326171875\n",
      "itr 24100 mse is 3553.490966796875\n",
      "itr 24200 mse is 3401.36181640625\n",
      "itr 24300 mse is 3256.32958984375\n",
      "itr 24400 mse is 3119.232421875\n",
      "itr 24500 mse is 2987.887939453125\n",
      "itr 24600 mse is 2861.6494140625\n",
      "itr 24700 mse is 2741.358154296875\n",
      "itr 24800 mse is 2627.6806640625\n",
      "itr 24900 mse is 2519.8642578125\n",
      "itr 25000 mse is 2415.291748046875\n",
      "itr 25100 mse is 2315.41943359375\n",
      "itr 25200 mse is 2220.093017578125\n",
      "itr 25300 mse is 2128.67626953125\n",
      "itr 25400 mse is 2041.59375\n",
      "itr 25500 mse is 1958.47119140625\n",
      "itr 25600 mse is 1879.2232666015625\n",
      "itr 25700 mse is 1803.771728515625\n",
      "itr 25800 mse is 1732.3541259765625\n",
      "itr 25900 mse is 1663.446533203125\n",
      "itr 26000 mse is 1597.6663818359375\n",
      "itr 26100 mse is 1534.993896484375\n",
      "itr 26200 mse is 1474.970947265625\n",
      "itr 26300 mse is 1417.656982421875\n",
      "itr 26400 mse is 1362.6806640625\n",
      "itr 26500 mse is 1310.4527587890625\n",
      "itr 26600 mse is 1259.9356689453125\n",
      "itr 26700 mse is 1210.786376953125\n",
      "itr 26800 mse is 1164.25634765625\n",
      "itr 26900 mse is 1120.23974609375\n",
      "itr 27000 mse is 1077.7822265625\n",
      "itr 27100 mse is 1037.3824462890625\n",
      "itr 27200 mse is 999.0131225585938\n",
      "itr 27300 mse is 962.3652954101562\n",
      "itr 27400 mse is 926.4133911132812\n",
      "itr 27500 mse is 892.1375122070312\n",
      "itr 27600 mse is 859.4705200195312\n",
      "itr 27700 mse is 828.3666381835938\n",
      "itr 27800 mse is 798.4000244140625\n",
      "itr 27900 mse is 769.0664672851562\n",
      "itr 28000 mse is 741.4752197265625\n",
      "itr 28100 mse is 715.3048095703125\n",
      "itr 28200 mse is 689.9176025390625\n",
      "itr 28300 mse is 665.5303955078125\n",
      "itr 28400 mse is 642.6363525390625\n",
      "itr 28500 mse is 620.72998046875\n",
      "itr 28600 mse is 600.1051025390625\n",
      "itr 28700 mse is 579.8770141601562\n",
      "itr 28800 mse is 560.4268798828125\n",
      "itr 28900 mse is 541.5193481445312\n",
      "itr 29000 mse is 524.1831665039062\n",
      "itr 29100 mse is 507.2231140136719\n",
      "itr 29200 mse is 491.0095520019531\n",
      "itr 29300 mse is 475.076416015625\n",
      "itr 29400 mse is 460.157958984375\n",
      "itr 29500 mse is 445.6443786621094\n",
      "itr 29600 mse is 431.7461853027344\n",
      "itr 29700 mse is 418.4895935058594\n",
      "itr 29800 mse is 405.9263916015625\n",
      "itr 29900 mse is 393.8049011230469\n",
      "itr 30000 mse is 382.0312194824219\n",
      "itr 30100 mse is 370.9402770996094\n",
      "itr 30200 mse is 360.1260986328125\n",
      "itr 30300 mse is 349.5943908691406\n",
      "itr 30400 mse is 339.01043701171875\n",
      "itr 30500 mse is 328.2820129394531\n",
      "itr 30600 mse is 318.39727783203125\n",
      "itr 30700 mse is 310.1457824707031\n",
      "itr 30800 mse is 302.8457336425781\n",
      "itr 30900 mse is 294.7486877441406\n",
      "itr 31000 mse is 287.3533020019531\n",
      "itr 31100 mse is 279.5725402832031\n",
      "itr 31200 mse is 271.85516357421875\n",
      "itr 31300 mse is 265.0263977050781\n",
      "itr 31400 mse is 258.2203063964844\n",
      "itr 31500 mse is 251.6090850830078\n",
      "itr 31600 mse is 245.1131591796875\n",
      "itr 31700 mse is 239.2442169189453\n",
      "itr 31800 mse is 233.32923889160156\n",
      "itr 31900 mse is 226.65647888183594\n",
      "itr 32000 mse is 220.45968627929688\n",
      "itr 32100 mse is 214.54908752441406\n",
      "itr 32200 mse is 209.30174255371094\n",
      "itr 32300 mse is 203.89022827148438\n",
      "itr 32400 mse is 199.1272735595703\n",
      "itr 32500 mse is 194.40028381347656\n",
      "itr 32600 mse is 190.59927368164062\n",
      "itr 32700 mse is 186.42642211914062\n",
      "itr 32800 mse is 182.5911102294922\n",
      "itr 32900 mse is 178.40597534179688\n",
      "itr 33000 mse is 174.60946655273438\n",
      "itr 33100 mse is 170.84718322753906\n",
      "itr 33200 mse is 167.0012664794922\n",
      "itr 33300 mse is 163.22108459472656\n",
      "itr 33400 mse is 159.99899291992188\n",
      "itr 33500 mse is 156.92002868652344\n",
      "itr 33600 mse is 153.4008026123047\n",
      "itr 33700 mse is 149.7124786376953\n",
      "itr 33800 mse is 147.4243927001953\n",
      "itr 33900 mse is 144.50140380859375\n",
      "itr 34000 mse is 141.82376098632812\n",
      "itr 34100 mse is 139.4851837158203\n",
      "itr 34200 mse is 137.9212188720703\n",
      "itr 34300 mse is 135.48211669921875\n",
      "itr 34400 mse is 133.0494842529297\n",
      "itr 34500 mse is 131.12435913085938\n",
      "itr 34600 mse is 128.9161376953125\n",
      "itr 34700 mse is 126.75965118408203\n",
      "itr 34800 mse is 126.15006256103516\n",
      "itr 34900 mse is 123.8779296875\n",
      "itr 35000 mse is 122.1676025390625\n",
      "itr 35100 mse is 120.28630065917969\n",
      "itr 35200 mse is 118.27845764160156\n",
      "itr 35300 mse is 116.7649917602539\n",
      "itr 35400 mse is 115.36700439453125\n",
      "itr 35500 mse is 114.35755157470703\n",
      "itr 35600 mse is 112.43840026855469\n",
      "itr 35700 mse is 111.10579681396484\n",
      "itr 35800 mse is 110.31244659423828\n",
      "itr 35900 mse is 109.3208236694336\n",
      "itr 36000 mse is 107.49172973632812\n",
      "itr 36100 mse is 107.00100708007812\n",
      "itr 36200 mse is 105.7718276977539\n",
      "itr 36300 mse is 104.69615936279297\n",
      "itr 36400 mse is 104.49385833740234\n",
      "itr 36500 mse is 104.10718536376953\n",
      "itr 36600 mse is 103.48091888427734\n",
      "itr 36700 mse is 102.63384246826172\n",
      "itr 36800 mse is 102.42180633544922\n",
      "itr 36900 mse is 102.12776947021484\n",
      "itr 37000 mse is 101.53179931640625\n",
      "itr 37100 mse is 101.19752502441406\n",
      "itr 37200 mse is 101.141845703125\n",
      "itr 37300 mse is 100.6446762084961\n",
      "itr 37400 mse is 99.88172912597656\n",
      "itr 37500 mse is 98.92972564697266\n",
      "itr 37600 mse is 97.33873748779297\n",
      "itr 37700 mse is 95.96165466308594\n",
      "itr 37800 mse is 94.9874267578125\n",
      "itr 37900 mse is 93.98455047607422\n",
      "itr 38000 mse is 93.43548583984375\n",
      "itr 38100 mse is 92.77217102050781\n",
      "itr 38200 mse is 92.4361801147461\n",
      "itr 38300 mse is 91.64921569824219\n",
      "itr 38400 mse is 90.92161560058594\n",
      "itr 38500 mse is 90.0461654663086\n",
      "itr 38600 mse is 88.82137298583984\n",
      "itr 38700 mse is 88.2805404663086\n",
      "itr 38800 mse is 87.36514282226562\n",
      "itr 38900 mse is 86.91577911376953\n",
      "itr 39000 mse is 86.49673461914062\n",
      "itr 39100 mse is 86.12077331542969\n",
      "itr 39200 mse is 85.80934143066406\n",
      "itr 39300 mse is 85.11248016357422\n",
      "itr 39400 mse is 85.13369750976562\n",
      "itr 39500 mse is 85.01072692871094\n",
      "itr 39600 mse is 84.8122329711914\n",
      "itr 39700 mse is 84.50102996826172\n",
      "itr 39800 mse is 84.36913299560547\n",
      "itr 39900 mse is 84.23133850097656\n",
      "itr 40000 mse is 83.97785186767578\n",
      "itr 40100 mse is 83.22156524658203\n",
      "itr 40200 mse is 82.5887451171875\n",
      "itr 40300 mse is 81.87191772460938\n",
      "itr 40400 mse is 81.7326431274414\n",
      "itr 40500 mse is 81.01554870605469\n",
      "itr 40600 mse is 81.67833709716797\n",
      "itr 40700 mse is 80.67986297607422\n",
      "itr 40800 mse is 80.17005157470703\n",
      "itr 40900 mse is 81.03953552246094\n",
      "itr 41000 mse is 80.29159545898438\n",
      "itr 41100 mse is 79.90235137939453\n",
      "itr 41200 mse is 79.2974624633789\n",
      "itr 41300 mse is 78.92339324951172\n",
      "itr 41400 mse is 78.94469451904297\n",
      "itr 41500 mse is 78.7060317993164\n",
      "itr 41600 mse is 79.10406494140625\n",
      "itr 41700 mse is 78.30122375488281\n",
      "itr 41800 mse is 78.06465148925781\n",
      "itr 41900 mse is 78.77519989013672\n",
      "itr 42000 mse is 78.09176635742188\n",
      "itr 42100 mse is 77.59449768066406\n",
      "itr 42200 mse is 77.7149429321289\n",
      "itr 42300 mse is 77.76084899902344\n",
      "itr 42400 mse is 77.68496704101562\n",
      "itr 42500 mse is 77.38105773925781\n",
      "itr 42600 mse is 77.57846069335938\n",
      "itr 42700 mse is 77.8443603515625\n",
      "itr 42800 mse is 78.65950012207031\n",
      "itr 42900 mse is 79.24099731445312\n",
      "itr 43000 mse is 80.27265167236328\n",
      "itr 43100 mse is 80.5357894897461\n",
      "itr 43200 mse is 80.85108184814453\n",
      "itr 43300 mse is 80.94363403320312\n",
      "itr 43400 mse is 81.38858032226562\n",
      "itr 43500 mse is 82.23365783691406\n",
      "itr 43600 mse is 82.68650817871094\n",
      "itr 43700 mse is 82.98934936523438\n",
      "itr 43800 mse is 83.34075927734375\n",
      "itr 43900 mse is 83.79380798339844\n",
      "itr 44000 mse is 83.71278381347656\n",
      "itr 44100 mse is 83.67761993408203\n",
      "itr 44200 mse is 83.74193572998047\n",
      "itr 44300 mse is 83.49821472167969\n",
      "itr 44400 mse is 83.37681579589844\n",
      "itr 44500 mse is 83.08183288574219\n",
      "itr 44600 mse is 82.64800262451172\n",
      "itr 44700 mse is 81.76226806640625\n",
      "itr 44800 mse is 80.92455291748047\n",
      "itr 44900 mse is 80.1126937866211\n",
      "itr 45000 mse is 79.45944213867188\n",
      "itr 45100 mse is 78.26407623291016\n",
      "itr 45200 mse is 77.3342056274414\n",
      "itr 45300 mse is 76.72722625732422\n",
      "itr 45400 mse is 76.03282928466797\n",
      "itr 45500 mse is 75.41094207763672\n",
      "itr 45600 mse is 75.00902557373047\n",
      "itr 45700 mse is 74.4345932006836\n",
      "itr 45800 mse is 75.06843566894531\n",
      "itr 45900 mse is 74.71969604492188\n",
      "itr 46000 mse is 74.86526489257812\n",
      "itr 46100 mse is 74.90360260009766\n",
      "itr 46200 mse is 75.02853393554688\n",
      "itr 46300 mse is 74.43851470947266\n",
      "itr 46400 mse is 73.98538970947266\n",
      "itr 46500 mse is 73.90052795410156\n",
      "itr 46600 mse is 73.86543273925781\n",
      "itr 46700 mse is 74.215087890625\n",
      "itr 46800 mse is 74.58480834960938\n",
      "itr 46900 mse is 73.76387023925781\n",
      "itr 47000 mse is 73.87812042236328\n",
      "itr 47100 mse is 74.30188751220703\n",
      "itr 47200 mse is 73.81314849853516\n",
      "itr 47300 mse is 73.81928253173828\n",
      "itr 47400 mse is 74.4684829711914\n",
      "itr 47500 mse is 74.46428680419922\n",
      "itr 47600 mse is 73.88273620605469\n",
      "itr 47700 mse is 73.54594421386719\n",
      "itr 47800 mse is 73.67913818359375\n",
      "itr 47900 mse is 73.80953979492188\n",
      "itr 48000 mse is 74.18675994873047\n",
      "itr 48100 mse is 74.05168914794922\n",
      "itr 48200 mse is 73.95082092285156\n",
      "itr 48300 mse is 74.16375732421875\n",
      "itr 48400 mse is 74.25685119628906\n",
      "itr 48500 mse is 74.36543273925781\n",
      "itr 48600 mse is 74.34158325195312\n",
      "itr 48700 mse is 74.62259674072266\n",
      "itr 48800 mse is 74.94678497314453\n",
      "itr 48900 mse is 75.09864044189453\n",
      "itr 49000 mse is 75.5804672241211\n",
      "itr 49100 mse is 76.05220794677734\n",
      "itr 49200 mse is 76.154052734375\n",
      "itr 49300 mse is 76.58338928222656\n",
      "itr 49400 mse is 76.86328125\n",
      "itr 49500 mse is 76.93360900878906\n",
      "itr 49600 mse is 77.08527374267578\n",
      "itr 49700 mse is 77.35087585449219\n",
      "itr 49800 mse is 77.60420227050781\n",
      "itr 49900 mse is 77.67214965820312\n"
     ]
    }
   ],
   "source": [
    "start_time = time.time()\n",
    "optimization(G_opt, U_opt, data, my_optimizer, itr, eps)\n",
    "whole_time = time.time()-start_time"
   ]
  },
  {
   "cell_type": "code",
   "execution_count": 233,
   "metadata": {},
   "outputs": [
    {
     "name": "stdout",
     "output_type": "stream",
     "text": [
      "mse for lib optimizer: 0.025142613798379898\n",
      "Wall time: 761 ms\n"
     ]
    }
   ],
   "source": [
    "%%time\n",
    "tG, tU = tensorly.decomposition.tucker(tensorly.tensor(data), G.shape)\n",
    "tdata = torch.tensor(tensorly.tenalg.multi_mode_dot(tG, tU))\n",
    "print(f'mse for lib optimizer: {mse_loss(tdata, data)}')"
   ]
  },
  {
   "cell_type": "code",
   "execution_count": 234,
   "metadata": {},
   "outputs": [
    {
     "name": "stdout",
     "output_type": "stream",
     "text": [
      "mse for my optimizer: 77.49583435058594\n"
     ]
    },
    {
     "name": "stderr",
     "output_type": "stream",
     "text": [
      "C:\\Users\\0717~1\\AppData\\Local\\Temp/ipykernel_13616/3178578322.py:1: UserWarning: To copy construct from a tensor, it is recommended to use sourceTensor.clone().detach() or sourceTensor.clone().detach().requires_grad_(True), rather than torch.tensor(sourceTensor).\n",
      "  data_opt = torch.tensor(repair_tensor(G_opt, U_opt))\n"
     ]
    }
   ],
   "source": [
    "data_opt = torch.tensor(repair_tensor(G_opt, U_opt))\n",
    "print(f'mse for my optimizer: {mse_loss(data_opt, data)}')"
   ]
  },
  {
   "cell_type": "code",
   "execution_count": null,
   "metadata": {},
   "outputs": [],
   "source": []
  },
  {
   "cell_type": "code",
   "execution_count": null,
   "metadata": {},
   "outputs": [],
   "source": []
  }
 ],
 "metadata": {
  "colab": {
   "provenance": []
  },
  "kernelspec": {
   "display_name": "Python 3 (ipykernel)",
   "language": "python",
   "name": "python3"
  },
  "language_info": {
   "codemirror_mode": {
    "name": "ipython",
    "version": 3
   },
   "file_extension": ".py",
   "mimetype": "text/x-python",
   "name": "python",
   "nbconvert_exporter": "python",
   "pygments_lexer": "ipython3",
   "version": "3.9.7"
  }
 },
 "nbformat": 4,
 "nbformat_minor": 4
}
